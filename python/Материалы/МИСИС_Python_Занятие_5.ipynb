{
 "cells": [
  {
   "cell_type": "markdown",
   "metadata": {
    "id": "o6ZXAYwIuzMU"
   },
   "source": [
    "## Работа с файловой системой\n",
    "\n",
    "Иногда, когда мы пишем код для анализа данных, нам нужно поработать с файловой системой – неважно, работаем мы на своем компьютере или в облаке.\n",
    "\n",
    "Есть несколько полезных команд, которые нужно знать.  \n",
    "Для начала давайте создадим файл и запишем туда текст:"
   ]
  },
  {
   "cell_type": "code",
   "execution_count": null,
   "metadata": {
    "id": "Y-Vkq_ZlEQqw"
   },
   "outputs": [],
   "source": [
    "with open(\"test.txt\", 'w') as f:\n",
    "  f.write(\"Hello\\nworld\")"
   ]
  },
  {
   "cell_type": "markdown",
   "metadata": {
    "id": "IklPIoEMFHdz"
   },
   "source": [
    "Программы можно вызывать в командной строке через ноутбук (Jupyter или Colab). Для этого нужно поставить в начале строки символ \"!\"\n",
    "\n",
    "Первая полезная команда – `ls`. Эта команда выводит на экран содержимое текущей директории. При выполнении мы должны увидеть файл, который только что создали:"
   ]
  },
  {
   "cell_type": "markdown",
   "metadata": {
    "id": "3PFeMCy3A0Yj"
   },
   "source": []
  },
  {
   "cell_type": "code",
   "execution_count": null,
   "metadata": {
    "colab": {
     "base_uri": "https://localhost:8080/"
    },
    "id": "lkjsa6yCFfVx",
    "outputId": "55dfed05-25d4-4e98-d5d4-c7308ddc5bbc"
   },
   "outputs": [
    {
     "name": "stdout",
     "output_type": "stream",
     "text": [
      "test.txt\n"
     ]
    }
   ],
   "source": [
    "!ls"
   ]
  },
  {
   "cell_type": "markdown",
   "metadata": {
    "id": "tLXItU21Fpat"
   },
   "source": [
    "К командам можно добавлять ключи, чтобы изменять их поведение.  \n",
    "К `ls` можно добавить ключ `l`, чтобы увидеть более подробную информацию о содержимом текущей директории. Ключи добавляются после символа `-`"
   ]
  },
  {
   "cell_type": "code",
   "execution_count": null,
   "metadata": {
    "colab": {
     "base_uri": "https://localhost:8080/"
    },
    "id": "T8MNprpVFra7",
    "outputId": "2e6f7039-ce1f-4d5f-bc89-01cae1c5583d"
   },
   "outputs": [
    {
     "name": "stdout",
     "output_type": "stream",
     "text": [
      "total 4\n",
      "-rw-r--r-- 1 root root 11 Sep 13 21:33 test.txt\n"
     ]
    }
   ],
   "source": [
    "!ls -l"
   ]
  },
  {
   "cell_type": "markdown",
   "metadata": {
    "id": "esA2__SlF9FN"
   },
   "source": [
    "Из командной строки можно получить содержимое файла. Для этого используется команда `cat`.  \n",
    "Если файл большой, то лучше посмотреть на него другими инструментами, но иногда бывает полезно быстро увидеть, например, результаты выполнения программы:"
   ]
  },
  {
   "cell_type": "code",
   "execution_count": null,
   "metadata": {
    "colab": {
     "base_uri": "https://localhost:8080/"
    },
    "id": "chwGS77NFEnQ",
    "outputId": "aba8fcd9-74db-4cbc-859f-10380c926511"
   },
   "outputs": [
    {
     "name": "stdout",
     "output_type": "stream",
     "text": [
      "Hello\n",
      "world"
     ]
    }
   ],
   "source": [
    "!cat test.txt"
   ]
  },
  {
   "cell_type": "markdown",
   "metadata": {
    "id": "M7lr3rq1Ggel"
   },
   "source": [
    "Если нужно посмотреть только первые или последние m строк в файле, то мы можем использовать команды head и tail с ключом `-n`.  \n",
    "После ключа мы пишем m – количество строк, которые мы хотим увидеть:"
   ]
  },
  {
   "cell_type": "code",
   "execution_count": null,
   "metadata": {
    "colab": {
     "base_uri": "https://localhost:8080/"
    },
    "id": "Vt6ICI11Gsz5",
    "outputId": "4a312755-eeb0-4c70-a4f6-6af979d85632"
   },
   "outputs": [
    {
     "name": "stdout",
     "output_type": "stream",
     "text": [
      "Hello\n"
     ]
    }
   ],
   "source": [
    "!head test.txt -n 1"
   ]
  },
  {
   "cell_type": "code",
   "execution_count": null,
   "metadata": {
    "colab": {
     "base_uri": "https://localhost:8080/"
    },
    "id": "8T-wpzm9GWR0",
    "outputId": "b0d78e8d-32af-4eb3-a1c3-66bf71fb5bc9"
   },
   "outputs": [
    {
     "name": "stdout",
     "output_type": "stream",
     "text": [
      "world"
     ]
    }
   ],
   "source": [
    "!tail test.txt -n 1"
   ]
  },
  {
   "cell_type": "markdown",
   "metadata": {
    "id": "bkqBVc9JG0tg"
   },
   "source": [
    "Также, можно создавать папки и перемещаться в них.  \n",
    "Создаем папки с помощью `mkdir`:"
   ]
  },
  {
   "cell_type": "code",
   "execution_count": null,
   "metadata": {
    "id": "TT60LWGiHBY8"
   },
   "outputs": [],
   "source": [
    "!mkdir test_folder"
   ]
  },
  {
   "cell_type": "code",
   "execution_count": null,
   "metadata": {
    "colab": {
     "base_uri": "https://localhost:8080/"
    },
    "id": "nW4_trRwHDXN",
    "outputId": "ad12e579-7a22-4b11-dd50-0eb7745da938"
   },
   "outputs": [
    {
     "name": "stdout",
     "output_type": "stream",
     "text": [
      "test_folder  test.txt\n"
     ]
    }
   ],
   "source": [
    "!ls"
   ]
  },
  {
   "cell_type": "markdown",
   "metadata": {
    "id": "35zkvSH0HGpJ"
   },
   "source": [
    "Перемещаться между директориями можно с помощью команды `cd`.  \n",
    "**Важно:** если вы используете Google Colab, то перед `cd` не нужно ставить символ `!`, иначе переход в новую директорию совершится в отдельном подпроцессе и вы не получите ожидаемый результат."
   ]
  },
  {
   "cell_type": "code",
   "execution_count": null,
   "metadata": {
    "colab": {
     "base_uri": "https://localhost:8080/"
    },
    "id": "oiZDjAl5HF-D",
    "outputId": "6b06d007-9a04-4772-882a-b450a7f36dfd"
   },
   "outputs": [
    {
     "name": "stdout",
     "output_type": "stream",
     "text": [
      "/content/test_folder\n"
     ]
    }
   ],
   "source": [
    "cd test_folder"
   ]
  },
  {
   "cell_type": "code",
   "execution_count": null,
   "metadata": {
    "id": "sLbNel6QHOG5"
   },
   "outputs": [],
   "source": [
    "!ls"
   ]
  },
  {
   "cell_type": "markdown",
   "metadata": {
    "id": "lxhwaQt_H25l"
   },
   "source": [
    "Как видим, в этой папке ничего нет. Давайте переместим в нее наш файл. Для перемещения нужно использовать команду `mv <откуда перемещаем> <куда перемещаем>`  \n",
    "При этом, символ `.` обозначает текущую директорию, а `..` – директорию на уровень выше."
   ]
  },
  {
   "cell_type": "code",
   "execution_count": null,
   "metadata": {
    "id": "Ymuhr5dtH87Y"
   },
   "outputs": [],
   "source": [
    "!mv ../test.txt ./"
   ]
  },
  {
   "cell_type": "code",
   "execution_count": null,
   "metadata": {
    "colab": {
     "base_uri": "https://localhost:8080/"
    },
    "id": "lLyNeAdgH_vJ",
    "outputId": "49fa8ec9-0430-407e-a7b6-19b7a34a1c7c"
   },
   "outputs": [
    {
     "name": "stdout",
     "output_type": "stream",
     "text": [
      "test.txt\n"
     ]
    }
   ],
   "source": [
    "!ls"
   ]
  },
  {
   "cell_type": "markdown",
   "metadata": {
    "id": "8ZtC0ZbqIXa8"
   },
   "source": [
    "Как видно, файл переместился в папку, которую мы создали. Проверим, что это действительно та папка, выведя на экран путь к текущей директории с помощью команды `pwd`:"
   ]
  },
  {
   "cell_type": "code",
   "execution_count": null,
   "metadata": {
    "colab": {
     "base_uri": "https://localhost:8080/"
    },
    "id": "VijVywrtIXDA",
    "outputId": "fd0ff809-6bdd-49f7-d0ea-3e8d768a1ee9"
   },
   "outputs": [
    {
     "name": "stdout",
     "output_type": "stream",
     "text": [
      "/content/test_folder\n"
     ]
    }
   ],
   "source": [
    "!pwd"
   ]
  },
  {
   "cell_type": "code",
   "execution_count": null,
   "metadata": {
    "colab": {
     "base_uri": "https://localhost:8080/"
    },
    "id": "N0h5TVSVIjtw",
    "outputId": "0dd6b793-a5ff-4180-ac46-a6ad88970d9a"
   },
   "outputs": [
    {
     "name": "stdout",
     "output_type": "stream",
     "text": [
      "/content\n"
     ]
    }
   ],
   "source": [
    "cd .."
   ]
  },
  {
   "cell_type": "markdown",
   "metadata": {
    "id": "cocRnEeTIiap"
   },
   "source": [
    "Наконец, давайте прочитаем наш файл с помощью Python, чтобы убедиться, что ничего не сломалось при его перемещении:"
   ]
  },
  {
   "cell_type": "code",
   "execution_count": null,
   "metadata": {
    "colab": {
     "base_uri": "https://localhost:8080/"
    },
    "id": "dnjTC21dItBX",
    "outputId": "5705227c-91d8-480c-83e4-b6f9ebc7eda4"
   },
   "outputs": [
    {
     "name": "stdout",
     "output_type": "stream",
     "text": [
      "['Hello\\n', 'world']\n"
     ]
    }
   ],
   "source": [
    "with open(\"./test_folder/test.txt\", 'r') as f:\n",
    "  text = f.readlines()\n",
    "\n",
    "print(text)"
   ]
  },
  {
   "cell_type": "markdown",
   "metadata": {
    "id": "zqHgJP4lbpqD"
   },
   "source": [
    "## Модули"
   ]
  },
  {
   "cell_type": "markdown",
   "metadata": {
    "id": "hxhblSpfcB8R"
   },
   "source": [
    "Мы часто используем в коде функции и классы, которые относятся к какой-то конкретной сфере. Например, мы можем написать несколько функций для чтения разных форматов данных.  \n",
    "\n",
    "Когда такое происходит, нам удобно вынести эти методы в отдельный файл, чтобы всегда иметь к ним доступ. Таким образом, мы создаем новые модули (библиотеки).\n",
    "\n",
    "Чтобы их использовать, нужно их импортировать:\n",
    "\n",
    "```python\n",
    "import random\n",
    "```\n",
    "\n",
    "Теперь мы можем обращаться к функциям из этого модуля через точку:\n",
    "\n",
    "```python\n",
    "random.randint(5)\n",
    "```\n",
    "\n",
    "Мы можем импортировать только нужные нам сейчас функции и классы:\n",
    "\n",
    "```python\n",
    "from random import randint as r\n",
    "```\n",
    "\n",
    "Также, можно импортировать вообще все, что есть в модуле:\n",
    "\n",
    "```python\n",
    "from random import *\n",
    "```\n",
    "\n",
    "Но так делать не стоит."
   ]
  },
  {
   "cell_type": "markdown",
   "metadata": {
    "id": "Gc-U_eROc4qv"
   },
   "source": [
    "Пример: создадим случайное число в каком-то промежутке:"
   ]
  },
  {
   "cell_type": "code",
   "execution_count": null,
   "metadata": {
    "colab": {
     "base_uri": "https://localhost:8080/"
    },
    "id": "Ki9DSu_2bPIP",
    "outputId": "d2720be2-c154-4646-f9f1-c1712c34443f"
   },
   "outputs": [
    {
     "data": {
      "text/plain": [
       "21.786989973029296"
      ]
     },
     "execution_count": 1,
     "metadata": {},
     "output_type": "execute_result"
    }
   ],
   "source": [
    "from random import uniform\n",
    "\n",
    "uniform(5, 30)"
   ]
  },
  {
   "cell_type": "markdown",
   "metadata": {
    "id": "wVCqizvzdMO8"
   },
   "source": [
    "Еще один полезный модуль: `math`.\n",
    "\n",
    "Он содержит математические функции:"
   ]
  },
  {
   "cell_type": "code",
   "execution_count": null,
   "metadata": {
    "colab": {
     "base_uri": "https://localhost:8080/"
    },
    "id": "tjMhsFzyc-LB",
    "outputId": "ddf09645-2a3d-48cc-8d3e-c09d4b37980b"
   },
   "outputs": [
    {
     "data": {
      "text/plain": [
       "-1.0"
      ]
     },
     "execution_count": 3,
     "metadata": {},
     "output_type": "execute_result"
    }
   ],
   "source": [
    "import math\n",
    "\n",
    "math.cos(math.pi)"
   ]
  },
  {
   "cell_type": "markdown",
   "metadata": {
    "id": "v8lzhOwAduHT"
   },
   "source": [
    "## Работа с данными\n",
    "\n"
   ]
  },
  {
   "cell_type": "markdown",
   "metadata": {
    "id": "gLKJwHjsW06d"
   },
   "source": [
    "### CSV\n",
    "\n",
    "При анализе данных мы часто работаем с табличными данными. Обычно они находятся в формате csv – comma separated values. Это означает, что данные хранятся по строкам и столбцы отделены друг от друга запятыми.\n",
    "\n",
    "Позже мы научимся работать с такими данными с помощью более удобных библиотек, а пока обойдемся стандартными средствами Python:"
   ]
  },
  {
   "cell_type": "code",
   "execution_count": null,
   "metadata": {
    "id": "pnJL2AvcdV7l"
   },
   "outputs": [],
   "source": [
    "!echo -e 'name,last_name,age,city\\n\\\n",
    "Emil,Magerramov,28,SPb\\n\\\n",
    "Sergey,Verentsov,26,Moscow' > data.csv"
   ]
  },
  {
   "cell_type": "code",
   "execution_count": null,
   "metadata": {
    "colab": {
     "base_uri": "https://localhost:8080/"
    },
    "id": "8ewnSlPjdqZ5",
    "outputId": "fa47d9f3-a195-4518-95bb-7ad43824b16e"
   },
   "outputs": [
    {
     "name": "stdout",
     "output_type": "stream",
     "text": [
      "name,last_name,age,city\n",
      "Emil,Magerramov,28,SPb\n",
      "Sergey,Verentsov,26,Moscow\n"
     ]
    }
   ],
   "source": [
    "!cat data.csv"
   ]
  },
  {
   "cell_type": "code",
   "execution_count": null,
   "metadata": {
    "colab": {
     "base_uri": "https://localhost:8080/"
    },
    "id": "7BSMWTX8drhV",
    "outputId": "8cbc6580-08be-4f05-bf1e-784f62ceb825"
   },
   "outputs": [
    {
     "data": {
      "text/plain": [
       "['name,last_name,age,city',\n",
       " 'Emil,Magerramov,28,SPb',\n",
       " 'Sergey,Verentsov,26,Moscow']"
      ]
     },
     "execution_count": 17,
     "metadata": {},
     "output_type": "execute_result"
    }
   ],
   "source": [
    "with open('data.csv', 'r') as f:\n",
    "  data = [line[:-1] for line in f.readlines()]\n",
    "\n",
    "data"
   ]
  },
  {
   "cell_type": "code",
   "execution_count": null,
   "metadata": {
    "id": "zL79qtKueEXq"
   },
   "outputs": [],
   "source": [
    "def lines_to_dict(lines):\n",
    "  keys = lines[0].split(',')\n",
    "  dict_result = {}\n",
    "  for entry_index in range(1, len(lines)):\n",
    "    dict_result[entry_index] = {}\n",
    "    entry_values = lines[entry_index].split(',')\n",
    "\n",
    "    assert len(keys) == len(entry_values), \"Количество столбцов не совпадает\"\n",
    "    for value_index in range(len(entry_values)):\n",
    "      dict_result[entry_index][keys[value_index]] = entry_values[value_index]\n",
    "\n",
    "  return dict_result"
   ]
  },
  {
   "cell_type": "code",
   "execution_count": null,
   "metadata": {
    "id": "r_IasP5jXYWU"
   },
   "outputs": [],
   "source": [
    "dict_data = lines_to_dict(data)"
   ]
  },
  {
   "cell_type": "markdown",
   "metadata": {
    "id": "MiNNdulcYFuy"
   },
   "source": [
    "### JSON\n",
    "\n",
    "Еще один способ хранения данных – хранить их в формате JSON. Он очень похож на словарь, мы сейчас в этом убедимся:"
   ]
  },
  {
   "cell_type": "code",
   "execution_count": null,
   "metadata": {
    "id": "HlBTtj5jXaes"
   },
   "outputs": [],
   "source": [
    "import json\n",
    "\n",
    "def pretty_print_dict(dictionary):\n",
    "  print(json.dumps(dictionary, sort_keys=True, indent=2, ensure_ascii=False))"
   ]
  },
  {
   "cell_type": "code",
   "execution_count": null,
   "metadata": {
    "colab": {
     "base_uri": "https://localhost:8080/"
    },
    "id": "ZKWSI9-nXjNj",
    "outputId": "7b909e29-82c1-4015-e21d-dd3f1e598e72"
   },
   "outputs": [
    {
     "name": "stdout",
     "output_type": "stream",
     "text": [
      "{\n",
      "  \"1\": {\n",
      "    \"age\": \"28\",\n",
      "    \"city\": \"SPb\",\n",
      "    \"last_name\": \"Magerramov\",\n",
      "    \"name\": \"Emil\"\n",
      "  },\n",
      "  \"2\": {\n",
      "    \"age\": \"26\",\n",
      "    \"city\": \"Moscow\",\n",
      "    \"last_name\": \"Verentsov\",\n",
      "    \"name\": \"Sergey\"\n",
      "  }\n",
      "}\n"
     ]
    }
   ],
   "source": [
    "pretty_print_dict(dict_data)"
   ]
  },
  {
   "cell_type": "code",
   "execution_count": null,
   "metadata": {
    "id": "RyN4M_7AXkxA"
   },
   "outputs": [],
   "source": [
    "with open(\"./data.json\", 'w') as f:\n",
    "  json.dump(dict_data, f)"
   ]
  },
  {
   "cell_type": "code",
   "execution_count": null,
   "metadata": {
    "colab": {
     "base_uri": "https://localhost:8080/"
    },
    "id": "nCfQImoKYTlt",
    "outputId": "e9aa88ba-41f0-4006-c4b9-849afc1a02e7"
   },
   "outputs": [
    {
     "name": "stdout",
     "output_type": "stream",
     "text": [
      "{\"1\": {\"name\": \"Emil\", \"last_name\": \"Magerramov\", \"age\": \"28\", \"city\": \"SPb\"}, \"2\": {\"name\": \"Sergey\", \"last_name\": \"Verentsov\", \"age\": \"26\", \"city\": \"Moscow\"}}"
     ]
    }
   ],
   "source": [
    "!cat data.json"
   ]
  },
  {
   "cell_type": "code",
   "execution_count": null,
   "metadata": {
    "id": "Uwev3orEYwvf"
   },
   "outputs": [],
   "source": [
    "with open(\"./data.json\", 'r') as f:\n",
    "  dict_data_from_json = json.load(f)"
   ]
  },
  {
   "cell_type": "code",
   "execution_count": null,
   "metadata": {
    "colab": {
     "base_uri": "https://localhost:8080/"
    },
    "id": "9MuQro24Y48M",
    "outputId": "53385f84-0210-46a6-9149-f24c1223c142"
   },
   "outputs": [
    {
     "name": "stdout",
     "output_type": "stream",
     "text": [
      "{\n",
      "  \"1\": {\n",
      "    \"age\": \"28\",\n",
      "    \"city\": \"SPb\",\n",
      "    \"last_name\": \"Magerramov\",\n",
      "    \"name\": \"Emil\"\n",
      "  },\n",
      "  \"2\": {\n",
      "    \"age\": \"26\",\n",
      "    \"city\": \"Moscow\",\n",
      "    \"last_name\": \"Verentsov\",\n",
      "    \"name\": \"Sergey\"\n",
      "  }\n",
      "}\n"
     ]
    }
   ],
   "source": [
    "pretty_print_dict(dict_data_from_json)"
   ]
  },
  {
   "cell_type": "markdown",
   "metadata": {
    "id": "addEbEOTl1hK"
   },
   "source": [
    "## Самостоятельная работа\n",
    "\n",
    "1. Напишите функцию, которая берет на вход словарь, в котором каждое значение – это словарь с записями (как в примерах выше) и возвращает строку в виде csv."
   ]
  },
  {
   "cell_type": "markdown",
   "metadata": {
    "id": "rortpgh-mKDR"
   },
   "source": [
    "2. Улучшите предыдущую функцию, чтобы она считывала json с файловой системы и записывала csv в ту же папку."
   ]
  },
  {
   "cell_type": "markdown",
   "metadata": {
    "id": "Lu7CYKBVm7so"
   },
   "source": [
    "3. Сделайте функцию, которая принимает на вход путь к json-файлу и список ключей. Функция должна считать json с файловой системы, удалить пары ключ:значение для ключей из входного списка и возвращала словарь-результат."
   ]
  }
 ],
 "metadata": {
  "colab": {
   "name": "МИСИС Python Занятие 5.ipynb",
   "provenance": [],
   "toc_visible": true
  },
  "kernelspec": {
   "display_name": "Python 3",
   "language": "python",
   "name": "python3"
  },
  "language_info": {
   "codemirror_mode": {
    "name": "ipython",
    "version": 3
   },
   "file_extension": ".py",
   "mimetype": "text/x-python",
   "name": "python",
   "nbconvert_exporter": "python",
   "pygments_lexer": "ipython3",
   "version": "3.9.5"
  }
 },
 "nbformat": 4,
 "nbformat_minor": 1
}
