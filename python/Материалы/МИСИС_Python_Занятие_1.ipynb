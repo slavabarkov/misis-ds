{
  "nbformat": 4,
  "nbformat_minor": 0,
  "metadata": {
    "colab": {
      "name": "МИСИС Python 10.09.2021.ipynb",
      "provenance": [],
      "toc_visible": true
    },
    "kernelspec": {
      "name": "python3",
      "display_name": "Python 3"
    },
    "language_info": {
      "name": "python"
    }
  },
  "cells": [
    {
      "cell_type": "markdown",
      "metadata": {
        "id": "AXQwic3H-UHZ"
      },
      "source": [
        "# Программирование на Python: Занятие 1\n",
        "10.09.2021"
      ]
    },
    {
      "cell_type": "markdown",
      "metadata": {
        "id": "WApLTdTXENfv"
      },
      "source": [
        "## Введение в Jupyter Notebook\n",
        "Jupyter/Python/numpy/pandas – это один из класических наборов ПО для анализа.\n",
        "### Jupyter\n",
        "Jupyter представляет собой веб-интерфейс для исполнения кода в тетрадях/ ноубуках (notebook). Ноутбук делится на ячейки двух видов: ячейки с текстом (Markdown) и ячейки с кодом. Конкретно эта ячейка — Markdown, в ней можно писать текст, в том числе страшные формулы ($\\LaTeX$):\n",
        "\n",
        "$$\\frac{\\partial g}{\\partial X} = \\frac{\\partial f}{\\partial X} + \\left(\\frac{\\partial f}{\\partial X}\\right)^T -\n",
        "\\mathrm{diag}\\left(\\frac{\\partial f}{\\partial x_{11}}, \\frac{\\partial f}{\\partial x_{22}},\\ldots,\n",
        "\\frac{\\partial f}{\\partial x_{nn}}\\right)$$\n",
        "\n",
        "Можно вставлять <strike>мемы</strike> картинки:\n",
        "\n",
        "<img src='https://pp.userapi.com/c637227/v637227487/5d6d2/spUnGgKfQdA.jpg' width=\"500\" />\n",
        "\n",
        "Можно вставлять сниппеты с кодом (без возможности выполнить):\n",
        "\n",
        "```python\n",
        "import antigravity\n",
        "```\n",
        "\n",
        "Другой вид ячеек: ячейки с кодом. Каждую ячейку можно выполнять по отдельности. Во время выполнения ячейки под ней пишется весь вывод на стандартный поток (все `print`); после выполнения — результат (значение, которое возвращается последним выражением).\n",
        "\n",
        "Еще один важный момент: прямо мы сейчас мы работаем не в Jupyter Notebook, а в Google Colab. \n",
        "Отличие в том, что в основном Jupyter мы запускаем у себя на машине, а Colab работает в облаке. У этого есть свои плюсы: ноутбуками проще делиться и вам могут быть доступны большие вычислительные мощности, чем на вашей машине.\n",
        "\n",
        "В курсе мы будем работать с Python, но ноутбуки поддерживают работу со множеством разных языков. Давайте приступим."
      ]
    },
    {
      "cell_type": "markdown",
      "metadata": {
        "id": "AJe1U_WsGCZ8"
      },
      "source": [
        "## Что такое Python и как он работает\n",
        "\n",
        "Python – это простой в изучении и использовании объектно-ориентированный и функциональный язык программирования с динамической типизацией. \n",
        "\n",
        "Давайте разберем некоторые из этих пунктов подробнее.\n",
        "\n",
        "### Простой в изучении и использовании\n",
        "\n",
        "На самом деле, Python – очень мощный язык со множеством вариантов использования. При этом, все конструкции языка очень простые и код легко читать. Давайте сравним код для вывода строки на экран в Python и в Java:\n",
        "\n",
        "Python:\n",
        "```python\n",
        "print(\"Hello world!\")\n",
        "```\n",
        "\n",
        "Java:\n",
        "```java\n",
        "public class Main\n",
        "{\n",
        "\tpublic static void main(String[] args) {\n",
        "\t\tSystem.out.println(\"Hello World\");\n",
        "\t}\n",
        "}\n",
        "```\n",
        "\n",
        "Конечно, это игрушечный пример и мы ни в коем случае не говорим, что Python лучше, чем Java – эти языки используются для разных задач. Тем не менее, на Python мы буквально пишем \"Напечатай Hello world!\" и это просто работает.\n",
        "\n",
        "Более того, мы часто говорим про Python как про \"исполняемый псевдокод\"  \n",
        "Псевдокод – это простой и неформальный язык записи алгоритмов. Во время разработки мы не всегда бросаемся писать код: часто лучше обдумать задачу, а затем приступать к разработке. С помощью псевдокода мы описываем нашу идею текстом, похожим на код и использующим основные конструкции практически любых языков программирования. Код получается простой и компактный – и в этом сходство псевдокода и Python.\n",
        "\n",
        "### Объектно-ориентированный и функциональный\n",
        "\n",
        "Мы коснемся обеих тем позже, пока можно сказать, что Python имеет модель классов, которая поддерживает основные принципы Объектно-ориентированного программирования (ООП).   \n",
        "Это значит, что мы можем создавать модели объектов из реального мира и не только. Эти модели называются классами.   \n",
        "Приведем пример. Допустим, мы делаем игру про кошек. В этой игре мы хотели бы иметь множество объектов типа \"кошка\", которые отличались бы разными параметрами. В таком случае мы можем создать класс Cat (кошка) и затем создать несколько экземпляров этого класса:"
      ]
    },
    {
      "cell_type": "code",
      "metadata": {
        "id": "WYDcmSA8EGXR"
      },
      "source": [
        "class Cat():\n",
        "  def __init__(self, name, age):\n",
        "    self.name = name\n",
        "    self.age = age\n",
        "\n",
        "  def meow(self):\n",
        "    print(f\"Meow! Its {self.name}, age {self.age}\")\n",
        "\n",
        "cat1 = Cat(\"Guppy\", 8)\n",
        "cat2 = Cat(\"Tammy\", 5)"
      ],
      "execution_count": null,
      "outputs": []
    },
    {
      "cell_type": "code",
      "metadata": {
        "colab": {
          "base_uri": "https://localhost:8080/"
        },
        "id": "GER6j1E4PPCK",
        "outputId": "1018025b-53e9-4b70-83f4-6cc153a4da58"
      },
      "source": [
        "cat1.meow()"
      ],
      "execution_count": null,
      "outputs": [
        {
          "output_type": "stream",
          "name": "stdout",
          "text": [
            "Meow! Its Guppy, age 8\n"
          ]
        }
      ]
    },
    {
      "cell_type": "code",
      "metadata": {
        "colab": {
          "base_uri": "https://localhost:8080/"
        },
        "id": "FGQL0UtBPX4h",
        "outputId": "ae15cb4d-ae60-41f9-c89c-1f6dd314586c"
      },
      "source": [
        "cat2.meow()"
      ],
      "execution_count": null,
      "outputs": [
        {
          "output_type": "stream",
          "name": "stdout",
          "text": [
            "Meow! Its Tammy, age 5\n"
          ]
        }
      ]
    },
    {
      "cell_type": "markdown",
      "metadata": {
        "id": "eOqfCQSaQpRw"
      },
      "source": [
        "## Динамическая типизация в Python\n",
        "\n",
        "Python – язык с динамической типизацией. Давайте рассмотрим на примерах, что это значит. Мы будем сравнивать Java со статической типизацией и Python с динамической типизацией.\n",
        "\n",
        "Если мы захотим создать переменную в Java, нам нужно будет сразу задать ее тип. Например, мы хотим получить переменную, в которой будет храниться строка:\n",
        "\n",
        "```java\n",
        "String message = \"Hello world!\";\n",
        "```\n",
        "\n",
        "В переменной message в будущем могут храниться только строки. Если мы попытаемся записать туда число, то получим ошибку.\n",
        "\n",
        "Это происходит, потому что Java создает в памяти объект типа \"строка\" и просит переменную `message` указывать на этот объект. Важно то, что эта переменная уже не сможет указывать на другой объект.\n",
        "\n",
        "В Python все по-другому, нам необязательно задавать тип переменной при ее создании.\n",
        "\n",
        "```python\n",
        "message = \"Hello world!\"\n",
        "```\n",
        "\n",
        "Если мы захотим сделать что-то такое:\n",
        "\n",
        "```python\n",
        "message = 1\n",
        "```\n",
        "\n",
        "Ничего плохого не случится, просто в переменной message теперь будет лежать число. \n",
        "\n",
        "Процесс похожий на Java: Python выделяет в памяти место под строку, которую мы записали в переменную. Но если мы захотим позже записать в эту переменную число, то Python выделит новую область в памяти и попросит переменную теперь указывать на эту область. \n",
        "При этом, области в памяти все равно будут хранить информацию о типе данных, которые в ней хранятся. Тип можно узнать, с помощью функции `type`:\n",
        "\n",
        "```python\n",
        "type(message)\n",
        "```\n",
        "\n",
        "Этот код вернет нам \n",
        "```python \n",
        "<class 'int'>\n",
        "```\n",
        "\n",
        "Это значит, что после всего, что мы сделали, переменная `message` указывает на область в памяти, которая имеет тип `int` (целое число) и хранит значение `1`.\n",
        "\n"
      ]
    },
    {
      "cell_type": "markdown",
      "metadata": {
        "id": "nonG1dojU0sb"
      },
      "source": [
        "## Как писать программы \n",
        "\n",
        "В Python программы выполняются построчно.\n",
        "Например, если мы напишем такой код:\n",
        "\n",
        "```python\n",
        "test = 'Hello'\n",
        "print(test)\n",
        "test = 23\n",
        "print(test)\n",
        "```\n",
        "\n",
        "То мы получим вывод:\n",
        "\n",
        "```python\n",
        "Hello\n",
        "23\n",
        "```\n",
        "\n",
        "Когда мы пишем код на Python, мы стараемся придерживаться стиля snake_case: мы пишем названия переменных и функций маленькими буквами, разделяя отдельные слова символом подчеркивания (_). Например, мы можем написать функцию `get_python_tasks()`\n",
        "\n",
        "Писать код можно практически где угодно, хоть в блокноте. Чаще всего мы используем среды разработки: Jupyter Notebook, VSCode, Pycharm... Можно выбрать на свой вкус и под подходящую задачу. \n",
        "\n",
        "Среды разработки можно разделить на два типа:\n",
        "* Среды разработки, основанные на ноутбуках\n",
        "* Обычные среды разработки\n",
        "\n",
        "### Ноутбуки\n",
        "\n",
        "Одну из таких сред вы видите сейчас: это Google Colab. Другой пример – Jyputer Notebook, но его интерфейс не слишком сильно отличается от Colab.\n",
        "\n",
        "Ноутбуки дают определенную гибкость во время разработки: код все равно выполняется последовательно, но только в пределах ячейки, а сами ячейки мы можем выполнять в любом порядке. В том числе, мы можем выполнять одну и ту же ячейку несколько раз.\n",
        "Также, в ноутбуках удобно показывать информацию, которая не является кодом – вы видели примеры выше.\n",
        "\n",
        "### Среды разработки\n",
        "\n",
        "Сразу нужно уточнить, что во многих средах разработки есть возможность смотреть и редактировать ноутбуки, но это не всегда так же удобно, как в Colab или Jupyter Notebook.\n",
        "\n",
        "При этом, чем больше ваш проект, тем сильнее проявляются преимущества обычных сред разработки:\n",
        "* Более удобная навигация по коду\n",
        "* Автоматические проверки кода\n",
        "* Интеграция с системами контроля версий и другими инструментами\n",
        "\n",
        "### Текстовый редактор\n",
        "Код на Python можно писать в любом текстовом редакторе – блокнот, Microsoft Word, OpenOffice. При этом вы лишаетесь преимуществ и ноутбуков, и сред разработки, но иногда очень удобно быстро написать код и запустить его.  \n",
        "Запускается код при этом в командной строке."
      ]
    },
    {
      "cell_type": "markdown",
      "metadata": {
        "id": "QPP7EsATpwvR"
      },
      "source": [
        "## Переменные и их типы\n",
        "\n",
        "Мы уже использовали переменные выше, теперь пора познакомиться с ними поближе.\n",
        "\n",
        "Переменная – это именованная область памяти компьютера, адрес которой позволяет получить доступ к данным. Мы уже знаем, что в переменную можно записывать значения, и это могут быть значения разных типов. Какие вообще бывают типы?\n",
        "\n",
        "* int – целое число. Например, 23\n",
        "* float – число с плавающей точкой. Например, 8.15\n",
        "* str – строка. Например, \"строка\"\n",
        "* bool – логическая переменная. Например, True (истина)\n",
        "\n",
        "Есть и другие типы данных, мы с ними познакомимся позже.  \n",
        "Более того, можно создавать свои типы данных на примере класса Cat.\n",
        "\n",
        "Посмотрим на примеры:"
      ]
    },
    {
      "cell_type": "code",
      "metadata": {
        "colab": {
          "base_uri": "https://localhost:8080/"
        },
        "id": "VZ8ZulYdQSy0",
        "outputId": "773b89b0-b58a-43c6-e950-09abab1e1f19"
      },
      "source": [
        "int_var = 4\n",
        "print(int_var)\n",
        "print(type(int_var))"
      ],
      "execution_count": null,
      "outputs": [
        {
          "output_type": "stream",
          "name": "stdout",
          "text": [
            "4\n",
            "<class 'int'>\n"
          ]
        }
      ]
    },
    {
      "cell_type": "code",
      "metadata": {
        "colab": {
          "base_uri": "https://localhost:8080/"
        },
        "id": "iJYbkNI_UqU1",
        "outputId": "fc8183fc-cea9-4bee-dc2a-1f1a74563ff5"
      },
      "source": [
        "float_var = 3.14159265\n",
        "print(float_var)\n",
        "print(type(float_var))"
      ],
      "execution_count": null,
      "outputs": [
        {
          "output_type": "stream",
          "name": "stdout",
          "text": [
            "3.14159265\n",
            "<class 'float'>\n"
          ]
        }
      ]
    },
    {
      "cell_type": "code",
      "metadata": {
        "colab": {
          "base_uri": "https://localhost:8080/"
        },
        "id": "ttYJpObEs11D",
        "outputId": "187ac5ea-84a8-4d2e-fb5b-35268b45e5bf"
      },
      "source": [
        "str_var = \"Hi\"\n",
        "print(str_var)\n",
        "print(type(str_var))"
      ],
      "execution_count": null,
      "outputs": [
        {
          "output_type": "stream",
          "name": "stdout",
          "text": [
            "Hi\n",
            "<class 'str'>\n"
          ]
        }
      ]
    },
    {
      "cell_type": "code",
      "metadata": {
        "colab": {
          "base_uri": "https://localhost:8080/"
        },
        "id": "d3FlFwMLs5oH",
        "outputId": "6300cb5b-ca5b-4de0-852a-2ba3af96fea2"
      },
      "source": [
        "bool_var = False\n",
        "print(bool_var)\n",
        "print(type(bool_var))"
      ],
      "execution_count": null,
      "outputs": [
        {
          "output_type": "stream",
          "name": "stdout",
          "text": [
            "False\n",
            "<class 'bool'>\n"
          ]
        }
      ]
    },
    {
      "cell_type": "markdown",
      "metadata": {
        "id": "jXm_8o2mJn6e"
      },
      "source": [
        "**Практическое задание**\n",
        "Создайте несколько переменных разных типов, присвойте им какие-нибудь значения. Затем выведите на экран значение переменной и ее тип для каждой созданной переменной."
      ]
    },
    {
      "cell_type": "markdown",
      "metadata": {
        "id": "ZbShrbNttCgK"
      },
      "source": [
        "### Математические операции\n",
        "\n",
        "Python поддерживает все необходимые математические операции:\n",
        "* Сложение: +\n",
        "* Вычитание: -\n",
        "* Умножение: *\n",
        "* Деление: /\n",
        "* Целочисленное деление: //\n",
        "* Остаток от деления: %\n",
        "* Возведение в степень: **\n",
        "\n",
        "Python – не очень быстрый язык программирования, но это не страшно: все эти операции можно делать очень быстро с помощью специальных библиотек, с которыми мы познакомимся в будущем."
      ]
    },
    {
      "cell_type": "code",
      "metadata": {
        "colab": {
          "base_uri": "https://localhost:8080/"
        },
        "id": "h-tDycKhs-PA",
        "outputId": "f77217c2-47ec-42ff-9055-cda4958b06da"
      },
      "source": [
        "a = 5\n",
        "print(a + 2)"
      ],
      "execution_count": null,
      "outputs": [
        {
          "output_type": "stream",
          "name": "stdout",
          "text": [
            "7\n"
          ]
        }
      ]
    },
    {
      "cell_type": "code",
      "metadata": {
        "colab": {
          "base_uri": "https://localhost:8080/"
        },
        "id": "KPTNpMr_tsbu",
        "outputId": "e3314e34-b113-4355-b6a4-43dc2a42ce1f"
      },
      "source": [
        "print(a - 1)"
      ],
      "execution_count": null,
      "outputs": [
        {
          "output_type": "stream",
          "name": "stdout",
          "text": [
            "4\n"
          ]
        }
      ]
    },
    {
      "cell_type": "code",
      "metadata": {
        "colab": {
          "base_uri": "https://localhost:8080/"
        },
        "id": "BdG0P5aEtvmu",
        "outputId": "86f26647-bcdb-4e20-8abf-7c5597998816"
      },
      "source": [
        "print(a * 2)"
      ],
      "execution_count": null,
      "outputs": [
        {
          "output_type": "stream",
          "name": "stdout",
          "text": [
            "10\n"
          ]
        }
      ]
    },
    {
      "cell_type": "code",
      "metadata": {
        "colab": {
          "base_uri": "https://localhost:8080/"
        },
        "id": "F-qgjeVTtzU3",
        "outputId": "9a56ed8d-e3cc-4b2a-ace9-4f4aa788b1fc"
      },
      "source": [
        "print(a / 3)"
      ],
      "execution_count": null,
      "outputs": [
        {
          "output_type": "stream",
          "name": "stdout",
          "text": [
            "1.6666666666666667\n"
          ]
        }
      ]
    },
    {
      "cell_type": "code",
      "metadata": {
        "colab": {
          "base_uri": "https://localhost:8080/"
        },
        "id": "LlcE4VfAt0Vj",
        "outputId": "882fa72f-592c-4de1-9a08-e72493bf4120"
      },
      "source": [
        "print(a // 3)"
      ],
      "execution_count": null,
      "outputs": [
        {
          "output_type": "stream",
          "name": "stdout",
          "text": [
            "1\n"
          ]
        }
      ]
    },
    {
      "cell_type": "code",
      "metadata": {
        "colab": {
          "base_uri": "https://localhost:8080/"
        },
        "id": "naPJzkjet1l4",
        "outputId": "ceab76f0-fbaa-465d-8ecb-745b7a4eb9c0"
      },
      "source": [
        "print(a % 3)"
      ],
      "execution_count": null,
      "outputs": [
        {
          "output_type": "stream",
          "name": "stdout",
          "text": [
            "2\n"
          ]
        }
      ]
    },
    {
      "cell_type": "code",
      "metadata": {
        "colab": {
          "base_uri": "https://localhost:8080/"
        },
        "id": "_TXVWzPMt5Ur",
        "outputId": "f3413b78-f8ce-44d3-ea93-bfa2a19a421a"
      },
      "source": [
        "print(a ** 7)"
      ],
      "execution_count": null,
      "outputs": [
        {
          "output_type": "stream",
          "name": "stdout",
          "text": [
            "78125\n"
          ]
        }
      ]
    },
    {
      "cell_type": "markdown",
      "metadata": {
        "id": "k-fCGvccJ1oc"
      },
      "source": [
        "**Практическое задание**\n",
        "Определите, какой приоритет имеют операции сложения, вычитания, умножения, деления, возведения в степень.  \n",
        "Для этого поэкспериментируйте с записью разных математических выражений и посмотрите на результаты.  \n",
        "После этого напишите ниже последовательность математических операций от высшего приоритета к низшему вместе с примерами."
      ]
    },
    {
      "cell_type": "markdown",
      "metadata": {
        "id": "peH8-pchvad3"
      },
      "source": [
        "### Операции со строками\n",
        "\n",
        "В Python операции можно делать не только с числами, но и со строками. Мы можем:\n",
        "\n",
        "* Складывать строки\n",
        "* Умножать строку на число"
      ]
    },
    {
      "cell_type": "code",
      "metadata": {
        "colab": {
          "base_uri": "https://localhost:8080/"
        },
        "id": "uLYdHgTYvl4X",
        "outputId": "a3c3a672-d4ee-45a9-854f-b696c546232d"
      },
      "source": [
        "print(\"Hello \" + \"world!\")"
      ],
      "execution_count": null,
      "outputs": [
        {
          "output_type": "stream",
          "name": "stdout",
          "text": [
            "Hello world!\n"
          ]
        }
      ]
    },
    {
      "cell_type": "code",
      "metadata": {
        "colab": {
          "base_uri": "https://localhost:8080/",
          "height": 35
        },
        "id": "xxVheysTvpns",
        "outputId": "03664cbc-670b-461a-e7e5-a8d7c8572a4d"
      },
      "source": [
        "\"Hi \" * 3"
      ],
      "execution_count": null,
      "outputs": [
        {
          "output_type": "execute_result",
          "data": {
            "application/vnd.google.colaboratory.intrinsic+json": {
              "type": "string"
            },
            "text/plain": [
              "'Hi Hi Hi '"
            ]
          },
          "metadata": {},
          "execution_count": 15
        }
      ]
    },
    {
      "cell_type": "markdown",
      "metadata": {
        "id": "dplZbBt4v_Hf"
      },
      "source": [
        "### Приведение типов\n",
        "\n",
        "В Python можно приводить одни типы к другим. Например, если вам нужно превратить число в строку или целое число в дробное: вы можете сделать это:"
      ]
    },
    {
      "cell_type": "code",
      "metadata": {
        "colab": {
          "base_uri": "https://localhost:8080/"
        },
        "id": "WfVZeEEiwQ2y",
        "outputId": "5e16caba-b045-4096-9768-fa4db6e3b0b9"
      },
      "source": [
        "age = 28\n",
        "print(\"Мне \" + str(age) + \" лет.\")"
      ],
      "execution_count": null,
      "outputs": [
        {
          "output_type": "stream",
          "name": "stdout",
          "text": [
            "Мне 28 лет.\n"
          ]
        }
      ]
    },
    {
      "cell_type": "code",
      "metadata": {
        "colab": {
          "base_uri": "https://localhost:8080/"
        },
        "id": "P94zKLJhwXNj",
        "outputId": "776326cb-884c-411f-fcb4-556b9bec3ba9"
      },
      "source": [
        "print(int_var)\n",
        "print(float(int_var))"
      ],
      "execution_count": null,
      "outputs": [
        {
          "output_type": "stream",
          "name": "stdout",
          "text": [
            "4\n",
            "4.0\n"
          ]
        }
      ]
    },
    {
      "cell_type": "markdown",
      "metadata": {
        "id": "1l6iJKImwfXr"
      },
      "source": [
        "С логическим типом данных отдельная история. Вы можете привести значение к логическому типу и у вас два возможных варианта:\n",
        "* False, если это было число 0 или пустая строка\n",
        "* True, во всех остальных случаях"
      ]
    },
    {
      "cell_type": "code",
      "metadata": {
        "colab": {
          "base_uri": "https://localhost:8080/"
        },
        "id": "W5-fc4txwvs6",
        "outputId": "ba89a1a1-5099-4f38-d4a3-a39706ed8583"
      },
      "source": [
        "print(int_var)\n",
        "print(bool(int_var))"
      ],
      "execution_count": null,
      "outputs": [
        {
          "output_type": "stream",
          "name": "stdout",
          "text": [
            "4\n",
            "True\n"
          ]
        }
      ]
    },
    {
      "cell_type": "code",
      "metadata": {
        "colab": {
          "base_uri": "https://localhost:8080/"
        },
        "id": "5FKGKY1Sw0rZ",
        "outputId": "edf06363-2f50-474d-d0b1-8f3fe10bef29"
      },
      "source": [
        "print(bool(0.0))"
      ],
      "execution_count": null,
      "outputs": [
        {
          "output_type": "stream",
          "name": "stdout",
          "text": [
            "False\n"
          ]
        }
      ]
    },
    {
      "cell_type": "code",
      "metadata": {
        "colab": {
          "base_uri": "https://localhost:8080/"
        },
        "id": "7WnpE2kCw26H",
        "outputId": "c9dc8ee6-5c87-4ad0-c593-930f8cafa2fb"
      },
      "source": [
        "print(bool(\"\"))"
      ],
      "execution_count": null,
      "outputs": [
        {
          "output_type": "stream",
          "name": "stdout",
          "text": [
            "False\n"
          ]
        }
      ]
    },
    {
      "cell_type": "markdown",
      "metadata": {
        "id": "aHvcS_EaKLTN"
      },
      "source": [
        "**Практическое задание**\n",
        "Напишите программу, которая округляет число с плавающей точкой, используя приведение типов."
      ]
    },
    {
      "cell_type": "markdown",
      "metadata": {
        "id": "IBVWJqwBzhNc"
      },
      "source": [
        "## Условные операторы\n",
        "\n",
        "Мы уже говорили об алгоритмах. Одна из важных особенностей алгоритмов состоит в том, что они могут ветвиться.  \n",
        "Это происходит, когда в алгоритме есть какое-то условие и в зависимости от результата проверки этого условия могут совершиться те или иные действия.  \n",
        "\n",
        "Например, мы собираемся пойти погулять. Сейчас осень, поэтому дождь может пойти в любой момент – нужно ли брать с собой зонт или пойти налегке?  \n",
        "Мы смотрим прогноз погоды и решаем: если дождь будет – берем зонт. Иначе – не берем.\n",
        "\n",
        "Если мы захотим описать этот алгоритм в виде программы на Python, нам пригодится условный оператор.  \n",
        "В общем виде он записывается так:\n",
        "\n",
        "```python\n",
        "if condition:\n",
        "  do_something()\n",
        "else:\n",
        "  do_something_else()\n",
        "```\n",
        "\n",
        "Попробуем оцифровать наш алгоритм взятия зонта с собой:"
      ]
    },
    {
      "cell_type": "code",
      "metadata": {
        "colab": {
          "base_uri": "https://localhost:8080/"
        },
        "id": "Z95EoVKAzAoM",
        "outputId": "561a1d5b-1392-43e2-9eb8-0a823fe2dce3"
      },
      "source": [
        "rainy = True\n",
        "if rainy:\n",
        "  print(\"Беру зонт с собой!\")\n",
        "else:\n",
        "  print(\"Оставляю зонт дома.\")"
      ],
      "execution_count": null,
      "outputs": [
        {
          "output_type": "stream",
          "name": "stdout",
          "text": [
            "Беру зонт с собой!\n"
          ]
        }
      ]
    },
    {
      "cell_type": "markdown",
      "metadata": {
        "id": "qwffWwzJ1aXW"
      },
      "source": [
        "На самом деле, нам не обязательно делать `else-блок`. В таком случае условный оператор будет выглядеть так:\n",
        "```python\n",
        "if condition:\n",
        "  do_something()\n",
        "```\n",
        "\n",
        "Это может пригодиться, например, при отладке программ: допустим, у нас есть программа, которая что-то вычисляет. Мы можем сделать флаг (логическую переменную), с помощью которой мы будем управлять сообщениями, которые нам выдает программа:"
      ]
    },
    {
      "cell_type": "code",
      "metadata": {
        "colab": {
          "base_uri": "https://localhost:8080/"
        },
        "id": "6tccvfDV1TVD",
        "outputId": "652c82a7-1057-49b1-f47f-a830f83dcab3"
      },
      "source": [
        "result = 0\n",
        "verbose = True\n",
        "result = result + 1\n",
        "if verbose:\n",
        "  print(f\"Текущий результат: {result}\")\n",
        "result = result + 1\n",
        "if verbose:\n",
        "  print(f\"Текущий результат: {result}\")\n",
        "result = result + 1\n",
        "print(f\"Финальный результат: {result}\")"
      ],
      "execution_count": null,
      "outputs": [
        {
          "output_type": "stream",
          "name": "stdout",
          "text": [
            "Текущий результат: 1\n",
            "Текущий результат: 2\n",
            "Финальный результат: 3\n"
          ]
        }
      ]
    },
    {
      "cell_type": "markdown",
      "metadata": {
        "id": "UQ8JHYnh20tC"
      },
      "source": [
        "Мы посмотрели на более простую форму записи условия, но есть и более сложная. Иногда нам нужно сделать несколько проверок по цепочке. Для этого используется ключевое слово `elif` и условный оператор выглядит так:\n",
        "\n",
        "```python\n",
        "if first_condition:\n",
        "  do_something_1()\n",
        "elif second_condition:\n",
        "  do_something_2()\n",
        "else:\n",
        "  do_something_else()\n",
        "```\n",
        "\n",
        "Вернемся к нашему примеру с зонтом и модифицируем его, чтобы он учитывал только температуру за окном:"
      ]
    },
    {
      "cell_type": "code",
      "metadata": {
        "colab": {
          "base_uri": "https://localhost:8080/"
        },
        "id": "NooB4brq2UtI",
        "outputId": "3cb89b8c-b269-4344-cf24-97ba028b0a5c"
      },
      "source": [
        "temperature = 23\n",
        "if temperature < 0:\n",
        "  print(\"Оденусь потеплее.\")\n",
        "elif temperature > 0 and temperature < 30:\n",
        "  print(\"Можно надеть ветровку.\")\n",
        "else:\n",
        "  print(\"Умираю от жары.\")"
      ],
      "execution_count": null,
      "outputs": [
        {
          "output_type": "stream",
          "name": "stdout",
          "text": [
            "Можно надеть ветровку.\n"
          ]
        }
      ]
    },
    {
      "cell_type": "markdown",
      "metadata": {
        "id": "OrCBH-Jd3z94"
      },
      "source": [
        "Здесь мы увидели, что в условном операторе можно проверять сразу несколько условий. Это можно делать с помощью специальных операторов:\n",
        "* and – логическое \"и\"\n",
        "* or – логическое \"или\"\n",
        "* not – логическое \"не\""
      ]
    },
    {
      "cell_type": "markdown",
      "metadata": {
        "id": "2wb6u2VTMDXm"
      },
      "source": [
        "**Практическое задание**\n",
        "Напишите функцию XOR (исключающее или) используя операторы and, or, not\n",
        "\n",
        "Подсказка: Функция XOR принимает на вход два аргумента и возвращает True только если ровно один из аргументов является истиной. Пример: для False, False XOR вернет False. Для True, False XOR вернет True."
      ]
    },
    {
      "cell_type": "markdown",
      "metadata": {
        "id": "WQ3l5b1T42uG"
      },
      "source": [
        "## Циклы"
      ]
    },
    {
      "cell_type": "markdown",
      "metadata": {
        "id": "PeU3DEYr444z"
      },
      "source": [
        "### Цикл While\n",
        "\n",
        "Иногда во время выполнения алгоритма нам нужно совершать одно и то же действие подряд несколько раз. Для этого в Python существуют циклы.\n",
        "\n",
        "Один из видов циклов – цикл while (пока).\n",
        "Он работает так: выполняй какое-то действие, пока условие истинно. Как только условие становится ложным, прекрати выполнять это действие.\n",
        "\n",
        "В общем виде цикл while записывается так:\n",
        "\n",
        "```python\n",
        "while condition:\n",
        "  do_something()\n",
        "```\n",
        "\n",
        "Очень важно так спроектировать цикл, чтобы в какой-то момент условие стало ложным – иначе цикл никогда не остановится и придется завершать программу вручную.\n",
        "Например, можно сделать так:"
      ]
    },
    {
      "cell_type": "code",
      "metadata": {
        "colab": {
          "base_uri": "https://localhost:8080/"
        },
        "id": "wsy1pDu03ict",
        "outputId": "398b97d2-6271-47ab-9f00-beb85f496986"
      },
      "source": [
        "n = 0\n",
        "while n < 10:\n",
        "  print(n)\n",
        "  n = n + 1"
      ],
      "execution_count": null,
      "outputs": [
        {
          "output_type": "stream",
          "name": "stdout",
          "text": [
            "0\n",
            "1\n",
            "2\n",
            "3\n",
            "4\n",
            "5\n",
            "6\n",
            "7\n",
            "8\n",
            "9\n"
          ]
        }
      ]
    },
    {
      "cell_type": "markdown",
      "metadata": {
        "id": "WxRAZ_it51yJ"
      },
      "source": [
        "Но что делать, если мы заранее не знаем, когда цикл нужно остановить? \n",
        "\n",
        "В таких случаях мы используем ключевое слово `break`, которое останавливает цикл."
      ]
    },
    {
      "cell_type": "code",
      "metadata": {
        "colab": {
          "base_uri": "https://localhost:8080/"
        },
        "id": "AUthZv9P5pQa",
        "outputId": "7f4f4e95-6880-40b8-f951-f329a5c04213"
      },
      "source": [
        "n = 1\n",
        "while True:\n",
        "  if n % 3 == 0 and n % 5 == 0:\n",
        "    break\n",
        "  n = n + 1\n",
        "print(n)"
      ],
      "execution_count": null,
      "outputs": [
        {
          "output_type": "stream",
          "name": "stdout",
          "text": [
            "15\n"
          ]
        }
      ]
    },
    {
      "cell_type": "markdown",
      "metadata": {
        "id": "qvWDDkdH6pS-"
      },
      "source": [
        "В этом примере мы искали первое число, которое будет делиться нацело и на 3, и на 5. \n",
        "\n",
        "Но что, если в ходе выполнения цикла нам нужно совершать действия только тогда, когда выполняется дополнительное условие? Мы можем пропускать итерации цикла с помощью ключевого слова `continue`:"
      ]
    },
    {
      "cell_type": "code",
      "metadata": {
        "colab": {
          "base_uri": "https://localhost:8080/"
        },
        "id": "GTuM6rzA6mJD",
        "outputId": "729bd566-f9d2-4baf-d306-0dbf011a5e32"
      },
      "source": [
        "n = 0\n",
        "sum = 0\n",
        "while True:\n",
        "  n = n + 1\n",
        "  if n % 3 == 0:\n",
        "    continue\n",
        "  sum = sum + n\n",
        "  if sum > 10: \n",
        "    break\n",
        "print(n)\n",
        "print(sum)"
      ],
      "execution_count": null,
      "outputs": [
        {
          "output_type": "stream",
          "name": "stdout",
          "text": [
            "5\n",
            "12\n"
          ]
        }
      ]
    },
    {
      "cell_type": "markdown",
      "metadata": {
        "id": "USC2CWyZKW0M"
      },
      "source": [
        "**Практическое задание**\n",
        "Напишите программу, которая считает произведение n последовательных натуральных чисел. n задает пользователь.  \n",
        "Например, для `n == 4` произведение будет равно `24`."
      ]
    },
    {
      "cell_type": "markdown",
      "metadata": {
        "id": "eZ6QgSiU8pb3"
      },
      "source": [
        "### Цикл For\n",
        "\n",
        "Еще один способ использования циклов в Python – цикл for. Этот цикл позволяет перебирать значения в итерируемом объекте. Например, в каком-нибудь списке. \n",
        "\n",
        "В общем виде цикл for выглядит так:\n",
        "\n",
        "```python\n",
        "for value in iterator:\n",
        "  do_something()\n",
        "```\n",
        "\n",
        "В этом цикле мы можем явно использовать значения из того списка, по которому идем.  \n",
        "Допустим, у нас есть список с цифрами (про списки мы еще будем говорить позже) и мы хотим получить сумму всех чисел в нем:"
      ]
    },
    {
      "cell_type": "code",
      "metadata": {
        "colab": {
          "base_uri": "https://localhost:8080/"
        },
        "id": "LF40pGEm78Ba",
        "outputId": "f81105bb-03cf-4b30-d504-1d2679c3b785"
      },
      "source": [
        "value_list = [1, 2, 3, 4, 5, 7]\n",
        "sum = 0\n",
        "for value in value_list:\n",
        "  sum = sum + value\n",
        "\n",
        "print(sum)"
      ],
      "execution_count": null,
      "outputs": [
        {
          "output_type": "stream",
          "name": "stdout",
          "text": [
            "22\n"
          ]
        }
      ]
    },
    {
      "cell_type": "markdown",
      "metadata": {
        "id": "sQw8-nulKo-U"
      },
      "source": [
        "**Практическое задание**\n",
        "Напишите программу, которая выводит произведение всех чисел в списке. Например, для списка `[-2, 4, 7]` программа выведет `-56`"
      ]
    },
    {
      "cell_type": "markdown",
      "metadata": {
        "id": "LSe_urKjHs4-"
      },
      "source": [
        "## Самостоятельная работа\n",
        "\n",
        "1. Напишите программу, которая возьмет на вход список с целыми числами и на выходе даст два списка: один с четными числами, другой – с нечетными.\n",
        "\n",
        "Подсказки:\n",
        "Как создать пустой список:\n",
        "\n",
        "```python\n",
        "empty_list = []\n",
        "```\n",
        "\n",
        "Как добавить элемент в список:\n",
        "\n",
        "```python\n",
        "empty_list.append(value)\n",
        "```"
      ]
    },
    {
      "cell_type": "code",
      "metadata": {
        "colab": {
          "base_uri": "https://localhost:8080/"
        },
        "id": "Kk7ixYpIHurH",
        "outputId": "e6ad83ea-e405-4aad-ce7a-236edc7adb0d"
      },
      "source": [
        "empty_list = []\n",
        "empty_list.append(5)\n",
        "empty_list.append(7)\n",
        "print(empty_list)"
      ],
      "execution_count": null,
      "outputs": [
        {
          "output_type": "stream",
          "name": "stdout",
          "text": [
            "[5, 7]\n"
          ]
        }
      ]
    },
    {
      "cell_type": "markdown",
      "metadata": {
        "id": "kXgOZKaAIZc9"
      },
      "source": [
        "2. Напишите программу, которая возьмет на вход список с целыми числами и на выходе покажет на экране количество чисел, которые нацело делятся на 3."
      ]
    },
    {
      "cell_type": "markdown",
      "metadata": {
        "id": "ED6NCs0wIuUe"
      },
      "source": [
        "3. Напишите программу, которая с помощью цикла выведет следующий паттерн на экран:\n",
        "\n",
        "```\n",
        "1 \n",
        "1 2 \n",
        "1 2 3 \n",
        "1 2 3 4 \n",
        "1 2 3 4 5\n",
        "```\n",
        "\n",
        "Плюсом будет возможность управлять количеством строк, которые выведет программа."
      ]
    },
    {
      "cell_type": "markdown",
      "metadata": {
        "id": "Zl0JzA2qJCcq"
      },
      "source": [
        "4. Напишите программу, которая выводит количество цифр в числе. Например, для `348782` программа выведет `6`."
      ]
    },
    {
      "cell_type": "markdown",
      "metadata": {
        "id": "gmaFSA66JXhw"
      },
      "source": [
        "5. Напишите программу, которая выведет первые n чисел последовательности Фибоначчи, где n вы задаете сами.\n",
        "\n",
        "Подсказка: первые два числа последовательности – это 0 и 1. Каждое следующее число – это сумма двух предыдущих."
      ]
    },
    {
      "cell_type": "code",
      "metadata": {
        "id": "y0i_fCbbIUqo"
      },
      "source": [
        "  "
      ],
      "execution_count": null,
      "outputs": []
    }
  ]
}