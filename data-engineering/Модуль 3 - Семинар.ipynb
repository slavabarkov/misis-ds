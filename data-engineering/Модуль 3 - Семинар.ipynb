{
 "cells": [
  {
   "cell_type": "markdown",
   "id": "b980d805",
   "metadata": {},
   "source": [
    "## Модуль 3, домашнее задание\n",
    "#### Автор: Вячеслав Барков"
   ]
  },
  {
   "cell_type": "code",
   "execution_count": 1,
   "id": "d14a8d54",
   "metadata": {},
   "outputs": [],
   "source": [
    "%load_ext sql\n",
    "%config SqlMagic.displaycon = False\n",
    "%config SqlMagic.displaylimit = 10"
   ]
  },
  {
   "cell_type": "code",
   "execution_count": 2,
   "id": "3cf1531e",
   "metadata": {},
   "outputs": [],
   "source": [
    "import json\n",
    "import sqlalchemy\n",
    "import pandas as pd"
   ]
  },
  {
   "cell_type": "code",
   "execution_count": 3,
   "id": "26e085ec",
   "metadata": {},
   "outputs": [],
   "source": [
    "with open('.secret') as f:\n",
    "    data = json.load(f)\n",
    "    user = data['user']\n",
    "    password = data['password']\n",
    "    server = data['server']\n",
    "    db = data['db']"
   ]
  },
  {
   "cell_type": "code",
   "execution_count": 4,
   "id": "32982dc4",
   "metadata": {},
   "outputs": [],
   "source": [
    "engine = sqlalchemy.create_engine(f'postgresql://{user}:{password}@{server}/{db}')"
   ]
  },
  {
   "cell_type": "code",
   "execution_count": 5,
   "id": "2e41a540",
   "metadata": {},
   "outputs": [],
   "source": [
    "%sql postgresql://$user:$password@$server/$db"
   ]
  },
  {
   "cell_type": "code",
   "execution_count": 6,
   "id": "3d2d079f",
   "metadata": {},
   "outputs": [
    {
     "name": "stdout",
     "output_type": "stream",
     "text": [
      "Done.\n"
     ]
    },
    {
     "data": {
      "text/plain": [
       "[]"
      ]
     },
     "execution_count": 6,
     "metadata": {},
     "output_type": "execute_result"
    }
   ],
   "source": [
    "%%sql\n",
    "\n",
    "SET\n",
    "    search_path\n",
    "TO\n",
    "    shipping;"
   ]
  },
  {
   "cell_type": "markdown",
   "id": "0601c5af",
   "metadata": {},
   "source": [
    "## Задание 1.\n"
   ]
  },
  {
   "cell_type": "markdown",
   "id": "7f6d10a7",
   "metadata": {},
   "source": [
    "Напишите код DDL для создания представления (VIEW), которое будет объединять в себе все значения атрибутов по всем поставкам. Это представление должно включать в себя в денормализованной форме все данные по поставке из нашей БД. Одна строка – одна поставка. Идентификаторы записей из таблиц, при помощи которых мы связываем таблицы соединениями (JOIN) в представление включать НЕ НАДО. Только фактические значения. "
   ]
  },
  {
   "cell_type": "code",
   "execution_count": 7,
   "id": "7516d3fc",
   "metadata": {},
   "outputs": [
    {
     "name": "stdout",
     "output_type": "stream",
     "text": [
      "Done.\n"
     ]
    },
    {
     "data": {
      "text/plain": [
       "[]"
      ]
     },
     "execution_count": 7,
     "metadata": {},
     "output_type": "execute_result"
    }
   ],
   "source": [
    "%%sql\n",
    "\n",
    "DROP VIEW IF EXISTS shipping.V_shipping_complete;"
   ]
  },
  {
   "cell_type": "markdown",
   "id": "1173d7c4",
   "metadata": {},
   "source": [
    "**Решение:** Создадим представление с данными о каждой поставке, данными о городе каждой поставки, данными о заказчике, данными о городе заказчика, данными о водителе, данными о городе водителя, данными о грузовике."
   ]
  },
  {
   "cell_type": "code",
   "execution_count": 8,
   "id": "9d786aa4",
   "metadata": {},
   "outputs": [
    {
     "name": "stdout",
     "output_type": "stream",
     "text": [
      "Done.\n"
     ]
    },
    {
     "data": {
      "text/plain": [
       "[]"
      ]
     },
     "execution_count": 8,
     "metadata": {},
     "output_type": "execute_result"
    }
   ],
   "source": [
    "%%sql\n",
    "\n",
    "CREATE OR REPLACE VIEW shipping.V_shipping_complete AS\n",
    "SELECT \n",
    "    s.ship_date,\n",
    "    s.weight,\n",
    "    cs.city_name ship_city_name,\n",
    "    cs.state ship_state,\n",
    "    cs.population ship_city_population,\n",
    "    cs.area ship_city_area,\n",
    "    c.cust_name,\n",
    "    c.annual_revenue cust_annual_rev,\n",
    "    c.cust_type,\n",
    "    c.address cust_address,\n",
    "    c.zip cust_zip,\n",
    "    c.phone cust_phone,\n",
    "    cc.city_name cust_city_name,\n",
    "    cc.state cust_state,\n",
    "    cc.population cust_city_population,\n",
    "    cc.area cust_city_area,\n",
    "    d.first_name driver_first_name,\n",
    "    d.last_name driver_last_name,\n",
    "    d.address driver_address,\n",
    "    d.zip_code driver_zip_code,\n",
    "    d.phone driver_phone,\n",
    "    cd.city_name driver_city_name,\n",
    "    cd.state driver_state,\n",
    "    cd.population driver_city_population,\n",
    "    cd.area driver_city_area,\n",
    "    t.make truck_make,\n",
    "    t.model_year truck_model_year\n",
    "FROM \n",
    "    shipment s\n",
    "    LEFT JOIN customer c ON c.cust_id = s.cust_id\n",
    "    LEFT JOIN driver d ON d.driver_id = s.driver_id\n",
    "    LEFT JOIN truck t ON t.truck_id = s.truck_id\n",
    "    LEFT JOIN city cs ON cs.city_id = s.city_id    -- Город доставки\n",
    "    LEFT JOIN city cd ON cd.city_id = d.city_id    -- Город водителя\n",
    "    LEFT JOIN city cc ON cc.city_id = c.city_id;   -- Город клиента"
   ]
  },
  {
   "cell_type": "markdown",
   "id": "f60d627d",
   "metadata": {},
   "source": [
    "## Задание 2.\n"
   ]
  },
  {
   "cell_type": "markdown",
   "id": "d1ef9b60",
   "metadata": {},
   "source": [
    "Ваш условный бизнес-заказчик просит модифицировать нашу схему и добавить таблицу, где будет храниться информация о доставленном в ходе поставки грузе.  Мы характеризуем груз следующим образом:\n",
    "- Название груза – некое наименование груза\n",
    "- Вид груза (одно из: Оборудование, Продукты питания, Прочие товары) \n",
    "- Вес груза по накладной,  кг\n",
    "- Доставлено до получателя, кг (мы предполагаем, что часть груза может быть повреждена в ходе доставки) \n",
    "- Доля повреждений ( % товара не принятого получателем вследствие повреждений).\n",
    "\n",
    "Типы данных колонок необходимо определить самостоятельно. Также необходимо связать строки таблицы грузов с поставками, чтобы мы могли потом анализировать, какие грузы доставлялись в рамках одной поставки. Дополните код таблицы Shipment и вашего прототипа таблицы соответствующими полями \n"
   ]
  },
  {
   "cell_type": "markdown",
   "id": "2ac289cd",
   "metadata": {},
   "source": [
    "**Решение:** Будем использовать первичный ключ cargo_id, а также вторичный ключ ship_id для связи таблицы грузов с таблицей поставок. Закодируем вид груза и создадим отдельную таблицу для его расшифровки. Необходимо уточнить у заказчика источник поля доли повреждений. Исходя из предоставленного задания, создадим генерируемое поле для расчета доли повреждений."
   ]
  },
  {
   "cell_type": "code",
   "execution_count": 9,
   "id": "ccb1c6f9",
   "metadata": {},
   "outputs": [
    {
     "name": "stdout",
     "output_type": "stream",
     "text": [
      "Done.\n"
     ]
    },
    {
     "data": {
      "text/plain": [
       "[]"
      ]
     },
     "execution_count": 9,
     "metadata": {},
     "output_type": "execute_result"
    }
   ],
   "source": [
    "%%sql\n",
    "\n",
    "DROP TABLE IF EXISTS shipping.cargo, shipping.cargo_types;"
   ]
  },
  {
   "cell_type": "code",
   "execution_count": 10,
   "id": "bae3255f",
   "metadata": {},
   "outputs": [
    {
     "name": "stdout",
     "output_type": "stream",
     "text": [
      "Done.\n"
     ]
    },
    {
     "data": {
      "text/plain": [
       "[]"
      ]
     },
     "execution_count": 10,
     "metadata": {},
     "output_type": "execute_result"
    }
   ],
   "source": [
    "%%sql\n",
    "\n",
    "CREATE TABLE shipping.cargo (\n",
    "    cargo_id bigint PRIMARY KEY,\n",
    "    ship_id bigint,\n",
    "    cargo_name text,\n",
    "    type_id smallint,\n",
    "    weight_init NUMERIC CHECK (weight_init > 0),\n",
    "    weight_last NUMERIC CHECK (weight_last >= 0),\n",
    "    damage_rate decimal(6,3) GENERATED ALWAYS AS ((1 - weight_last/weight_init) * 100) STORED \n",
    ");"
   ]
  },
  {
   "cell_type": "code",
   "execution_count": 11,
   "id": "2fe3f4ca",
   "metadata": {},
   "outputs": [
    {
     "name": "stdout",
     "output_type": "stream",
     "text": [
      "Done.\n"
     ]
    },
    {
     "data": {
      "text/plain": [
       "[]"
      ]
     },
     "execution_count": 11,
     "metadata": {},
     "output_type": "execute_result"
    }
   ],
   "source": [
    "%%sql\n",
    "\n",
    "CREATE TABLE shipping.cargo_types (\n",
    "    type_id smallint PRIMARY KEY,\n",
    "    name text   \n",
    ");"
   ]
  },
  {
   "cell_type": "code",
   "execution_count": 12,
   "id": "a2d9246e",
   "metadata": {},
   "outputs": [
    {
     "name": "stdout",
     "output_type": "stream",
     "text": [
      "3 rows affected.\n"
     ]
    },
    {
     "data": {
      "text/plain": [
       "[]"
      ]
     },
     "execution_count": 12,
     "metadata": {},
     "output_type": "execute_result"
    }
   ],
   "source": [
    "%%sql\n",
    "\n",
    "INSERT INTO\n",
    "    shipping.cargo_types\n",
    "VALUES\n",
    "    (1, 'Оборудование'),\n",
    "    (2, 'Продукты питания'),\n",
    "    (3, 'Прочие товары');"
   ]
  },
  {
   "cell_type": "code",
   "execution_count": 13,
   "id": "7a882eb7",
   "metadata": {},
   "outputs": [
    {
     "name": "stdout",
     "output_type": "stream",
     "text": [
      "2 rows affected.\n"
     ]
    },
    {
     "data": {
      "text/plain": [
       "[]"
      ]
     },
     "execution_count": 13,
     "metadata": {},
     "output_type": "execute_result"
    }
   ],
   "source": [
    "%%sql\n",
    "\n",
    "INSERT INTO\n",
    "    cargo\n",
    "VALUES\n",
    "    (1006,    1000,    'Модем',    1,    100,    98.00), \n",
    "    (1007,    1000,    'Картофель',    2,    100.05,    90.00);"
   ]
  },
  {
   "cell_type": "code",
   "execution_count": 14,
   "id": "43b84a6f",
   "metadata": {
    "scrolled": true
   },
   "outputs": [
    {
     "name": "stdout",
     "output_type": "stream",
     "text": [
      "2 rows affected.\n"
     ]
    },
    {
     "data": {
      "text/html": [
       "<table>\n",
       "    <tr>\n",
       "        <th>cargo_id</th>\n",
       "        <th>ship_id</th>\n",
       "        <th>cargo_name</th>\n",
       "        <th>type_id</th>\n",
       "        <th>weight_init</th>\n",
       "        <th>weight_last</th>\n",
       "        <th>damage_rate</th>\n",
       "        <th>type_id_1</th>\n",
       "        <th>name</th>\n",
       "    </tr>\n",
       "    <tr>\n",
       "        <td>1006</td>\n",
       "        <td>1000</td>\n",
       "        <td>Модем</td>\n",
       "        <td>1</td>\n",
       "        <td>100</td>\n",
       "        <td>98.00</td>\n",
       "        <td>2.000</td>\n",
       "        <td>1</td>\n",
       "        <td>Оборудование</td>\n",
       "    </tr>\n",
       "    <tr>\n",
       "        <td>1007</td>\n",
       "        <td>1000</td>\n",
       "        <td>Картофель</td>\n",
       "        <td>2</td>\n",
       "        <td>100.05</td>\n",
       "        <td>90.00</td>\n",
       "        <td>10.045</td>\n",
       "        <td>2</td>\n",
       "        <td>Продукты питания</td>\n",
       "    </tr>\n",
       "</table>"
      ],
      "text/plain": [
       "[(1006, 1000, 'Модем', 1, Decimal('100'), Decimal('98.00'), Decimal('2.000'), 1, 'Оборудование'),\n",
       " (1007, 1000, 'Картофель', 2, Decimal('100.05'), Decimal('90.00'), Decimal('10.045'), 2, 'Продукты питания')]"
      ]
     },
     "execution_count": 14,
     "metadata": {},
     "output_type": "execute_result"
    }
   ],
   "source": [
    "%%sql\n",
    "\n",
    "SELECT\n",
    "    *\n",
    "FROM\n",
    "    shipping.cargo c\n",
    "    LEFT JOIN cargo_types t ON t.type_id = c.type_id;"
   ]
  },
  {
   "cell_type": "markdown",
   "id": "8cf119fe",
   "metadata": {},
   "source": [
    "## Задание 3.\n"
   ]
  },
  {
   "cell_type": "markdown",
   "id": "378b3942",
   "metadata": {},
   "source": [
    "Создайте код таблицы для хранения данных из следующего источника https://www.kaggle.com/nobelfoundation/nobel-laureates . Это файл CSV, который мы условно хотим разместить в Stage Area (схема хранения сырых данных, которые далее предполагается использовать при создании витрин).  Исследуйте источник, задайте правильные типы данных, чтобы мы могли разместить в нашей таблице эти данные AS IS, без изменений."
   ]
  },
  {
   "cell_type": "markdown",
   "id": "d9f52ac6",
   "metadata": {},
   "source": [
    "**Решение:** Выберем типы данных с условием импорта предоставленного файла. Учтем особенности предоставленного csv. \n",
    "- Поле \"Prize Share\" содержит дробь в математической записи, поэтому сохраним его как текст. В дальнейшем, в зависимости от целей заказчика, можно преобразовать его в десятичную дробь или сохранить отдельно числитель и знаменатель как целочисленные числа.\n",
    "- Поле \"Birth Date\" содержит дату, но присутствуют данные неверного формата, например \"1943-00-00\", поэтому вместо типа date пока используем тип varchar(10).\n",
    "- Поле \"Sex\" в дальнейшем можно закождировать и создать отдельный словарь\n",
    "\n",
    "В дальнейшем, с учетом изменения данных, типы можно пересмотреть."
   ]
  },
  {
   "cell_type": "code",
   "execution_count": 15,
   "id": "ea11ace1",
   "metadata": {},
   "outputs": [],
   "source": [
    "!explorer ."
   ]
  },
  {
   "cell_type": "code",
   "execution_count": 16,
   "id": "6bae6da5",
   "metadata": {},
   "outputs": [
    {
     "name": "stdout",
     "output_type": "stream",
     "text": [
      "Done.\n"
     ]
    },
    {
     "data": {
      "text/plain": [
       "[]"
      ]
     },
     "execution_count": 16,
     "metadata": {},
     "output_type": "execute_result"
    }
   ],
   "source": [
    "%%sql\n",
    "\n",
    "CREATE SCHEMA IF NOT EXISTS nobel;"
   ]
  },
  {
   "cell_type": "code",
   "execution_count": 17,
   "id": "9c15f43d",
   "metadata": {},
   "outputs": [
    {
     "name": "stdout",
     "output_type": "stream",
     "text": [
      "Done.\n"
     ]
    },
    {
     "data": {
      "text/plain": [
       "[]"
      ]
     },
     "execution_count": 17,
     "metadata": {},
     "output_type": "execute_result"
    }
   ],
   "source": [
    "%%sql\n",
    "\n",
    "DROP TABLE IF EXISTS nobel.nobel_laureates;"
   ]
  },
  {
   "cell_type": "code",
   "execution_count": 18,
   "id": "e884e73d",
   "metadata": {
    "scrolled": true
   },
   "outputs": [
    {
     "name": "stdout",
     "output_type": "stream",
     "text": [
      "Done.\n"
     ]
    },
    {
     "data": {
      "text/plain": [
       "[]"
      ]
     },
     "execution_count": 18,
     "metadata": {},
     "output_type": "execute_result"
    }
   ],
   "source": [
    "%%sql\n",
    "\n",
    "CREATE TABLE nobel.nobel_laureates (\n",
    "    prize_year SMALLINT,\n",
    "    category TEXT,\n",
    "    prize TEXT,\n",
    "    motivation TEXT,\n",
    "    prize_share text,\n",
    "    laureate_id int,\n",
    "    laureate_type TEXT,\n",
    "    full_name TEXT,\n",
    "    birth_date varchar(10),\n",
    "    birth_city TEXT,\n",
    "    birth_country TEXT,\n",
    "    sex TEXT,\n",
    "    organization_name TEXT,\n",
    "    organization_city TEXT,\n",
    "    organization_country TEXT,\n",
    "    death_date date,\n",
    "    death_city TEXT,\n",
    "    death_country TEXT\n",
    ");"
   ]
  },
  {
   "cell_type": "code",
   "execution_count": 19,
   "id": "301cb01c",
   "metadata": {},
   "outputs": [
    {
     "name": "stdout",
     "output_type": "stream",
     "text": [
      "Done.\n"
     ]
    },
    {
     "data": {
      "text/plain": [
       "[]"
      ]
     },
     "execution_count": 19,
     "metadata": {},
     "output_type": "execute_result"
    }
   ],
   "source": [
    "%%sql\n",
    "\n",
    "set datestyle = 'ISO, YMD';"
   ]
  },
  {
   "cell_type": "code",
   "execution_count": 20,
   "id": "cf5bcf7e",
   "metadata": {
    "scrolled": true
   },
   "outputs": [
    {
     "name": "stdout",
     "output_type": "stream",
     "text": [
      "0 rows affected.\n"
     ]
    },
    {
     "data": {
      "text/html": [
       "<table>\n",
       "    <tr>\n",
       "    </tr>\n",
       "</table>"
      ],
      "text/plain": [
       "[]"
      ]
     },
     "execution_count": 20,
     "metadata": {},
     "output_type": "execute_result"
    }
   ],
   "source": [
    "%%sql\n",
    "\n",
    "\\copy\n",
    "    nobel.nobel_laureates\n",
    "FROM\n",
    "    'data/nobel_archive.csv' \n",
    "DELIMITER ',' \n",
    "CSV HEADER;"
   ]
  },
  {
   "cell_type": "code",
   "execution_count": 22,
   "id": "d786e0ec",
   "metadata": {
    "scrolled": false
   },
   "outputs": [
    {
     "name": "stdout",
     "output_type": "stream",
     "text": [
      "3 rows affected.\n"
     ]
    },
    {
     "data": {
      "text/html": [
       "<table>\n",
       "    <tr>\n",
       "        <th>prize_year</th>\n",
       "        <th>category</th>\n",
       "        <th>prize</th>\n",
       "        <th>motivation</th>\n",
       "        <th>prize_share</th>\n",
       "        <th>laureate_id</th>\n",
       "        <th>full_name</th>\n",
       "        <th>birth_date</th>\n",
       "        <th>birth_city</th>\n",
       "    </tr>\n",
       "    <tr>\n",
       "        <td>1901</td>\n",
       "        <td>Chemistry</td>\n",
       "        <td>The Nobel Prize in Chemistry 1901</td>\n",
       "        <td>&quot;in recognition of the extraordinary services he has rendered by the discovery of the laws of chemical dynamics and osmotic pressure in solutions&quot;</td>\n",
       "        <td>1/1</td>\n",
       "        <td>160</td>\n",
       "        <td>Jacobus Henricus van &#x27;t Hoff</td>\n",
       "        <td>1852-08-30</td>\n",
       "        <td>Rotterdam</td>\n",
       "    </tr>\n",
       "    <tr>\n",
       "        <td>1901</td>\n",
       "        <td>Literature</td>\n",
       "        <td>The Nobel Prize in Literature 1901</td>\n",
       "        <td>&quot;in special recognition of his poetic composition, which gives evidence of lofty idealism, artistic perfection and a rare combination of the qualities of both heart and intellect&quot;</td>\n",
       "        <td>1/1</td>\n",
       "        <td>569</td>\n",
       "        <td>Sully Prudhomme</td>\n",
       "        <td>1839-03-16</td>\n",
       "        <td>Paris</td>\n",
       "    </tr>\n",
       "    <tr>\n",
       "        <td>1901</td>\n",
       "        <td>Medicine</td>\n",
       "        <td>The Nobel Prize in Physiology or Medicine 1901</td>\n",
       "        <td>&quot;for his work on serum therapy, especially its application against diphtheria, by which he has opened a new road in the domain of medical science and thereby placed in the hands of the physician a victorious weapon against illness and deaths&quot;</td>\n",
       "        <td>1/1</td>\n",
       "        <td>293</td>\n",
       "        <td>Emil Adolf von Behring</td>\n",
       "        <td>1854-03-15</td>\n",
       "        <td>Hansdorf (Lawice)</td>\n",
       "    </tr>\n",
       "</table>"
      ],
      "text/plain": [
       "[(1901, 'Chemistry', 'The Nobel Prize in Chemistry 1901', '\"in recognition of the extraordinary services he has rendered by the discovery of the laws of chemical dynamics and osmotic pressure in solutions\"', '1/1', 160, \"Jacobus Henricus van 't Hoff\", '1852-08-30', 'Rotterdam'),\n",
       " (1901, 'Literature', 'The Nobel Prize in Literature 1901', '\"in special recognition of his poetic composition, which gives evidence of lofty idealism, artistic perfection and a rare combination of the qualities of both heart and intellect\"', '1/1', 569, 'Sully Prudhomme', '1839-03-16', 'Paris'),\n",
       " (1901, 'Medicine', 'The Nobel Prize in Physiology or Medicine 1901', '\"for his work on serum therapy, especially its application against diphtheria, by which he has opened a new road in the domain of medical science and thereby placed in the hands of the physician a victorious weapon against illness and deaths\"', '1/1', 293, 'Emil Adolf von Behring', '1854-03-15', 'Hansdorf (Lawice)')]"
      ]
     },
     "execution_count": 22,
     "metadata": {},
     "output_type": "execute_result"
    }
   ],
   "source": [
    "%%sql\n",
    "\n",
    "SELECT\n",
    "    n.prize_year,\n",
    "    n.category,\n",
    "    n.prize,\n",
    "    n.motivation,\n",
    "    n.prize_share,\n",
    "    n.laureate_id,\n",
    "    n.full_name,\n",
    "    n.birth_date,\n",
    "    n.birth_city\n",
    "FROM\n",
    "    nobel.nobel_laureates n\n",
    "LIMIT 3;"
   ]
  }
 ],
 "metadata": {
  "kernelspec": {
   "display_name": "Python 3 (ipykernel)",
   "language": "python",
   "name": "python3"
  },
  "language_info": {
   "codemirror_mode": {
    "name": "ipython",
    "version": 3
   },
   "file_extension": ".py",
   "mimetype": "text/x-python",
   "name": "python",
   "nbconvert_exporter": "python",
   "pygments_lexer": "ipython3",
   "version": "3.9.5"
  }
 },
 "nbformat": 4,
 "nbformat_minor": 5
}
