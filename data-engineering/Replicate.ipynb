{
 "cells": [
  {
   "cell_type": "code",
   "execution_count": 9,
   "id": "65c1b671",
   "metadata": {},
   "outputs": [],
   "source": [
    "import json\n",
    "import sqlalchemy\n",
    "import pandas as pd"
   ]
  },
  {
   "cell_type": "code",
   "execution_count": 10,
   "id": "2d41a78b",
   "metadata": {},
   "outputs": [],
   "source": [
    "with open('.secret') as f:\n",
    "    data = json.load(f)\n",
    "    user = data['user']\n",
    "    password = data['password']\n",
    "    server = data['server']\n",
    "    db = data['db']"
   ]
  },
  {
   "cell_type": "code",
   "execution_count": 11,
   "id": "0e1dbb02",
   "metadata": {},
   "outputs": [],
   "source": [
    "engine = sqlalchemy.create_engine(f'postgresql://{user}:{password}@{server}/{db}')"
   ]
  },
  {
   "cell_type": "code",
   "execution_count": 12,
   "id": "28adf306",
   "metadata": {},
   "outputs": [],
   "source": [
    "schema_name = 'shipping'\n",
    "\n",
    "if not engine.dialect.has_schema(engine, schema_name):\n",
    "    engine.execute(sqlalchemy.schema.CreateSchema(schema_name))"
   ]
  },
  {
   "cell_type": "code",
   "execution_count": 13,
   "id": "b8a84e4d",
   "metadata": {},
   "outputs": [],
   "source": [
    "data = [('data/customer_query_result_2022-02-09T19_34_00.783785Z.csv', 'cust_id', 'customer'),\n",
    "        ('data/city_query_result_2022-02-09T19_34_30.225364Z.csv', 'city_id', 'city'),\n",
    "        ('data/driver_query_result_2022-02-09T19_34_50.164069Z.csv', 'driver_id', 'driver'),\n",
    "        ('data/shipment_query_result_2022-02-09T19_35_13.979762Z.csv', 'ship_id', 'shipment'),\n",
    "        ('data/truck_query_result_2022-02-09T19_35_34.922257Z.csv', 'truck_id', 'truck')]"
   ]
  },
  {
   "cell_type": "code",
   "execution_count": 14,
   "id": "edafbe23",
   "metadata": {},
   "outputs": [],
   "source": [
    "for t in data:\n",
    "    df = pd.read_csv(t[0], index_col=t[1])\n",
    "    df.to_sql(t[2], engine, schema = schema_name)"
   ]
  }
 ],
 "metadata": {
  "kernelspec": {
   "display_name": "Python 3 (ipykernel)",
   "language": "python",
   "name": "python3"
  },
  "language_info": {
   "codemirror_mode": {
    "name": "ipython",
    "version": 3
   },
   "file_extension": ".py",
   "mimetype": "text/x-python",
   "name": "python",
   "nbconvert_exporter": "python",
   "pygments_lexer": "ipython3",
   "version": "3.9.5"
  }
 },
 "nbformat": 4,
 "nbformat_minor": 5
}
