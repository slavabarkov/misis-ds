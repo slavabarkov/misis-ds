{
 "cells": [
  {
   "cell_type": "markdown",
   "id": "b980d805",
   "metadata": {},
   "source": [
    "## Модуль 1, домашнее задание\n",
    "#### Автор: Вячеслав Барков"
   ]
  },
  {
   "cell_type": "code",
   "execution_count": 1,
   "id": "d14a8d54",
   "metadata": {},
   "outputs": [],
   "source": [
    "%load_ext sql\n",
    "%config SqlMagic.displaycon = False"
   ]
  },
  {
   "cell_type": "code",
   "execution_count": 2,
   "id": "3cf1531e",
   "metadata": {},
   "outputs": [],
   "source": [
    "import json"
   ]
  },
  {
   "cell_type": "code",
   "execution_count": 3,
   "id": "26e085ec",
   "metadata": {},
   "outputs": [],
   "source": [
    "with open('.secret') as f:\n",
    "    data = json.load(f)\n",
    "    user = data['user']\n",
    "    password = data['password']\n",
    "    server = data['server']\n",
    "    db = data['db']"
   ]
  },
  {
   "cell_type": "code",
   "execution_count": 4,
   "id": "2e41a540",
   "metadata": {},
   "outputs": [],
   "source": [
    "%sql postgresql://$user:$password@$server/$db"
   ]
  },
  {
   "cell_type": "code",
   "execution_count": 5,
   "id": "3d2d079f",
   "metadata": {},
   "outputs": [
    {
     "name": "stdout",
     "output_type": "stream",
     "text": [
      "Done.\n"
     ]
    },
    {
     "data": {
      "text/plain": [
       "[]"
      ]
     },
     "execution_count": 5,
     "metadata": {},
     "output_type": "execute_result"
    }
   ],
   "source": [
    "%%sql\n",
    "\n",
    "SET\n",
    "    search_path\n",
    "TO\n",
    "    shipping;"
   ]
  },
  {
   "cell_type": "markdown",
   "id": "0601c5af",
   "metadata": {},
   "source": [
    "## Задание 1.\n",
    "Напишите запрос, который выбирает нам клиентов с типом “manufacturer” из городов с кодами 266 и 602. Нас интересует название клиента, его адрес, телефон и выручка. Результат отсортируйте в по коду города и в порядке убывания выручки по клиенту в этом городе. У кого из клиентов в городе с кодом 266 лучшая выручка?"
   ]
  },
  {
   "cell_type": "code",
   "execution_count": 6,
   "id": "ceba4a4c",
   "metadata": {
    "scrolled": true
   },
   "outputs": [
    {
     "name": "stdout",
     "output_type": "stream",
     "text": [
      "4 rows affected.\n"
     ]
    },
    {
     "data": {
      "text/html": [
       "<table>\n",
       "    <tr>\n",
       "        <th>cust_name</th>\n",
       "        <th>address</th>\n",
       "        <th>phone</th>\n",
       "        <th>annual_revenue</th>\n",
       "    </tr>\n",
       "    <tr>\n",
       "        <td>Universal Products &amp; Service</td>\n",
       "        <td>2333 West Industrial Park Drive</td>\n",
       "        <td>(812) 339-6783</td>\n",
       "        <td>18355451</td>\n",
       "    </tr>\n",
       "    <tr>\n",
       "        <td>Ziebart</td>\n",
       "        <td>2440 West 3rd Street</td>\n",
       "        <td>(812) 336-7878</td>\n",
       "        <td>15608160</td>\n",
       "    </tr>\n",
       "    <tr>\n",
       "        <td>Ziebart</td>\n",
       "        <td>6754 Pearl Road</td>\n",
       "        <td>(440) 845-6031</td>\n",
       "        <td>44006667</td>\n",
       "    </tr>\n",
       "    <tr>\n",
       "        <td>A-Better Truck Cap &amp; Hitch</td>\n",
       "        <td>5340 Pearl Road</td>\n",
       "        <td>(440) 885-7100</td>\n",
       "        <td>20343876</td>\n",
       "    </tr>\n",
       "</table>"
      ],
      "text/plain": [
       "[('Universal Products & Service', '2333 West Industrial Park Drive', '(812) 339-6783', 18355451),\n",
       " ('Ziebart', '2440 West 3rd Street', '(812) 336-7878', 15608160),\n",
       " ('Ziebart', '6754 Pearl Road', '(440) 845-6031', 44006667),\n",
       " ('A-Better Truck Cap & Hitch', '5340 Pearl Road', '(440) 885-7100', 20343876)]"
      ]
     },
     "execution_count": 6,
     "metadata": {},
     "output_type": "execute_result"
    }
   ],
   "source": [
    "%%sql\n",
    "\n",
    "SELECT\n",
    "\tcust_name,\n",
    "\taddress,\n",
    "\tphone,\n",
    "\tannual_revenue\n",
    "FROM\n",
    "\tcustomer\n",
    "WHERE\n",
    "\tcust_type = 'manufacturer'\n",
    "\tAND city_id IN (266, 602)\n",
    "ORDER BY\n",
    "\tcity_id,\n",
    "\tannual_revenue DESC;"
   ]
  },
  {
   "cell_type": "markdown",
   "id": "4e5cf998",
   "metadata": {},
   "source": [
    "**Ответ:** Лучшая выручка в городе с кодом 266 у клиента \"Universal Products & Service\"\\\n",
    "Можем получить ответ отдельным запросом:"
   ]
  },
  {
   "cell_type": "code",
   "execution_count": 7,
   "id": "ff3fa4ed",
   "metadata": {},
   "outputs": [
    {
     "name": "stdout",
     "output_type": "stream",
     "text": [
      "1 rows affected.\n"
     ]
    },
    {
     "data": {
      "text/html": [
       "<table>\n",
       "    <tr>\n",
       "        <th>cust_name</th>\n",
       "        <th>address</th>\n",
       "        <th>phone</th>\n",
       "        <th>annual_revenue</th>\n",
       "        <th>city_id</th>\n",
       "    </tr>\n",
       "    <tr>\n",
       "        <td>Universal Products &amp; Service</td>\n",
       "        <td>2333 West Industrial Park Drive</td>\n",
       "        <td>(812) 339-6783</td>\n",
       "        <td>18355451</td>\n",
       "        <td>266</td>\n",
       "    </tr>\n",
       "</table>"
      ],
      "text/plain": [
       "[('Universal Products & Service', '2333 West Industrial Park Drive', '(812) 339-6783', 18355451, 266)]"
      ]
     },
     "execution_count": 7,
     "metadata": {},
     "output_type": "execute_result"
    }
   ],
   "source": [
    "%%sql\n",
    "\n",
    "SELECT\n",
    "\tcust_name,\n",
    "\taddress,\n",
    "\tphone,\n",
    "\tannual_revenue,\n",
    "    city_id\n",
    "FROM\n",
    "\tcustomer\n",
    "WHERE\n",
    "\tcust_type = 'manufacturer'\n",
    "\tAND city_id = 266\n",
    "ORDER BY\n",
    "\tannual_revenue DESC\n",
    "LIMIT 1;"
   ]
  },
  {
   "cell_type": "markdown",
   "id": "f5e6ba1c",
   "metadata": {},
   "source": [
    "## Задание 2.\n",
    "Напишите запрос, который покажет нам сумму годовой выручки всех клиентов по городам. В результате надо отобрать только те записи, где сумма выручки не менее 50 млн. долларов, а результат нужно отсортировать от максимальной выручки к минимальной. В каком городе (код города) у клиентов лучше всего идет бизнес? "
   ]
  },
  {
   "cell_type": "code",
   "execution_count": 8,
   "id": "54898d16",
   "metadata": {},
   "outputs": [
    {
     "name": "stdout",
     "output_type": "stream",
     "text": [
      "10 rows affected.\n"
     ]
    },
    {
     "data": {
      "text/html": [
       "<table>\n",
       "    <tr>\n",
       "        <th>city_id</th>\n",
       "        <th>revenue_sum</th>\n",
       "    </tr>\n",
       "    <tr>\n",
       "        <td>602</td>\n",
       "        <td>111951545</td>\n",
       "    </tr>\n",
       "    <tr>\n",
       "        <td>210</td>\n",
       "        <td>80926202</td>\n",
       "    </tr>\n",
       "    <tr>\n",
       "        <td>604</td>\n",
       "        <td>79257563</td>\n",
       "    </tr>\n",
       "    <tr>\n",
       "        <td>655</td>\n",
       "        <td>73288881</td>\n",
       "    </tr>\n",
       "    <tr>\n",
       "        <td>688</td>\n",
       "        <td>70623116</td>\n",
       "    </tr>\n",
       "    <tr>\n",
       "        <td>621</td>\n",
       "        <td>70232280</td>\n",
       "    </tr>\n",
       "    <tr>\n",
       "        <td>495</td>\n",
       "        <td>66829482</td>\n",
       "    </tr>\n",
       "    <tr>\n",
       "        <td>677</td>\n",
       "        <td>62730814</td>\n",
       "    </tr>\n",
       "    <tr>\n",
       "        <td>291</td>\n",
       "        <td>61982157</td>\n",
       "    </tr>\n",
       "    <tr>\n",
       "        <td>470</td>\n",
       "        <td>58260764</td>\n",
       "    </tr>\n",
       "</table>"
      ],
      "text/plain": [
       "[(602, Decimal('111951545')),\n",
       " (210, Decimal('80926202')),\n",
       " (604, Decimal('79257563')),\n",
       " (655, Decimal('73288881')),\n",
       " (688, Decimal('70623116')),\n",
       " (621, Decimal('70232280')),\n",
       " (495, Decimal('66829482')),\n",
       " (677, Decimal('62730814')),\n",
       " (291, Decimal('61982157')),\n",
       " (470, Decimal('58260764'))]"
      ]
     },
     "execution_count": 8,
     "metadata": {},
     "output_type": "execute_result"
    }
   ],
   "source": [
    "%%sql\n",
    "\n",
    "SELECT\n",
    "\tcity_id,\n",
    "\tSUM(annual_revenue) AS revenue_sum\n",
    "FROM\n",
    "\tcustomer\n",
    "GROUP BY\n",
    "\tcity_id\n",
    "HAVING\n",
    "\tSUM(annual_revenue) >= 50000000\n",
    "ORDER BY\n",
    "\trevenue_sum DESC;"
   ]
  },
  {
   "cell_type": "markdown",
   "id": "7d1c45b8",
   "metadata": {},
   "source": [
    "**Ответ:** Лучше всего бизнес идет в городе с кодом \"602\""
   ]
  },
  {
   "cell_type": "markdown",
   "id": "4112fab9",
   "metadata": {},
   "source": [
    "## Задание 3.\n",
    "Напишите запрос, который показывает, сколько клиентов каждого типа есть у нашей транспортной компании. Отсортируйте результат в порядке возрастания численности клиентов по типам."
   ]
  },
  {
   "cell_type": "code",
   "execution_count": 9,
   "id": "ff296007",
   "metadata": {
    "scrolled": false
   },
   "outputs": [
    {
     "name": "stdout",
     "output_type": "stream",
     "text": [
      "3 rows affected.\n"
     ]
    },
    {
     "data": {
      "text/html": [
       "<table>\n",
       "    <tr>\n",
       "        <th>cust_type</th>\n",
       "        <th>customers_count</th>\n",
       "    </tr>\n",
       "    <tr>\n",
       "        <td>wholesaler</td>\n",
       "        <td>22</td>\n",
       "    </tr>\n",
       "    <tr>\n",
       "        <td>retailer</td>\n",
       "        <td>38</td>\n",
       "    </tr>\n",
       "    <tr>\n",
       "        <td>manufacturer</td>\n",
       "        <td>40</td>\n",
       "    </tr>\n",
       "</table>"
      ],
      "text/plain": [
       "[('wholesaler', 22), ('retailer', 38), ('manufacturer', 40)]"
      ]
     },
     "execution_count": 9,
     "metadata": {},
     "output_type": "execute_result"
    }
   ],
   "source": [
    "%%sql\n",
    "\n",
    "SELECT\n",
    "\tcust_type,\n",
    "\tCOUNT(cust_id) AS customers_count\n",
    "FROM\n",
    "\tcustomer\n",
    "GROUP BY\n",
    "\tcust_type\n",
    "ORDER BY\n",
    "\tcustomers_count;"
   ]
  }
 ],
 "metadata": {
  "kernelspec": {
   "display_name": "Python 3 (ipykernel)",
   "language": "python",
   "name": "python3"
  },
  "language_info": {
   "codemirror_mode": {
    "name": "ipython",
    "version": 3
   },
   "file_extension": ".py",
   "mimetype": "text/x-python",
   "name": "python",
   "nbconvert_exporter": "python",
   "pygments_lexer": "ipython3",
   "version": "3.9.5"
  }
 },
 "nbformat": 4,
 "nbformat_minor": 5
}
