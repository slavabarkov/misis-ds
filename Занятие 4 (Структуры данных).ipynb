{
 "cells": [
  {
   "cell_type": "markdown",
   "id": "098e9498",
   "metadata": {},
   "source": [
    "**Практическое задание**  \n",
    "Напишите функцию, которая принимает на вход словарь и пару \"ключ:значение\". Функция должна проверить, если ли точно такая пара в словаре и вернуть True/False."
   ]
  },
  {
   "cell_type": "code",
   "execution_count": 3,
   "id": "e2ec889e",
   "metadata": {},
   "outputs": [],
   "source": [
    "def check_pair(input_dict, key, value):\n",
    "    return input_dict.get(key, not value) == value"
   ]
  },
  {
   "cell_type": "code",
   "execution_count": 4,
   "id": "15b44703",
   "metadata": {},
   "outputs": [],
   "source": [
    "assert check_pair({'a': 1}, 'a', 1) == True\n",
    "assert check_pair({'a': None}, 'a', 0) == False\n",
    "assert check_pair({'a': False}, 'a', False) == True\n",
    "assert check_pair({'a': False}, 'b', None) == False"
   ]
  },
  {
   "cell_type": "markdown",
   "id": "e30ffc06",
   "metadata": {},
   "source": [
    "## Самостоятельная работа\n",
    "\n",
    "1\\. Напишите функцию, которая принимает на вход словарь и удаляет из него ту пару \"ключ:значение\", которая отличается от остальных. На верхнем уровне словаря ключом будет номер, а значением – другие словари со своими ключами. Проверку на \"похожесть\" нужно делать по ключам вложенных словарей."
   ]
  },
  {
   "cell_type": "code",
   "execution_count": 27,
   "id": "7980bf67",
   "metadata": {},
   "outputs": [],
   "source": [
    "def remove_pair(input_dict):\n",
    "    \"\"\"\n",
    "    Удаляет из словаря ту пару \"ключ:значение\",\n",
    "    которая отличается от остальных.\n",
    "    \"\"\"\n",
    "\n",
    "    keys = iter(input_dict.keys())\n",
    "    key_to_delete, second_key = next(keys), next(keys)\n",
    "    reference_key = input_dict[key_to_delete].keys()\n",
    "\n",
    "    # Сравниваем первые два набора ключей, если они разные - один из них следует удалить\n",
    "    # Тогда сравниваем с третьим ключом, чтобы найти набор ключей, который отличается от остальных\n",
    "    if reference_key != input_dict[second_key].keys():\n",
    "        third_key = next(keys)\n",
    "        if reference_key != input_dict[third_key].keys():\n",
    "            reference_key = input_dict[second_key].keys()\n",
    "        else:\n",
    "            key_to_delete = second_key\n",
    "\n",
    "    # Если первые два набора ключей одинаковы - у нас есть образец набора ключей\n",
    "    else:\n",
    "        for key in keys:\n",
    "            if reference_key != input_dict[key].keys():\n",
    "                key_to_delete = key\n",
    "\n",
    "    del (input_dict[key_to_delete])\n",
    "    return input_dict"
   ]
  },
  {
   "cell_type": "code",
   "execution_count": 28,
   "id": "ae1c22c3",
   "metadata": {},
   "outputs": [
    {
     "name": "stdout",
     "output_type": "stream",
     "text": [
      "{'1': {'name': 'name', 'last_name': 'last name', 'age': 23}, '2': {'name': 'name', 'last_name': 'last name', 'age': 10}, '3': {'name': 'name', 'last_name': 'last name', 'age': 42}} \n",
      "\n",
      "{'2': {'name': 'name', 'last_name': 'last name', 'age': 10}, '3': {'name': 'name', 'last_name': 'last name', 'age': 42}, '4': {'name': 'name', 'last_name': 'last name', 'age': 1}} \n",
      "\n",
      "{'1': {'name': 'name', 'last_name': 'last name', 'age': 23}, '3': {'name': 'name', 'last_name': 'last name', 'age': 42}, '4': {'name': 'name', 'last_name': 'last name', 'age': 5}} \n",
      "\n"
     ]
    }
   ],
   "source": [
    "test_dict = {'1': {'name': 'name', 'last_name': 'last name', 'age': 23},\n",
    "             '2': {'name': 'name', 'last_name': 'last name', 'age': 10},\n",
    "             '3': {'name': 'name', 'last_name': 'last name', 'age': 42},\n",
    "             '4': {'name': 'name', 'last_name': 'last name', 'year': 2000}}\n",
    "\n",
    "test_dict_2 = {'1': {'name': 'name', 'last_name': 'last name', 'year': 2000},\n",
    "               '2': {'name': 'name', 'last_name': 'last name', 'age': 10},\n",
    "               '3': {'name': 'name', 'last_name': 'last name', 'age': 42},\n",
    "               '4': {'name': 'name', 'last_name': 'last name', 'age': 1}}\n",
    "\n",
    "test_dict_3 = {'1': {'name': 'name', 'last_name': 'last name', 'age': 23},\n",
    "               '2': {'name': 'name', 'last_name': 'last name', 'year': 2000},\n",
    "               '3': {'name': 'name', 'last_name': 'last name', 'age': 42},\n",
    "               '4': {'name': 'name', 'last_name': 'last name', 'age': 5}}\n",
    "\n",
    "\n",
    "print(remove_pair(test_dict), '\\n')\n",
    "print(remove_pair(test_dict_2), '\\n')\n",
    "print(remove_pair(test_dict_3), '\\n')"
   ]
  },
  {
   "cell_type": "markdown",
   "id": "0c8bcb81",
   "metadata": {},
   "source": [
    "2\\. Напишите функцию, которая берет на вход два словаря и возвращает только те их значения, ключи для которых есть в первом словаре, и при этом ключей для которых нет во втором."
   ]
  },
  {
   "cell_type": "code",
   "execution_count": 29,
   "id": "135116af",
   "metadata": {},
   "outputs": [],
   "source": [
    "def key_lookup(dict_1, dict_2):\n",
    "    \"\"\"\n",
    "    Берет два словаря и возвращает только те их значения,\n",
    "    ключи для которых есть в первом словаре, и при этом\n",
    "    ключей для которых нет во втором.\n",
    "    \"\"\"\n",
    "    output_values = []\n",
    "    for key in dict_1.keys():\n",
    "        if key not in dict_2.keys():\n",
    "            output_values.append(dict_1[key])\n",
    "\n",
    "    return output_values"
   ]
  },
  {
   "cell_type": "code",
   "execution_count": 30,
   "id": "c30f25ef",
   "metadata": {},
   "outputs": [
    {
     "name": "stdout",
     "output_type": "stream",
     "text": [
      "['alpha', 'delta']\n"
     ]
    }
   ],
   "source": [
    "test_dict_1, test_dict_2 = {1: 'alpha', 2: 'bravo', 3: 'charlie', 4: 'delta'}, {2: 'alpha', 3: 'echo'}\n",
    "print(key_lookup(test_dict_1, test_dict_2))"
   ]
  },
  {
   "cell_type": "markdown",
   "id": "eb8f028a",
   "metadata": {},
   "source": [
    "3\\. Напишите функцию, которая принимает на вход два множества и удаляет из множества 1 пересечение множеств 1 и 2."
   ]
  },
  {
   "cell_type": "code",
   "execution_count": 37,
   "id": "05438551",
   "metadata": {},
   "outputs": [],
   "source": [
    "def modify_sets(set_1, set_2):\n",
    "    \"\"\"\n",
    "    Принимает на вход два множества и удаляет из множества 1 пересечение множеств 1 и 2\n",
    "    \"\"\"\n",
    "    return set_1 - set_2"
   ]
  },
  {
   "cell_type": "code",
   "execution_count": 38,
   "id": "d9b00f98",
   "metadata": {},
   "outputs": [
    {
     "name": "stdout",
     "output_type": "stream",
     "text": [
      "{1, 2, 3}\n"
     ]
    }
   ],
   "source": [
    "set_1, set_2 = {1, 2, 3, 4, 5}, {4, 5, 6, 7, 8}\n",
    "print(modify_sets(set_1, set_2))"
   ]
  },
  {
   "cell_type": "markdown",
   "id": "7b588ccf",
   "metadata": {},
   "source": [
    "4\\. Напишите функцию, которая принимает на вход строку и возвращает ту же строку, но в ней первый и последний символ должны поменяться местами."
   ]
  },
  {
   "cell_type": "code",
   "execution_count": 39,
   "id": "e584138c",
   "metadata": {},
   "outputs": [],
   "source": [
    "def modify_string(input_string):\n",
    "    \"\"\"\n",
    "    Принимает на вход строку и возвращает ту же строку, в которой первый и последний символ поменяны местами\n",
    "    \"\"\"\n",
    "    return input_string[-1] + input_string[1:-1] + input_string[0]"
   ]
  },
  {
   "cell_type": "code",
   "execution_count": 40,
   "id": "2d995e64",
   "metadata": {},
   "outputs": [
    {
     "name": "stdout",
     "output_type": "stream",
     "text": [
      "dello worlH\n"
     ]
    }
   ],
   "source": [
    "print(modify_string(\"Hello world\"))"
   ]
  },
  {
   "cell_type": "markdown",
   "id": "65fedaf0",
   "metadata": {},
   "source": [
    "5\\. Напишите функцию, которая принимает на вход две строки, помещает вторую строку в середину первой и возвращает этот результат."
   ]
  },
  {
   "cell_type": "code",
   "execution_count": 41,
   "id": "ef40c0a4",
   "metadata": {},
   "outputs": [],
   "source": [
    "def insert_string(string_1, string_2):\n",
    "    \"\"\"\n",
    "    Принимает на вход две строки, помещает вторую строку в середину первой и возвращает этот результат\n",
    "    \"\"\"\n",
    "    middle = len(string_1) // 2\n",
    "    return string_1[:middle] + string_2 + string_1[middle:]"
   ]
  },
  {
   "cell_type": "code",
   "execution_count": 44,
   "id": "8c00ec4b",
   "metadata": {},
   "outputs": [
    {
     "name": "stdout",
     "output_type": "stream",
     "text": [
      "heWORLDllo\n"
     ]
    }
   ],
   "source": [
    "print(insert_string('hello', 'WORLD'))"
   ]
  },
  {
   "cell_type": "markdown",
   "id": "fa18d90d",
   "metadata": {},
   "source": [
    "5\\. \\* Эта функция при расчете индекса середины не должна учитывать символы, идущие после первого символа `#` в первой строке."
   ]
  },
  {
   "cell_type": "code",
   "execution_count": 46,
   "id": "ed87f366",
   "metadata": {},
   "outputs": [],
   "source": [
    "def insert_string(string_1, string_2):\n",
    "    \"\"\"\n",
    "    Принимает на вход две строки, помещает вторую строку в середину первой и возвращает этот результат\n",
    "    Индекс середины не учитывает символы, идущие после первого символа `#` в первой строке\n",
    "    \"\"\"\n",
    "    middle = len(string_1.split('#')[0]) // 2\n",
    "    return string_1[:middle] + string_2 + string_1[middle:]"
   ]
  },
  {
   "cell_type": "code",
   "execution_count": 47,
   "id": "830ed2d1",
   "metadata": {},
   "outputs": [
    {
     "name": "stdout",
     "output_type": "stream",
     "text": [
      "helWORLDlo # Text at the end of the # string\n"
     ]
    }
   ],
   "source": [
    "print(insert_string('hello # Text at the end of the # string', 'WORLD'))"
   ]
  }
 ],
 "metadata": {
  "kernelspec": {
   "display_name": "Python 3",
   "language": "python",
   "name": "python3"
  },
  "language_info": {
   "codemirror_mode": {
    "name": "ipython",
    "version": 3
   },
   "file_extension": ".py",
   "mimetype": "text/x-python",
   "name": "python",
   "nbconvert_exporter": "python",
   "pygments_lexer": "ipython3",
   "version": "3.9.5"
  }
 },
 "nbformat": 4,
 "nbformat_minor": 5
}
