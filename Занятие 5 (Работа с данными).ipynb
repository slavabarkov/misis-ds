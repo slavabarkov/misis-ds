{
 "cells": [
  {
   "cell_type": "markdown",
   "id": "b697c796",
   "metadata": {},
   "source": [
    "## Самостоятельная работа\n",
    "\n",
    "1. Напишите функцию, которая берет на вход словарь, в котором каждое значение – это словарь с записями (как в примерах выше) и возвращает строку в виде csv."
   ]
  },
  {
   "cell_type": "code",
   "execution_count": 22,
   "id": "a39d225c",
   "metadata": {},
   "outputs": [],
   "source": [
    "import re\n",
    "\n",
    "\n",
    "def dict_to_csv(input_dict):\n",
    "    \"\"\"\n",
    "    Берет на вход словарь, в котором каждое значение – это словарь с записями и возвращает строку в виде csv.\n",
    "    \"\"\"\n",
    "    first_key = list(input_dict.keys())[0]\n",
    "    output_string = ''\n",
    "\n",
    "    # Получаем заголовок для csv из ключей первого элемента словаря\n",
    "    for key in input_dict[first_key].keys():\n",
    "        output_string += re.sub(',', '', str(key))\n",
    "        output_string += ','\n",
    "\n",
    "    output_string = output_string[:-1] + '\\n'\n",
    "\n",
    "    for first_level_value in input_dict.values():\n",
    "        for value in first_level_value.values():\n",
    "            output_string += re.sub(',', '', str(value))\n",
    "            output_string += ','\n",
    "        output_string = output_string[:-1] + '\\n'\n",
    "\n",
    "    output_string = output_string[:-1]\n",
    "    return output_string"
   ]
  },
  {
   "cell_type": "code",
   "execution_count": 23,
   "id": "b6a675ec",
   "metadata": {},
   "outputs": [
    {
     "name": "stdout",
     "output_type": "stream",
     "text": [
      "name,last_name,age,city\n",
      "Emil,Magerramov,28,SPb\n",
      "Sergey,Verentsov,26,Moscow\n"
     ]
    }
   ],
   "source": [
    "test_dict = {\"1\": {\"name\": \"Emil\", \"last_name\": \"Magerramov\", \"age\": \"28\", \"city\": \"SPb\"}, \"2\": {\n",
    "    \"name\": \"Sergey\", \"last_name\": \"Verentsov\", \"age\": \"26\", \"city\": \"Moscow\"}}\n",
    "print(dict_to_csv(test_dict))"
   ]
  },
  {
   "cell_type": "markdown",
   "id": "091cc275",
   "metadata": {},
   "source": [
    "2. Улучшите предыдущую функцию, чтобы она считывала json с файловой системы и записывала csv в ту же папку."
   ]
  },
  {
   "cell_type": "code",
   "execution_count": 26,
   "id": "80c01325",
   "metadata": {},
   "outputs": [],
   "source": [
    "import json\n",
    "\n",
    "\n",
    "def json_to_csv(json_path, csv_path):\n",
    "    \"\"\"\n",
    "    Считывает json с файловой системы, формирует csv, записывает его в ту же папку\n",
    "    \n",
    "    Параметры:\n",
    "      json_path: str - путь до файла json\n",
    "      csv_path: str - путь до файла csv\n",
    "    \"\"\"\n",
    "    with open(json_path, 'r') as f:\n",
    "        input_dict = json.load(f)\n",
    "\n",
    "    first_key = list(input_dict.keys())[0]\n",
    "    output_string = ''\n",
    "\n",
    "    # Получаем заголовок для csv из ключей первого элемента словаря\n",
    "    for key in input_dict[first_key].keys():\n",
    "        output_string += re.sub(',', '', str(key))\n",
    "        output_string += ','\n",
    "\n",
    "    output_string = output_string[:-1] + '\\n'\n",
    "\n",
    "    for first_level_value in input_dict.values():\n",
    "        for value in first_level_value.values():\n",
    "            output_string += re.sub(',', '', str(value))\n",
    "            output_string += ','\n",
    "        output_string = output_string[:-1] + '\\n'\n",
    "\n",
    "    output_string = output_string[:-1]\n",
    "\n",
    "    with open(csv_path, 'w') as f:\n",
    "        f.write(output_string)"
   ]
  },
  {
   "cell_type": "code",
   "execution_count": 27,
   "id": "1ac49757",
   "metadata": {},
   "outputs": [
    {
     "name": "stdout",
     "output_type": "stream",
     "text": [
      "name,last_name,age,city\n",
      "Emil,Magerramov,28,SPb\n",
      "Sergey,Verentsov,26,Moscow\n"
     ]
    }
   ],
   "source": [
    "!echo {\"1\": {\"name\": \"Emil\", \"last_name\": \"Magerramov\", \"age\": \"28\", \"city\": \"SPb\"}, \"2\": {\"name\": \"Sergey\", \"last_name\": \"Verentsov\", \"age\": \"26\", \"city\": \"Moscow\"}} > ./data/data.json\n",
    "\n",
    "json_to_csv('data/data.json', 'data/data.csv')\n",
    "\n",
    "!cat < ./data/data.csv"
   ]
  },
  {
   "cell_type": "markdown",
   "id": "d0c6781b",
   "metadata": {},
   "source": [
    "3. Сделайте функцию, которая принимает на вход путь к json-файлу и список ключей. Функция должна считать json с файловой системы, удалить пары ключ:значение для ключей из входного списка и возвращала словарь-результат."
   ]
  },
  {
   "cell_type": "code",
   "execution_count": 33,
   "id": "46deb874",
   "metadata": {},
   "outputs": [],
   "source": [
    "def read_modify_json(json_path, key_list):\n",
    "    \"\"\"\n",
    "    Считывает json с файловой системы,\n",
    "    удаляет пары ключ:значение для ключей из входного списка,\n",
    "    возвращалет словарь-результат\n",
    "\n",
    "    Параметры:\n",
    "      json_path: str - путь до файла json\n",
    "      key_list: list[str] - список ключей для удаления\n",
    "    \"\"\"\n",
    "    with open(json_path, 'r') as f:\n",
    "        input_json_dict = json.load(f)\n",
    "\n",
    "    for key in key_list:\n",
    "        input_json_dict.pop(key, None)\n",
    "\n",
    "    return input_json_dict"
   ]
  },
  {
   "cell_type": "code",
   "execution_count": 34,
   "id": "e31aa1b0",
   "metadata": {},
   "outputs": [
    {
     "data": {
      "text/plain": [
       "{'1': 'alpha', '4': 'delta'}"
      ]
     },
     "execution_count": 34,
     "metadata": {},
     "output_type": "execute_result"
    }
   ],
   "source": [
    "!echo {\"1\": \"alpha\", \"2\": \"bravo\", \"3\": \"charlie\", \"4\": \"delta\"} > ./data/data_2.json\n",
    "\n",
    "read_modify_json('data/data_2.json', ['2', '3'])"
   ]
  }
 ],
 "metadata": {
  "kernelspec": {
   "display_name": "Python 3",
   "language": "python",
   "name": "python3"
  },
  "language_info": {
   "codemirror_mode": {
    "name": "ipython",
    "version": 3
   },
   "file_extension": ".py",
   "mimetype": "text/x-python",
   "name": "python",
   "nbconvert_exporter": "python",
   "pygments_lexer": "ipython3",
   "version": "3.9.5"
  }
 },
 "nbformat": 4,
 "nbformat_minor": 5
}
