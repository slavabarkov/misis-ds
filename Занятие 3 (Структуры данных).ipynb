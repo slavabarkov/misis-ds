{
 "cells": [
  {
   "cell_type": "markdown",
   "id": "04886685",
   "metadata": {},
   "source": [
    "**Практическое задание**  \n",
    "Напишите код, который возьмет на вход список и удалит из него все четные элементы."
   ]
  },
  {
   "cell_type": "code",
   "execution_count": 20,
   "id": "187695d0",
   "metadata": {},
   "outputs": [],
   "source": [
    "def list_odd(input_list):\n",
    "    for i in input_list:\n",
    "        if i % 2 == 0:\n",
    "            input_list.remove(i)\n",
    "    return input_list"
   ]
  },
  {
   "cell_type": "code",
   "execution_count": 21,
   "id": "8ca95522",
   "metadata": {},
   "outputs": [],
   "source": [
    "assert list_odd([1, 2, 3, 4, 5, 6, 7, 8]) == [1, 3, 5, 7]"
   ]
  },
  {
   "cell_type": "markdown",
   "id": "73c337d0",
   "metadata": {},
   "source": [
    "**Практическое задание**  \n",
    "Напишите код, который возьмет на вход список с повторяющимися значениями и определит, какое значение встретилось больше всего раз. Надо найти и это значение, и то, сколько раз оно встретилось."
   ]
  },
  {
   "cell_type": "code",
   "execution_count": 22,
   "id": "d85e34a8",
   "metadata": {},
   "outputs": [],
   "source": [
    "def most_recurring(input_list):\n",
    "    value, count = None, 0\n",
    "    for i in input_list:\n",
    "        if input_list.count(i) > count:\n",
    "            value, count = i, input_list.count(i)\n",
    "    return value, count"
   ]
  },
  {
   "cell_type": "code",
   "execution_count": 23,
   "id": "2b93d157",
   "metadata": {},
   "outputs": [],
   "source": [
    "assert most_recurring([1, 1, 2, 2, 3, 3, 3, 4, 4, 5, 5, 5, 5, 6, 6]) == (5, 4)"
   ]
  },
  {
   "cell_type": "markdown",
   "id": "b31e99a8",
   "metadata": {},
   "source": [
    "**Практическое задание**  \n",
    "Напишите код, который добавляет новый элемент в кортеж."
   ]
  },
  {
   "cell_type": "code",
   "execution_count": 29,
   "id": "e3ced4ed",
   "metadata": {},
   "outputs": [
    {
     "data": {
      "text/plain": [
       "(1, 2, 3, 4)"
      ]
     },
     "execution_count": 29,
     "metadata": {},
     "output_type": "execute_result"
    }
   ],
   "source": [
    "tuple_to_modify = (1, 2, 3)\n",
    "new_element = 4\n",
    "tuple_to_modify = tuple_to_modify + (new_element,)\n",
    "\n",
    "tuple_to_modify"
   ]
  },
  {
   "cell_type": "markdown",
   "id": "ce544c5d",
   "metadata": {},
   "source": [
    "## Самостоятельная работа\n",
    "\n",
    "1. Напишите функцию, которая принимает на вход два списка и возвращает максимальное и минимальное значение среди обоих списков.\n"
   ]
  },
  {
   "cell_type": "code",
   "execution_count": 1,
   "id": "f5aa9e44",
   "metadata": {},
   "outputs": [],
   "source": [
    "def max_min_2_lists(list_1, list_2):\n",
    "    return max(list_1 + list_2), min(list_1 + list_2)"
   ]
  },
  {
   "cell_type": "code",
   "execution_count": 3,
   "id": "a7f48b3e",
   "metadata": {},
   "outputs": [],
   "source": [
    "assert max_min_2_lists([2, 3, 4], [-7, 100, 9]) == (100, -7)"
   ]
  },
  {
   "cell_type": "markdown",
   "id": "f6375182",
   "metadata": {},
   "source": [
    "2. Напишите функцию, которая принимает на вход два списка и возвращает в виде списка те значения, которые есть во втором списке, но которых нет в первом."
   ]
  },
  {
   "cell_type": "code",
   "execution_count": 9,
   "id": "7b5ea691",
   "metadata": {},
   "outputs": [],
   "source": [
    "def list_difference(list_1, list_2):\n",
    "    return list(set(list_2) - set(list_1))"
   ]
  },
  {
   "cell_type": "code",
   "execution_count": 10,
   "id": "5938452d",
   "metadata": {},
   "outputs": [],
   "source": [
    "assert list_difference([2, 3, 4], [1, 2, 3, 4, 5, 6]) == [1, 5, 6]"
   ]
  },
  {
   "cell_type": "markdown",
   "id": "7545898b",
   "metadata": {},
   "source": [
    "Без использования множеств:"
   ]
  },
  {
   "cell_type": "code",
   "execution_count": 11,
   "id": "a3aad8d2",
   "metadata": {},
   "outputs": [],
   "source": [
    "def list_difference(list_1, list_2):\n",
    "    output_list = []\n",
    "    for i in list_2:\n",
    "        if i not in list_1:\n",
    "            output_list.append(i)\n",
    "    return output_list"
   ]
  },
  {
   "cell_type": "code",
   "execution_count": 12,
   "id": "e8053fa8",
   "metadata": {},
   "outputs": [],
   "source": [
    "assert list_difference([2, 3, 4], [1, 2, 3, 4, 5, 6]) == [1, 5, 6]"
   ]
  },
  {
   "cell_type": "markdown",
   "id": "2ba735d7",
   "metadata": {},
   "source": [
    "3. Напишите функцию, которая принимает на вход список и возвращает такой же список, но в котором первое значение стало последним.  \n",
    "Представьте, что это очередь и тот, кто в начале идет на прием к врачу первым. При этом, если человек опоздал, его нужно отправить в конец очереди."
   ]
  },
  {
   "cell_type": "code",
   "execution_count": 13,
   "id": "c41d0584",
   "metadata": {},
   "outputs": [],
   "source": [
    "def swap_first_last(input_list):\n",
    "    output_list = input_list\n",
    "    output_list[0], output_list[-1] = output_list[-1], output_list[0]\n",
    "    return output_list"
   ]
  },
  {
   "cell_type": "code",
   "execution_count": 14,
   "id": "7e04ee21",
   "metadata": {},
   "outputs": [],
   "source": [
    "assert swap_first_last([1, 2, 3, 4, 5]) == [5, 2, 3, 4, 1]"
   ]
  }
 ],
 "metadata": {
  "kernelspec": {
   "display_name": "Python 3",
   "language": "python",
   "name": "python3"
  },
  "language_info": {
   "codemirror_mode": {
    "name": "ipython",
    "version": 3
   },
   "file_extension": ".py",
   "mimetype": "text/x-python",
   "name": "python",
   "nbconvert_exporter": "python",
   "pygments_lexer": "ipython3",
   "version": "3.9.5"
  }
 },
 "nbformat": 4,
 "nbformat_minor": 5
}
