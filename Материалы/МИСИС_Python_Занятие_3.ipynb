{
 "cells": [
  {
   "cell_type": "markdown",
   "metadata": {
    "id": "EawSdiWPE1ZD"
   },
   "source": [
    "# Программирование на Python: Занятие 3\n",
    "15.09.2021"
   ]
  },
  {
   "cell_type": "markdown",
   "metadata": {
    "id": "8qF64PuZJXy2"
   },
   "source": [
    "## Списки\n",
    "\n",
    "Мы уже не раз использовали списки, теперь узнаем про них подробнее.  \n",
    "Список (`list`) – это структура данных, обладающая следующими свойствами:\n",
    "* Упорядоченная – элементы идут один за другим\n",
    "* Пронумерованная – у каждого элемента есть свой номер\n",
    "* Изменяемая – во время работы со списком можно изменять его элементы\n",
    "* Может хранить произвольные типы\n",
    "\n",
    "Создать пустой список можно следующими способами:\n",
    "\n",
    "```python\n",
    "empty_list_1 = []\n",
    "empty_list_2 = list()\n",
    "```\n",
    "\n",
    "Если мы хотим создать список с элементами, их нужно указать через запятую внутри квадратных скобок:\n",
    "\n",
    "```python\n",
    "not_empty_list = [1, 2, 3, 4, 5]\n",
    "```\n",
    "\n",
    "Наконец, мы можем использовать функцию `list()` для превращения итерируемого объекта в список. Например, по элементам строки можно итерироваться, как в цикле:"
   ]
  },
  {
   "cell_type": "code",
   "execution_count": null,
   "metadata": {
    "colab": {
     "base_uri": "https://localhost:8080/"
    },
    "id": "wN8hbdsBLj-u",
    "outputId": "0270ca27-26c4-4a52-b685-859b2a78a8bf"
   },
   "outputs": [
    {
     "name": "stdout",
     "output_type": "stream",
     "text": [
      "H\n",
      "e\n",
      "l\n",
      "l\n",
      "o\n"
     ]
    }
   ],
   "source": [
    "for character in 'Hello':\n",
    "  print(character)"
   ]
  },
  {
   "cell_type": "markdown",
   "metadata": {
    "id": "n_ol2BLmMr1X"
   },
   "source": [
    "Как мы видим, мы прошлись в цикле по слову `'Hello'`, и на каждой итерации цикла в переменную `character` помещался один символ из строки.  \n",
    "Причины этого мы поймем позже, а пока посмотрим, что будет, если превратить строку в список:"
   ]
  },
  {
   "cell_type": "code",
   "execution_count": null,
   "metadata": {
    "colab": {
     "base_uri": "https://localhost:8080/"
    },
    "id": "7JGi8iiGNORz",
    "outputId": "037c88d5-be61-4a73-c62f-92c8e453f88f"
   },
   "outputs": [
    {
     "name": "stdout",
     "output_type": "stream",
     "text": [
      "['H', 'e', 'l', 'l', 'o']\n",
      "<class 'list'>\n"
     ]
    }
   ],
   "source": [
    "hello_list = list(\"Hello\")\n",
    "print(hello_list)\n",
    "print(type(hello_list))"
   ]
  },
  {
   "cell_type": "markdown",
   "metadata": {
    "id": "9NanTzzbNUAl"
   },
   "source": [
    "Напомним, что с помощью встроенной функции `len()` можно узнать длину списка:"
   ]
  },
  {
   "cell_type": "code",
   "execution_count": null,
   "metadata": {
    "colab": {
     "base_uri": "https://localhost:8080/"
    },
    "id": "InzArmhQNbAg",
    "outputId": "67ed6339-6a8c-4e55-bf95-334f5360cbee"
   },
   "outputs": [
    {
     "data": {
      "text/plain": [
       "5"
      ]
     },
     "execution_count": 8,
     "metadata": {},
     "output_type": "execute_result"
    }
   ],
   "source": [
    "len(hello_list)"
   ]
  },
  {
   "cell_type": "markdown",
   "metadata": {
    "id": "9Tr5kWRWFtG4"
   },
   "source": [
    "**Практическое задание**  \n",
    "Создайте список, внутри которого будет еще два списка со значениями. Напишите программу, которая выведет значения внутренних списков с отступами в два пробела и перед каждым вложенным списком будет выводить индекс этого списка с двоеточием.  \n",
    "Пример:\n",
    "\n",
    "```python\n",
    "Вход:\n",
    "[\n",
    "  [1, 2, 3],\n",
    "  [3, 4, 5]\n",
    "]\n",
    "\n",
    "Результат:\n",
    "0:\n",
    "  1\n",
    "  2\n",
    "  3\n",
    "1:\n",
    "  3\n",
    "  4\n",
    "  5\n",
    "```"
   ]
  },
  {
   "cell_type": "code",
   "execution_count": null,
   "metadata": {
    "colab": {
     "base_uri": "https://localhost:8080/"
    },
    "id": "AmzEOkc9f90T",
    "outputId": "9c3dc401-dd37-4577-85e2-c22f1b15799a"
   },
   "outputs": [
    {
     "name": "stdout",
     "output_type": "stream",
     "text": [
      "0:\n",
      "  1\n",
      "  2\n",
      "  3\n",
      "1:\n",
      "  4\n",
      "  5\n",
      "  6\n"
     ]
    }
   ],
   "source": [
    "tmp_arr = [[1,2,3], [4,5,6]]\n",
    "for tmp_arr_id in range(len(tmp_arr)):\n",
    "  print(f\"{tmp_arr_id}:\")\n",
    "  for el in tmp_arr[tmp_arr_id]:\n",
    "    print(f\"  {el}\")"
   ]
  },
  {
   "cell_type": "markdown",
   "metadata": {
    "id": "wwf-wHWSJefo"
   },
   "source": [
    "## Индексация и срезы"
   ]
  },
  {
   "cell_type": "markdown",
   "metadata": {
    "id": "7JtuWlHxOWcT"
   },
   "source": [
    "### Индексация\n",
    "\n",
    "Мы уже говорили о том, что список – это упорядоченная структура данных. Это значит, что каждый элемент в списке помечен номером или **индексом**.  \n",
    "\n",
    "Чтобы обратиться к элементу списка по его индексу, нужно написать индекс элемента в квадратных скобках после имени списка:\n",
    "\n",
    "```python\n",
    "some_list[index]\n",
    "```\n",
    "\n",
    "**Важно:** нумерация начинается с 0."
   ]
  },
  {
   "cell_type": "code",
   "execution_count": null,
   "metadata": {
    "colab": {
     "base_uri": "https://localhost:8080/"
    },
    "id": "TrOuJKDngktr",
    "outputId": "3490aa52-a4d2-431f-ce76-230c05fd13c6"
   },
   "outputs": [
    {
     "data": {
      "text/plain": [
       "['H', 'e', 'l', 'l', 'o']"
      ]
     },
     "execution_count": 3,
     "metadata": {},
     "output_type": "execute_result"
    }
   ],
   "source": [
    "hello_list"
   ]
  },
  {
   "cell_type": "code",
   "execution_count": null,
   "metadata": {
    "colab": {
     "base_uri": "https://localhost:8080/",
     "height": 35
    },
    "id": "Z4Kv66TWN_Od",
    "outputId": "1ae4e164-639e-49a6-f974-f1cccec2e0e2"
   },
   "outputs": [
    {
     "data": {
      "application/vnd.google.colaboratory.intrinsic+json": {
       "type": "string"
      },
      "text/plain": [
       "'o'"
      ]
     },
     "execution_count": 10,
     "metadata": {},
     "output_type": "execute_result"
    }
   ],
   "source": [
    "hello_list[4]"
   ]
  },
  {
   "cell_type": "markdown",
   "metadata": {
    "id": "IWqO2v6nOF9p"
   },
   "source": [
    "Также, отсчитывать элементы списка можно не только с начала, но и с конца. В таком случае нумерация идет с -1 и меньше: последний элемент имеет индекс -1, предпоследний – -2, и так далее:"
   ]
  },
  {
   "cell_type": "code",
   "execution_count": null,
   "metadata": {
    "colab": {
     "base_uri": "https://localhost:8080/",
     "height": 35
    },
    "id": "ttRpW6NNOSxW",
    "outputId": "7af2ab42-21d6-42b0-b55b-16cd72dd1ba3"
   },
   "outputs": [
    {
     "data": {
      "application/vnd.google.colaboratory.intrinsic+json": {
       "type": "string"
      },
      "text/plain": [
       "'l'"
      ]
     },
     "execution_count": 11,
     "metadata": {},
     "output_type": "execute_result"
    }
   ],
   "source": [
    "hello_list[-2]"
   ]
  },
  {
   "cell_type": "markdown",
   "metadata": {
    "id": "3lrEKmZIOcAx"
   },
   "source": [
    "### Срезы списка\n",
    "\n",
    "Пока что мы узнали, как обращаться к одному элементу списка. Если мы хотим получить сразу несколько элементов, нам нужно использовать **срезы (slice)**.\n",
    "\n",
    "Срезы пишутся почти так же, как взятие одного элемента по его индексу:\n",
    "\n",
    "```python\n",
    "some_list[начало среза:конец среза]\n",
    "```\n",
    "\n",
    "Получается, после названия списка в квадратных скобках мы пишем индекс, с которого начинается срез. Затем ставим двоеточие `:`. Наконец, пишем индекс окончания среза.  \n",
    "\n",
    "**Важно: ** срез не включает в себя элемент под номером конца среза. Это значит, что в конце среза вам нужно ставить индекс не того элемента, который вы хотите получить, а индекс следующего за ним элемента.\n",
    "\n",
    "Приведем пример:"
   ]
  },
  {
   "cell_type": "code",
   "execution_count": null,
   "metadata": {
    "colab": {
     "base_uri": "https://localhost:8080/"
    },
    "id": "4dKuJcaNOnu0",
    "outputId": "d7ab1bc6-0578-4481-f2cc-b69c662e3f1a"
   },
   "outputs": [
    {
     "name": "stdout",
     "output_type": "stream",
     "text": [
      "['H', 'e', 'l', 'l']\n"
     ]
    }
   ],
   "source": [
    "hell_list = hello_list[0:4]\n",
    "print(hell_list)"
   ]
  },
  {
   "cell_type": "markdown",
   "metadata": {
    "id": "n9AdQD82P6EM"
   },
   "source": [
    "Если мы хотим делать срез с начала списка, то индекс начала среза можно не писать – в квадратных скобках первым делом будет записано двоеточие:"
   ]
  },
  {
   "cell_type": "code",
   "execution_count": null,
   "metadata": {
    "colab": {
     "base_uri": "https://localhost:8080/"
    },
    "id": "4jEsKYk-QIOq",
    "outputId": "a2e01472-c804-4e84-c07a-2962d5ecd3ae"
   },
   "outputs": [
    {
     "data": {
      "text/plain": [
       "['H', 'e', 'l', 'l']"
      ]
     },
     "execution_count": 13,
     "metadata": {},
     "output_type": "execute_result"
    }
   ],
   "source": [
    "hello_list[:4]"
   ]
  },
  {
   "cell_type": "markdown",
   "metadata": {
    "id": "hfOje-oQQKaE"
   },
   "source": [
    "Таким же образом можно поступить, если мы хотим делать срез до конца списка. При этом, мы пишем индекс начала среза, но не пишем индекс конца:"
   ]
  },
  {
   "cell_type": "code",
   "execution_count": null,
   "metadata": {
    "colab": {
     "base_uri": "https://localhost:8080/"
    },
    "id": "sSTFKd0vQS_t",
    "outputId": "a3fdc6eb-421b-4afd-ff18-c8cec38d213b"
   },
   "outputs": [
    {
     "data": {
      "text/plain": [
       "['l', 'l', 'o']"
      ]
     },
     "execution_count": 14,
     "metadata": {},
     "output_type": "execute_result"
    }
   ],
   "source": [
    "hello_list[2:]"
   ]
  },
  {
   "cell_type": "markdown",
   "metadata": {
    "id": "BnrDCjK7QiJ6"
   },
   "source": [
    "При взятии среза есть возможность задать шаг, с которым будут взять элементы. Он записывается после индексов начала и конца среза и отделен от них двоеточием:\n",
    "\n",
    "```python\n",
    "some_list[начало среза:конец среза:шаг]\n",
    "```\n",
    "\n",
    "По умолчанию, шаг равен 1 – в срез берется каждый элемент списка.  \n",
    "Мы можем, например, взять каждый второй элемент списка:"
   ]
  },
  {
   "cell_type": "code",
   "execution_count": null,
   "metadata": {
    "colab": {
     "base_uri": "https://localhost:8080/"
    },
    "id": "LmabEM0NQ2Zp",
    "outputId": "6e36d6d6-4bfe-4cb3-a58d-0b4a9eaa2a09"
   },
   "outputs": [
    {
     "data": {
      "text/plain": [
       "['H', 'l', 'o']"
      ]
     },
     "execution_count": 18,
     "metadata": {},
     "output_type": "execute_result"
    }
   ],
   "source": [
    "hello_list[::2]"
   ]
  },
  {
   "cell_type": "markdown",
   "metadata": {
    "id": "AZ4JcCqoRDVJ"
   },
   "source": [
    "Если задать отрицательный шаг, то элементы будут браться в обратном порядке:\n",
    "\n",
    "**Важно:** индексы при этом тоже задаются в обратном порядке."
   ]
  },
  {
   "cell_type": "code",
   "execution_count": null,
   "metadata": {
    "colab": {
     "base_uri": "https://localhost:8080/"
    },
    "id": "S8zVfmblRHyu",
    "outputId": "a202aca3-a6fb-45d8-a9e7-cf1c112f4f8d"
   },
   "outputs": [
    {
     "data": {
      "text/plain": [
       "['o', 'l', 'l']"
      ]
     },
     "execution_count": 23,
     "metadata": {},
     "output_type": "execute_result"
    }
   ],
   "source": [
    "hello_list[4:1:-1]"
   ]
  },
  {
   "cell_type": "markdown",
   "metadata": {
    "id": "H4HUiwmJRZt8"
   },
   "source": [
    "Таким способом мы можем даже перевернуть список:"
   ]
  },
  {
   "cell_type": "code",
   "execution_count": null,
   "metadata": {
    "colab": {
     "base_uri": "https://localhost:8080/"
    },
    "id": "2tY6l33GRcDE",
    "outputId": "7c2b7370-52c7-4451-eaec-dc505fffa399"
   },
   "outputs": [
    {
     "data": {
      "text/plain": [
       "['o', 'l', 'l', 'e', 'H']"
      ]
     },
     "execution_count": 24,
     "metadata": {},
     "output_type": "execute_result"
    }
   ],
   "source": [
    "hello_list[::-1]"
   ]
  },
  {
   "cell_type": "markdown",
   "metadata": {
    "id": "kdIUDu8PGY-W"
   },
   "source": [
    "**Практическое задание**  \n",
    "Напишите код, который возьмет на вход список и вернет каждый третий элемент в обратном порядке, не считая первого и последнего элемента."
   ]
  },
  {
   "cell_type": "code",
   "execution_count": null,
   "metadata": {
    "colab": {
     "base_uri": "https://localhost:8080/"
    },
    "id": "fDCp7QoNh9-W",
    "outputId": "ce11da38-30ed-4251-b15e-a2f2d18662a8"
   },
   "outputs": [
    {
     "name": "stdout",
     "output_type": "stream",
     "text": [
      "8\n",
      "5\n",
      "2\n"
     ]
    }
   ],
   "source": [
    "test_list = [1,2,3,4,5,6,7, 8, 9, 10]\n",
    "for i in range(3,len(test_list)+1,3):\n",
    "    print (test_list[-i])"
   ]
  },
  {
   "cell_type": "markdown",
   "metadata": {
    "id": "zp_oHkrtRzbH"
   },
   "source": [
    "## Операции со списком\n",
    "\n",
    "Списки часто нужны при работе с Python. Посмотрим на операции со списками:"
   ]
  },
  {
   "cell_type": "markdown",
   "metadata": {
    "id": "WTPcUgdsMdyC"
   },
   "source": [
    "### append(), remove() и pop()\n",
    "\n",
    "Чтобы добавить элемент в список, нужно использовать функцию `append()`:\n",
    "\n",
    "```python\n",
    "some_list = [1, 2, 3]\n",
    "some_list.append(4)\n",
    "```\n",
    "\n",
    "`append()` добавляет элемент в конец списка. За один раз можно добавить один элемент."
   ]
  },
  {
   "cell_type": "code",
   "execution_count": null,
   "metadata": {
    "colab": {
     "base_uri": "https://localhost:8080/"
    },
    "id": "j8rx6KaCMtfH",
    "outputId": "beb6597c-c33e-4dc6-d08b-3653ebe04bce"
   },
   "outputs": [
    {
     "name": "stdout",
     "output_type": "stream",
     "text": [
      "[1, 2, 3, 4]\n"
     ]
    }
   ],
   "source": [
    "some_list = [1, 2, 3]\n",
    "some_list.append(4)\n",
    "print(some_list)"
   ]
  },
  {
   "cell_type": "markdown",
   "metadata": {
    "id": "B4MtZTG3MyDm"
   },
   "source": [
    "Если мы хотим удалить какой-то элемент из списка и мы знаем его значение, то можно использовать метод `remove()`. \n",
    "\n",
    "```python\n",
    "some_list.remove(3)\n",
    "```\n",
    "\n",
    "Если в списке несколько таких значений, то `remove()` удалит только первое вхождение в список из них:"
   ]
  },
  {
   "cell_type": "code",
   "execution_count": null,
   "metadata": {
    "colab": {
     "base_uri": "https://localhost:8080/"
    },
    "id": "e5ipBevmNRDy",
    "outputId": "8106e110-8027-4e63-8ddc-4f257269659f"
   },
   "outputs": [
    {
     "name": "stdout",
     "output_type": "stream",
     "text": [
      "[1, 2, 3, 4, 3]\n",
      "[1, 2, 4, 3]\n"
     ]
    }
   ],
   "source": [
    "some_list.append(3)\n",
    "print(some_list)\n",
    "some_list.remove(3)\n",
    "print(some_list)"
   ]
  },
  {
   "cell_type": "code",
   "execution_count": null,
   "metadata": {
    "colab": {
     "base_uri": "https://localhost:8080/",
     "height": 164
    },
    "id": "A7BHTkmjNdhB",
    "outputId": "988ea9ba-e6af-4e98-b702-7f5a09a199a9"
   },
   "outputs": [
    {
     "ename": "ValueError",
     "evalue": "ignored",
     "output_type": "error",
     "traceback": [
      "\u001b[0;31m---------------------------------------------------------------------------\u001b[0m",
      "\u001b[0;31mValueError\u001b[0m                                Traceback (most recent call last)",
      "\u001b[0;32m<ipython-input-5-168117d31d79>\u001b[0m in \u001b[0;36m<module>\u001b[0;34m()\u001b[0m\n\u001b[0;32m----> 1\u001b[0;31m \u001b[0msome_list\u001b[0m\u001b[0;34m.\u001b[0m\u001b[0mremove\u001b[0m\u001b[0;34m(\u001b[0m\u001b[0;36m6\u001b[0m\u001b[0;34m)\u001b[0m\u001b[0;34m\u001b[0m\u001b[0;34m\u001b[0m\u001b[0m\n\u001b[0m",
      "\u001b[0;31mValueError\u001b[0m: list.remove(x): x not in list"
     ]
    }
   ],
   "source": [
    "some_list.remove(6)"
   ]
  },
  {
   "cell_type": "markdown",
   "metadata": {
    "id": "mJwh3xrgNYxW"
   },
   "source": [
    "Перед удалением элемента желательно проверить, есть ли такой элемент в списке, если мы не хотим получить ошибку.\n",
    "\n",
    "Чтобы проверить наличие элемента в списке, используется оператор `in`:"
   ]
  },
  {
   "cell_type": "code",
   "execution_count": null,
   "metadata": {
    "colab": {
     "base_uri": "https://localhost:8080/"
    },
    "id": "hKx3t3kUNrkd",
    "outputId": "785855b1-bc04-4303-a27d-8572a7aec7ab"
   },
   "outputs": [
    {
     "name": "stdout",
     "output_type": "stream",
     "text": [
      "True\n",
      "False\n"
     ]
    }
   ],
   "source": [
    "print(2 in some_list)\n",
    "print(100 in some_list)"
   ]
  },
  {
   "cell_type": "code",
   "execution_count": null,
   "metadata": {
    "colab": {
     "base_uri": "https://localhost:8080/"
    },
    "id": "37GfHhR-NxDH",
    "outputId": "1919d76e-1af9-41ba-8fc3-a282acc7ac2f"
   },
   "outputs": [
    {
     "name": "stdout",
     "output_type": "stream",
     "text": [
      "Значения 9 в списке нет\n"
     ]
    }
   ],
   "source": [
    "value_to_remove = 9\n",
    "if value_to_remove in some_list:\n",
    "  some_list.remove(value_to_remove)\n",
    "else:\n",
    "  print(f\"Значения {value_to_remove} в списке нет\")"
   ]
  },
  {
   "cell_type": "markdown",
   "metadata": {
    "id": "d-_Ot6cWOHsQ"
   },
   "source": [
    "Мы научились удалять элемент из списка, если мы знаем его значение. Если мы знаем только индекс, то можно использовать метод `pop()`.  \n",
    "`pop()` принимает на вход индекс того элемента, который мы хотим удалить."
   ]
  },
  {
   "cell_type": "code",
   "execution_count": null,
   "metadata": {
    "colab": {
     "base_uri": "https://localhost:8080/"
    },
    "id": "PQF568meORTR",
    "outputId": "427a3bc9-d50d-47f3-b19d-077fe749a238"
   },
   "outputs": [
    {
     "name": "stdout",
     "output_type": "stream",
     "text": [
      "[1, 2, 4, 3]\n",
      "[2, 4, 3]\n"
     ]
    }
   ],
   "source": [
    "print(some_list)\n",
    "some_list.pop(0)\n",
    "print(some_list)"
   ]
  },
  {
   "cell_type": "markdown",
   "metadata": {
    "id": "FT_uFu7WOU_8"
   },
   "source": [
    "По умолчанию, `pop()` удаляет последний элемент из списка:"
   ]
  },
  {
   "cell_type": "code",
   "execution_count": null,
   "metadata": {
    "colab": {
     "base_uri": "https://localhost:8080/"
    },
    "id": "wTTpqcF9OZrk",
    "outputId": "db8e3812-faf0-4678-d28b-776847dc873a"
   },
   "outputs": [
    {
     "name": "stdout",
     "output_type": "stream",
     "text": [
      "[2, 4]\n"
     ]
    }
   ],
   "source": [
    "some_list.pop()\n",
    "print(some_list)"
   ]
  },
  {
   "cell_type": "markdown",
   "metadata": {
    "id": "gZjS_c92G6PC"
   },
   "source": [
    "**Практическое задание**  \n",
    "Напишите код, который возьмет на вход список и удалит из него все четные элементы."
   ]
  },
  {
   "cell_type": "markdown",
   "metadata": {
    "id": "WQLTBHfrT1tw"
   },
   "source": [
    "### Изменение элементов списка\n",
    "\n",
    "Чтобы получить элемент из списка по его индексу, нужно написать название списка, а затем в квадратных скобках после названия написать индекс нужного элемента:"
   ]
  },
  {
   "cell_type": "code",
   "execution_count": null,
   "metadata": {
    "colab": {
     "base_uri": "https://localhost:8080/"
    },
    "id": "WbATICIiUWud",
    "outputId": "351d94cd-730e-4af0-8963-388f607c0260"
   },
   "outputs": [
    {
     "data": {
      "text/plain": [
       "4"
      ]
     },
     "execution_count": 11,
     "metadata": {},
     "output_type": "execute_result"
    }
   ],
   "source": [
    "some_list[1]"
   ]
  },
  {
   "cell_type": "code",
   "execution_count": null,
   "metadata": {
    "colab": {
     "base_uri": "https://localhost:8080/",
     "height": 164
    },
    "id": "IJpQZt2CUZDF",
    "outputId": "f1f2a401-df11-4696-b758-4a6e8181eedb"
   },
   "outputs": [
    {
     "ename": "IndexError",
     "evalue": "ignored",
     "output_type": "error",
     "traceback": [
      "\u001b[0;31m---------------------------------------------------------------------------\u001b[0m",
      "\u001b[0;31mIndexError\u001b[0m                                Traceback (most recent call last)",
      "\u001b[0;32m<ipython-input-12-208a2c72d722>\u001b[0m in \u001b[0;36m<module>\u001b[0;34m()\u001b[0m\n\u001b[0;32m----> 1\u001b[0;31m \u001b[0msome_list\u001b[0m\u001b[0;34m[\u001b[0m\u001b[0;36m2\u001b[0m\u001b[0;34m]\u001b[0m\u001b[0;34m\u001b[0m\u001b[0;34m\u001b[0m\u001b[0m\n\u001b[0m",
      "\u001b[0;31mIndexError\u001b[0m: list index out of range"
     ]
    }
   ],
   "source": [
    "some_list[2]"
   ]
  },
  {
   "cell_type": "markdown",
   "metadata": {
    "id": "JrhHNzwVcKjh"
   },
   "source": [
    "Точно так же можно изменить элемент списка: мы выбираем элемент по его индексу и присваиваем ему новое значение."
   ]
  },
  {
   "cell_type": "code",
   "execution_count": null,
   "metadata": {
    "colab": {
     "base_uri": "https://localhost:8080/"
    },
    "id": "tGI9eG78cS86",
    "outputId": "dae75a7b-8132-437d-e6c2-0d9b782ee5cd"
   },
   "outputs": [
    {
     "name": "stdout",
     "output_type": "stream",
     "text": [
      "[2, 4]\n",
      "[2, 3]\n"
     ]
    }
   ],
   "source": [
    "print(some_list)\n",
    "some_list[1] = 3\n",
    "print(some_list)"
   ]
  },
  {
   "cell_type": "markdown",
   "metadata": {
    "id": "-6G3rMHPUba2"
   },
   "source": [
    "Допустим, у нас есть данные о посещаемости двух версий одного и того же товара в интернет-магазине.  \n",
    "Мы можем объединить эти данные, чтобы анализировать их совместно:"
   ]
  },
  {
   "cell_type": "code",
   "execution_count": null,
   "metadata": {
    "colab": {
     "base_uri": "https://localhost:8080/"
    },
    "id": "oJCZcTTjU4tP",
    "outputId": "2b29b102-e06e-4fb9-93b2-27fd4d7e7118"
   },
   "outputs": [
    {
     "name": "stdout",
     "output_type": "stream",
     "text": [
      "[0, 1, 2, 4, 2]\n",
      "[1, 3, 2, 5, 5, 6, 1, 4]\n"
     ]
    }
   ],
   "source": [
    "import numpy as np\n",
    "\n",
    "version_1_viewers = list(np.random.randint(low=0, high=5, size=5))\n",
    "version_2_viewers = list(np.random.randint(low=1, high=7, size=8))\n",
    "\n",
    "print(version_1_viewers)\n",
    "print(version_2_viewers)"
   ]
  },
  {
   "cell_type": "code",
   "execution_count": null,
   "metadata": {
    "colab": {
     "base_uri": "https://localhost:8080/"
    },
    "id": "OkoNXc70VXeP",
    "outputId": "932980e4-8519-4d26-bc5e-1a90fbcdc1b7"
   },
   "outputs": [
    {
     "name": "stdout",
     "output_type": "stream",
     "text": [
      "[0, 1, 2, 4, 2, 1, 3, 2, 5, 5, 6, 1, 4]\n"
     ]
    }
   ],
   "source": [
    "both_versions_viewers = version_1_viewers + version_2_viewers\n",
    "print(both_versions_viewers)"
   ]
  },
  {
   "cell_type": "markdown",
   "metadata": {
    "id": "yHaS-flNVlTN"
   },
   "source": [
    "Теперь мы можем посчитать, сколько раз какой-то пользователь интересовался этим товаром в целом. Для этого используется функция `count()`, которая принимает на вход название элемента, который мы ищем. \n",
    "\n",
    "Например, мы можем поискать, сколько раз пользователь с номером 2 заходил на обе страницы с товаром:"
   ]
  },
  {
   "cell_type": "code",
   "execution_count": null,
   "metadata": {
    "colab": {
     "base_uri": "https://localhost:8080/"
    },
    "id": "0_u7AfU5V3wk",
    "outputId": "49a57dd1-2723-44ff-a4f6-ac065b107c5e"
   },
   "outputs": [
    {
     "data": {
      "text/plain": [
       "3"
      ]
     },
     "execution_count": 20,
     "metadata": {},
     "output_type": "execute_result"
    }
   ],
   "source": [
    "both_versions_viewers.count(2)"
   ]
  },
  {
   "cell_type": "code",
   "execution_count": null,
   "metadata": {
    "colab": {
     "base_uri": "https://localhost:8080/"
    },
    "id": "G9MjmlXfV50L",
    "outputId": "0206aefa-3d97-4d60-fe32-de72d409ebb3"
   },
   "outputs": [
    {
     "data": {
      "text/plain": [
       "0"
      ]
     },
     "execution_count": 21,
     "metadata": {},
     "output_type": "execute_result"
    }
   ],
   "source": [
    "both_versions_viewers.count(7)"
   ]
  },
  {
   "cell_type": "markdown",
   "metadata": {
    "id": "hlBOXg0EHK1J"
   },
   "source": [
    "**Практическое задание**  \n",
    "Напишите код, который возьмет на вход список с повторяющимися значениями и определит, какое значение встретилось больше всего раз. Надо найти и это значение, и то, сколько раз оно встретилось."
   ]
  },
  {
   "cell_type": "markdown",
   "metadata": {
    "id": "d1J6oPNRWC3H"
   },
   "source": [
    "### Генераторы списков (list comprehensions)\n",
    "\n",
    "Python предоставляет множество конструкций, с помощью которых код легче читать и писать. Один из примеров – это генераторы списков.  \n",
    "\n",
    "Допустим, мы хотим создать список, содержащий квадраты чисел от 1 до 10. Обычно мы бы делали это так:"
   ]
  },
  {
   "cell_type": "code",
   "execution_count": null,
   "metadata": {
    "colab": {
     "base_uri": "https://localhost:8080/"
    },
    "id": "1zY_iUigWj7f",
    "outputId": "832f4a0a-73ec-4867-9794-c31e2c7562e3"
   },
   "outputs": [
    {
     "name": "stdout",
     "output_type": "stream",
     "text": [
      "[1, 4, 9, 16, 25, 36, 49, 64, 81, 100]\n"
     ]
    }
   ],
   "source": [
    "squares = []\n",
    "for i in range(1, 11):\n",
    "  squares.append(i ** 2)\n",
    "\n",
    "print(squares)"
   ]
  },
  {
   "cell_type": "markdown",
   "metadata": {
    "id": "_OAlBn0pW0A5"
   },
   "source": [
    "С помощью генератора списков мы можем записать этот код в одну строчку:"
   ]
  },
  {
   "cell_type": "code",
   "execution_count": null,
   "metadata": {
    "colab": {
     "base_uri": "https://localhost:8080/"
    },
    "id": "R9_jM_EgW4YX",
    "outputId": "b9054d4d-d792-41e2-e677-92c2ca6365e8"
   },
   "outputs": [
    {
     "data": {
      "text/plain": [
       "[1, 4, 9, 16, 25, 36, 49, 64, 81, 100]"
      ]
     },
     "execution_count": 23,
     "metadata": {},
     "output_type": "execute_result"
    }
   ],
   "source": [
    "squares = [i ** 2 for i in range(1, 11)]\n",
    "print(squares)"
   ]
  },
  {
   "cell_type": "markdown",
   "metadata": {
    "id": "bLxN6SzLW7qo"
   },
   "source": [
    "В генераторы списков можно добавлять условия. Например, мы можем выводить только четные квадраты чисел:"
   ]
  },
  {
   "cell_type": "code",
   "execution_count": null,
   "metadata": {
    "colab": {
     "base_uri": "https://localhost:8080/"
    },
    "id": "fBn_SoAlXv_B",
    "outputId": "76d4ebaf-8713-4fb1-e6aa-e1c401823a2f"
   },
   "outputs": [
    {
     "name": "stdout",
     "output_type": "stream",
     "text": [
      "[4, 16, 36, 64, 100]\n"
     ]
    }
   ],
   "source": [
    "even_squares = [i ** 2 for i in range(1, 11) if i ** 2 % 2 == 0]\n",
    "print(even_squares)"
   ]
  },
  {
   "cell_type": "markdown",
   "metadata": {
    "id": "mK_2KrADJhUK"
   },
   "source": [
    "## Кортежи (tuple)"
   ]
  },
  {
   "cell_type": "markdown",
   "metadata": {
    "id": "faKAcQbzb3h2"
   },
   "source": [
    "### Операции с кортежами\n",
    "\n",
    "Кортеж – структура данных, которая очень похожа на список. Есть одно отличие: кортеж – это неизменяемая структура данных.  \n",
    "\n",
    "Это значит, что все операции со списками работают, кроме тех, которые как-то изменяли список: добавление и удаление элементов, изменение элементов по индексу. \n",
    "\n",
    "Кортеж можно создать так же, как и список, но вместо квадратных скобок используются круглые:"
   ]
  },
  {
   "cell_type": "code",
   "execution_count": null,
   "metadata": {
    "colab": {
     "base_uri": "https://localhost:8080/"
    },
    "id": "njTvE0DBcvop",
    "outputId": "2fffa5db-9335-4d28-894d-fd4aa7339688"
   },
   "outputs": [
    {
     "name": "stdout",
     "output_type": "stream",
     "text": [
      "(1, 2, 3, 4)\n",
      "<class 'tuple'>\n"
     ]
    }
   ],
   "source": [
    "tuple_values = (1, 2, 3, 4)\n",
    "print(tuple_values)\n",
    "print(type(tuple_values))"
   ]
  },
  {
   "cell_type": "markdown",
   "metadata": {
    "id": "CMVSzgDOdEdc"
   },
   "source": [
    "Точно так же работают индексация и срезы:"
   ]
  },
  {
   "cell_type": "code",
   "execution_count": null,
   "metadata": {
    "colab": {
     "base_uri": "https://localhost:8080/"
    },
    "id": "80HnSw4ydITq",
    "outputId": "1d0bc890-3fdd-4d96-edaa-b7216712272b"
   },
   "outputs": [
    {
     "data": {
      "text/plain": [
       "3"
      ]
     },
     "execution_count": 34,
     "metadata": {},
     "output_type": "execute_result"
    }
   ],
   "source": [
    "tuple_values[2]"
   ]
  },
  {
   "cell_type": "code",
   "execution_count": null,
   "metadata": {
    "colab": {
     "base_uri": "https://localhost:8080/"
    },
    "id": "nkzKdO-Qc96P",
    "outputId": "f64a3690-ba3e-4567-bf8f-ee63b456548d"
   },
   "outputs": [
    {
     "data": {
      "text/plain": [
       "tuple"
      ]
     },
     "execution_count": 33,
     "metadata": {},
     "output_type": "execute_result"
    }
   ],
   "source": [
    "tuple_values[:3]"
   ]
  },
  {
   "cell_type": "markdown",
   "metadata": {
    "id": "c_PKDAnFdKP5"
   },
   "source": [
    "Попробуем изменить элемент:"
   ]
  },
  {
   "cell_type": "code",
   "execution_count": null,
   "metadata": {
    "colab": {
     "base_uri": "https://localhost:8080/",
     "height": 164
    },
    "id": "pG4_GdOsdM06",
    "outputId": "398dfaf7-415d-42ac-ede6-4a232248c4bf"
   },
   "outputs": [
    {
     "ename": "TypeError",
     "evalue": "ignored",
     "output_type": "error",
     "traceback": [
      "\u001b[0;31m---------------------------------------------------------------------------\u001b[0m",
      "\u001b[0;31mTypeError\u001b[0m                                 Traceback (most recent call last)",
      "\u001b[0;32m<ipython-input-35-eee1f3cc551d>\u001b[0m in \u001b[0;36m<module>\u001b[0;34m()\u001b[0m\n\u001b[0;32m----> 1\u001b[0;31m \u001b[0mtuple_values\u001b[0m\u001b[0;34m[\u001b[0m\u001b[0;36m2\u001b[0m\u001b[0;34m]\u001b[0m \u001b[0;34m=\u001b[0m \u001b[0;36m1\u001b[0m\u001b[0;34m\u001b[0m\u001b[0;34m\u001b[0m\u001b[0m\n\u001b[0m",
      "\u001b[0;31mTypeError\u001b[0m: 'tuple' object does not support item assignment"
     ]
    }
   ],
   "source": [
    "tuple_values[2] = 1"
   ]
  },
  {
   "cell_type": "markdown",
   "metadata": {
    "id": "dNgu0QSBdTK5"
   },
   "source": [
    "Превратить список в кортеж и наоборот можно с помощью встроенных функций `tuple()` и `list()`:"
   ]
  },
  {
   "cell_type": "code",
   "execution_count": null,
   "metadata": {
    "colab": {
     "base_uri": "https://localhost:8080/"
    },
    "id": "u4-8_loOdasv",
    "outputId": "6ced1350-73d5-4bd2-bb78-eaf755eb584b"
   },
   "outputs": [
    {
     "name": "stdout",
     "output_type": "stream",
     "text": [
      "(7, 6, 4, 3, 1)\n",
      "<class 'tuple'>\n"
     ]
    }
   ],
   "source": [
    "tuple_from_list = tuple([7, 6, 4, 3, 1])\n",
    "print(tuple_from_list)\n",
    "print(type(tuple_from_list))"
   ]
  },
  {
   "cell_type": "code",
   "execution_count": null,
   "metadata": {
    "colab": {
     "base_uri": "https://localhost:8080/"
    },
    "id": "JSy4o_qidjEp",
    "outputId": "1a57e552-01e0-464e-a686-a0723a14a20a"
   },
   "outputs": [
    {
     "name": "stdout",
     "output_type": "stream",
     "text": [
      "[7, 6, 4, 3, 1]\n",
      "<class 'list'>\n"
     ]
    }
   ],
   "source": [
    "list_from_tuple_from_list = list(tuple_from_list)\n",
    "print(list_from_tuple_from_list)\n",
    "print(type(list_from_tuple_from_list))"
   ]
  },
  {
   "cell_type": "markdown",
   "metadata": {
    "id": "fwZYcN5LdwyT"
   },
   "source": [
    "Проверка на вхождение с помощью оператора `in` тоже работает:"
   ]
  },
  {
   "cell_type": "code",
   "execution_count": null,
   "metadata": {
    "colab": {
     "base_uri": "https://localhost:8080/"
    },
    "id": "mK8J0lBTd0m_",
    "outputId": "799663bd-d2b3-43b0-daba-8812c7cba4db"
   },
   "outputs": [
    {
     "data": {
      "text/plain": [
       "True"
      ]
     },
     "execution_count": 38,
     "metadata": {},
     "output_type": "execute_result"
    }
   ],
   "source": [
    "4 in tuple_from_list"
   ]
  },
  {
   "cell_type": "markdown",
   "metadata": {
    "id": "JGJ2EVjpd4y-"
   },
   "source": [
    "По кортежу можно пройтись в цикле, как и по любому итерируемому объекту:"
   ]
  },
  {
   "cell_type": "code",
   "execution_count": null,
   "metadata": {
    "colab": {
     "base_uri": "https://localhost:8080/"
    },
    "id": "yliA-JALd4dD",
    "outputId": "1a1b3934-c6b2-4ef5-e9ac-7e6f742718bb"
   },
   "outputs": [
    {
     "name": "stdout",
     "output_type": "stream",
     "text": [
      "7\n",
      "6\n",
      "4\n",
      "3\n",
      "1\n"
     ]
    }
   ],
   "source": [
    "for value in tuple_from_list:\n",
    "  print(value)"
   ]
  },
  {
   "cell_type": "markdown",
   "metadata": {
    "id": "8KWdeFPFb9m8"
   },
   "source": [
    "### Кортежи и функции\n",
    "\n",
    "Мы уже говорили о том, что из функции можно возвращать несколько результатов.  \n",
    "На самом деле, когда мы возвращаем несколько результатов, перечисленных через запятую, мы возвращаем кортеж, состоящий из этих результатов:"
   ]
  },
  {
   "cell_type": "code",
   "execution_count": null,
   "metadata": {
    "colab": {
     "base_uri": "https://localhost:8080/"
    },
    "id": "2Lm_6zQCH3CL",
    "outputId": "000b6363-1bb5-4f4f-a9db-ec05ab4e94f5"
   },
   "outputs": [
    {
     "name": "stdout",
     "output_type": "stream",
     "text": [
      "<class 'tuple'>\n"
     ]
    }
   ],
   "source": [
    "def test():\n",
    "  return 1, 2\n",
    "\n",
    "test_result = test()\n",
    "print(type(test_result))"
   ]
  },
  {
   "cell_type": "markdown",
   "metadata": {
    "id": "_sg1mgBWIarL"
   },
   "source": [
    "Соответственно, когда мы распаковываем значения, мы вытаскиваем их из кортежа:"
   ]
  },
  {
   "cell_type": "code",
   "execution_count": null,
   "metadata": {
    "colab": {
     "base_uri": "https://localhost:8080/"
    },
    "id": "6I6QvvduId6P",
    "outputId": "2cda3629-29e2-4b78-bf53-21651fa70514"
   },
   "outputs": [
    {
     "name": "stdout",
     "output_type": "stream",
     "text": [
      "1\n",
      "2\n"
     ]
    }
   ],
   "source": [
    "a, b = test_result\n",
    "print(a)\n",
    "print(b)"
   ]
  },
  {
   "cell_type": "markdown",
   "metadata": {
    "id": "3pffGhOFHRCa"
   },
   "source": [
    "**Практическое задание**  \n",
    "Напишите код, который добавляет новый элемент в кортеж."
   ]
  },
  {
   "cell_type": "markdown",
   "metadata": {
    "id": "MewTVALaHiFs"
   },
   "source": [
    "## Самостоятельная работа\n",
    "\n",
    "1. Напишите функцию, которая принимает на вход два списка и возвращает максимальное и минимальное значение среди обоих списков."
   ]
  },
  {
   "cell_type": "markdown",
   "metadata": {
    "id": "CQ5WcnfeIV0e"
   },
   "source": [
    "2. Напишите функцию, которая принимает на вход два списка и возвращает в виде списка те значения, которые есть во втором списке, но которых нет в первом."
   ]
  },
  {
   "cell_type": "markdown",
   "metadata": {
    "id": "mpDyU01GIqQZ"
   },
   "source": [
    "3. Напишите функцию, которая принимает на вход список и возвращает такой же список, но в котором первое значение стало последним.  \n",
    "Представьте, что это очередь и тот, кто в начале идет на прием к врачу первым. При этом, если человек опоздал, его нужно отправить в конец очереди."
   ]
  },
  {
   "cell_type": "code",
   "execution_count": null,
   "metadata": {
    "id": "RVSoU9PrIkVm"
   },
   "outputs": [],
   "source": []
  }
 ],
 "metadata": {
  "colab": {
   "name": "МИСИС Python Занятие 3 15.09.2021.ipynb",
   "provenance": [],
   "toc_visible": true
  },
  "kernelspec": {
   "display_name": "Python 3",
   "language": "python",
   "name": "python3"
  },
  "language_info": {
   "codemirror_mode": {
    "name": "ipython",
    "version": 3
   },
   "file_extension": ".py",
   "mimetype": "text/x-python",
   "name": "python",
   "nbconvert_exporter": "python",
   "pygments_lexer": "ipython3",
   "version": "3.9.5"
  }
 },
 "nbformat": 4,
 "nbformat_minor": 1
}
