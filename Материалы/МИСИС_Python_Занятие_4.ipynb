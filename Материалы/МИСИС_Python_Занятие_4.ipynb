{
 "cells": [
  {
   "cell_type": "markdown",
   "metadata": {
    "id": "Rs2jpVmDJjaM"
   },
   "source": [
    "## Словари\n"
   ]
  },
  {
   "cell_type": "markdown",
   "metadata": {
    "id": "vRf3DAvxV_n1"
   },
   "source": [
    "### Что такое словарь\n",
    "\n",
    "Ранее мы познакомились со списками – в них можно хранить упорядоченный набор объектов.  \n",
    "Например, в списке мы хранили список номеров пользователей, которые заходили в наш интернет-магазин. Но кроме номеров нам нужно хранить еще много информации о пользователях, чтобы анализировать их поведение и получать выводы. Например, что будет, если мы захотим хранить имена пользователей?\n",
    "\n",
    "Мы могли бы хранить по два списка: номера пользователей и их имена:"
   ]
  },
  {
   "cell_type": "code",
   "execution_count": null,
   "metadata": {
    "id": "QWAyP-uLMVzp"
   },
   "outputs": [],
   "source": [
    "customer_ids = ['0', '1', '2']\n",
    "customer_names = ['Артем', 'Виталий', 'Александра']"
   ]
  },
  {
   "cell_type": "markdown",
   "metadata": {
    "id": "GrNLzRjTMc67"
   },
   "source": [
    "Это сложно, ведь нам придется всегда следить за тем, чтобы индексы номеров пользователей в первом списке всегда соответствовали индексам имен пользователей во втором.\n",
    "\n",
    "Тут на помощь приходят словари.  \n",
    "**Словарь** – неупорядоченная структура данных, в которой данные хранятся парами ключ:значение. Ключи при этом должны быть уникальны в пределах одного словаря.  \n",
    "Это значит, что мы можем сделать словарь, в котором ключом будет номер пользователя, а значением – его имя:"
   ]
  },
  {
   "cell_type": "code",
   "execution_count": null,
   "metadata": {
    "colab": {
     "base_uri": "https://localhost:8080/"
    },
    "id": "ZmxXdnFlM1qv",
    "outputId": "cfa082bc-12d8-4974-a082-8f396b7bae6d"
   },
   "outputs": [
    {
     "name": "stdout",
     "output_type": "stream",
     "text": [
      "{'0': 'Артем', '1': 'Виталий', '2': 'Александра'}\n"
     ]
    }
   ],
   "source": [
    "customers = {\n",
    "    '0': 'Артем',\n",
    "    '1': 'Виталий',\n",
    "    '2': 'Александра'\n",
    "}\n",
    "\n",
    "print(customers)"
   ]
  },
  {
   "cell_type": "markdown",
   "metadata": {
    "id": "foZfiOPKPZjt"
   },
   "source": [
    "Пустой словарь можно создать с помощью оператора `dict()` или просто написав пустые фигурные скобки:"
   ]
  },
  {
   "cell_type": "code",
   "execution_count": null,
   "metadata": {
    "colab": {
     "base_uri": "https://localhost:8080/"
    },
    "id": "nC4BhYbxPXMt",
    "outputId": "e79a299e-8ca5-468d-ee5d-12e5d5c21992"
   },
   "outputs": [
    {
     "data": {
      "text/plain": [
       "{}"
      ]
     },
     "execution_count": 7,
     "metadata": {},
     "output_type": "execute_result"
    }
   ],
   "source": [
    "test_dict = dict()\n",
    "test_dict"
   ]
  },
  {
   "cell_type": "code",
   "execution_count": null,
   "metadata": {
    "colab": {
     "base_uri": "https://localhost:8080/"
    },
    "id": "_jogH0BdPjf2",
    "outputId": "6c7c873a-4765-4a58-b4cc-3ccd00618be5"
   },
   "outputs": [
    {
     "name": "stdout",
     "output_type": "stream",
     "text": [
      "{}\n",
      "<class 'dict'>\n"
     ]
    }
   ],
   "source": [
    "test_dict = {}\n",
    "print(test_dict)\n",
    "print(type(test_dict))"
   ]
  },
  {
   "cell_type": "markdown",
   "metadata": {
    "id": "DKwJySWhPr8k"
   },
   "source": [
    "Значениями в словаре может быть любой объект: даже другой словарь. "
   ]
  },
  {
   "cell_type": "code",
   "execution_count": null,
   "metadata": {
    "colab": {
     "base_uri": "https://localhost:8080/"
    },
    "id": "di3KcYCuPw4v",
    "outputId": "654b0807-f9d3-42e8-ec83-0d6ab04fffad"
   },
   "outputs": [
    {
     "name": "stdout",
     "output_type": "stream",
     "text": [
      "{'0': {'name': 'Артем', 'customer_type': 'premium'}}\n"
     ]
    }
   ],
   "source": [
    "customers_2 = {\n",
    "    '0': {\n",
    "        'name': 'Артем',\n",
    "        'customer_type': 'premium'\n",
    "    }\n",
    "}\n",
    "\n",
    "print(customers_2)"
   ]
  },
  {
   "cell_type": "markdown",
   "metadata": {
    "id": "3e43mjM2Qnl8"
   },
   "source": [
    "Мы сделали словарь, теперь научимся получать из него информацию.  \n",
    "В отличие от списков, из словарей мы получаем информацию по ключу. Это очень похоже на списки: после названия словаря мы пишем в квадратных скобках ключ:  \n",
    "\n",
    "```python\n",
    "value = dictionary[key]\n",
    "```"
   ]
  },
  {
   "cell_type": "code",
   "execution_count": null,
   "metadata": {
    "colab": {
     "base_uri": "https://localhost:8080/",
     "height": 35
    },
    "id": "JLMhk7I9TIg3",
    "outputId": "3596e5ab-b427-4b69-8873-51afa3eaaacb"
   },
   "outputs": [
    {
     "data": {
      "application/vnd.google.colaboratory.intrinsic+json": {
       "type": "string"
      },
      "text/plain": [
       "'Артем'"
      ]
     },
     "execution_count": 11,
     "metadata": {},
     "output_type": "execute_result"
    }
   ],
   "source": [
    "customers['0']"
   ]
  },
  {
   "cell_type": "markdown",
   "metadata": {
    "id": "pScs-bg5TO8v"
   },
   "source": [
    "Если внутри словаря есть другие структуры данных типа словаря или списка, обращение к ним идет сразу после первого обращения к этому элементу. Например:"
   ]
  },
  {
   "cell_type": "code",
   "execution_count": null,
   "metadata": {
    "colab": {
     "base_uri": "https://localhost:8080/",
     "height": 35
    },
    "id": "sNdSO1ycTbJm",
    "outputId": "817b6bba-b7e4-472c-c07a-cf62e53a877f"
   },
   "outputs": [
    {
     "data": {
      "application/vnd.google.colaboratory.intrinsic+json": {
       "type": "string"
      },
      "text/plain": [
       "'premium'"
      ]
     },
     "execution_count": 13,
     "metadata": {},
     "output_type": "execute_result"
    }
   ],
   "source": [
    "customers_2['0']['customer_type']"
   ]
  },
  {
   "cell_type": "markdown",
   "metadata": {
    "id": "GTLGpLFiTi9J"
   },
   "source": [
    "Если мы обратимся по ключу, которого нет в словаре, то появится ошибка. Поэтому перед обращением можно проверить, есть ли такой ключ в словаре.  \n",
    "Проверка делается уже знакомым оператором `in`:"
   ]
  },
  {
   "cell_type": "code",
   "execution_count": null,
   "metadata": {
    "colab": {
     "base_uri": "https://localhost:8080/"
    },
    "id": "uo_TH82eTuP4",
    "outputId": "329e3a66-a7c0-4b25-8920-c1b4ebf07573"
   },
   "outputs": [
    {
     "data": {
      "text/plain": [
       "False"
      ]
     },
     "execution_count": 14,
     "metadata": {},
     "output_type": "execute_result"
    }
   ],
   "source": [
    "'5' in customers"
   ]
  },
  {
   "cell_type": "code",
   "execution_count": null,
   "metadata": {
    "colab": {
     "base_uri": "https://localhost:8080/"
    },
    "id": "6lZuZgkPTyAd",
    "outputId": "04bdadeb-74aa-4b44-f7d9-8705542ec308"
   },
   "outputs": [
    {
     "name": "stdout",
     "output_type": "stream",
     "text": [
      "Пользователя под номером 0 зовут Артем, тип пользователя: premium\n",
      "Пользователя под номером 1 нет в базе.\n",
      "Пользователя под номером 2 нет в базе.\n"
     ]
    }
   ],
   "source": [
    "for customer_id in customer_ids:\n",
    "  if customer_id in customers_2:\n",
    "    customer = customers_2[customer_id]\n",
    "    print(f\"Пользователя под номером {customer_id} зовут {customer['name']}, \\\n",
    "тип пользователя: {customer['customer_type']}\")\n",
    "  else:\n",
    "    print(f\"Пользователя под номером {customer_id} нет в базе.\")"
   ]
  },
  {
   "cell_type": "markdown",
   "metadata": {
    "id": "EUZy6pUxVlhF"
   },
   "source": [
    "Еще один способ обратиться к словарю – метод `get(key, default_value)`. Он позволяет вернуть значение по умолчанию, если по такому ключу в словаре ничего не найдено."
   ]
  },
  {
   "cell_type": "code",
   "execution_count": null,
   "metadata": {
    "colab": {
     "base_uri": "https://localhost:8080/",
     "height": 35
    },
    "id": "2_jhv2uVVuNN",
    "outputId": "90c71e34-866f-4c08-f903-6b5d6e87ce76"
   },
   "outputs": [
    {
     "data": {
      "application/vnd.google.colaboratory.intrinsic+json": {
       "type": "string"
      },
      "text/plain": [
       "'Пользователь не найден'"
      ]
     },
     "execution_count": 21,
     "metadata": {},
     "output_type": "execute_result"
    }
   ],
   "source": [
    "customers.get(5, 'Пользователь не найден')"
   ]
  },
  {
   "cell_type": "markdown",
   "metadata": {
    "id": "D2wdYsYL5-gw"
   },
   "source": [
    "**Практическое задание**  \n",
    "Напишите функцию, которая принимает на вход словарь и пару \"ключ:значение\". Функция должна проверить, если ли точно такая пара в словаре и вернуть True/False."
   ]
  },
  {
   "cell_type": "markdown",
   "metadata": {
    "id": "HhovijF0WFMb"
   },
   "source": [
    "### Добавление и удаление элементов\n",
    "\n",
    "Словарь – изменяемая структура данных. Это значит, что элементы можно добавлять, удалять и изменять.  \n",
    "\n",
    "Добавлять элементы можно, написав после переменной квадратные скобки и записав в них ключ, который мы хотим добавить. После этого остается только присвоить элементу по этому ключу какое-то значение:\n",
    "\n",
    "```python\n",
    "dictionary[new_key] = value\n",
    "```\n",
    "\n",
    "Добавим нового пользователя в наш словарь:"
   ]
  },
  {
   "cell_type": "code",
   "execution_count": null,
   "metadata": {
    "colab": {
     "base_uri": "https://localhost:8080/"
    },
    "id": "ABtrmUfl3G5x",
    "outputId": "8ed427de-6fc3-4712-c0c5-fe01e2ef6165"
   },
   "outputs": [
    {
     "data": {
      "text/plain": [
       "{'0': {'customer_type': 'premium', 'name': 'Артем'},\n",
       " '1': {'customer_type': 'free', 'name': 'Виталий'}}"
      ]
     },
     "execution_count": 5,
     "metadata": {},
     "output_type": "execute_result"
    }
   ],
   "source": [
    "customers_2['1'] = {\n",
    "    'name': customers['1'],\n",
    "    'customer_type': 'free'\n",
    "}\n",
    "\n",
    "customers_2"
   ]
  },
  {
   "cell_type": "markdown",
   "metadata": {
    "id": "Y9xecaV84QJF"
   },
   "source": [
    "Выведем наш словарь на экран в более читаемом виде:"
   ]
  },
  {
   "cell_type": "code",
   "execution_count": null,
   "metadata": {
    "colab": {
     "base_uri": "https://localhost:8080/"
    },
    "id": "dHTD7wP-3x5T",
    "outputId": "04f9fb4f-2c1c-4fec-9f30-2977f021db3c"
   },
   "outputs": [
    {
     "name": "stdout",
     "output_type": "stream",
     "text": [
      "{\n",
      "  \"0\": {\n",
      "    \"customer_type\": \"premium\",\n",
      "    \"name\": \"Артем\"\n",
      "  },\n",
      "  \"1\": {\n",
      "    \"customer_type\": \"free\",\n",
      "    \"name\": \"Виталий\"\n",
      "  }\n",
      "}\n"
     ]
    }
   ],
   "source": [
    "import json\n",
    "\n",
    "def pretty_print_dict(dictionary):\n",
    "  print(json.dumps(dictionary, sort_keys=True, indent=2, ensure_ascii=False))\n",
    "\n",
    "pretty_print_dict(customers_2)"
   ]
  },
  {
   "cell_type": "markdown",
   "metadata": {
    "id": "DB8U7f6U4nrV"
   },
   "source": [
    "Допустим, мы по ошибке занесли неправильно значение в словарь. Или нам просто нужно убрать какого-то конкретного пользователя из анализа.  \n",
    "Удалить объект из словаря по ключу можно с помощью метода `pop()`, передав ему ключ в качестве аргумента."
   ]
  },
  {
   "cell_type": "code",
   "execution_count": null,
   "metadata": {
    "colab": {
     "base_uri": "https://localhost:8080/"
    },
    "id": "P-QjLjSJ5GWO",
    "outputId": "af84df98-b0ee-4827-8e3a-4e10fb9be62a"
   },
   "outputs": [
    {
     "name": "stdout",
     "output_type": "stream",
     "text": [
      "{\n",
      "  \"0\": {\n",
      "    \"customer_type\": \"premium\",\n",
      "    \"name\": \"Артем\"\n",
      "  },\n",
      "  \"1\": {\n",
      "    \"customer_type\": \"free\",\n",
      "    \"name\": \"Виталий\"\n",
      "  },\n",
      "  \"2\": {\n",
      "    \"Hello\": \"world\"\n",
      "  }\n",
      "}\n"
     ]
    }
   ],
   "source": [
    "customers_2['2'] = {'Hello': 'world'}\n",
    "pretty_print_dict(customers_2)"
   ]
  },
  {
   "cell_type": "code",
   "execution_count": null,
   "metadata": {
    "colab": {
     "base_uri": "https://localhost:8080/"
    },
    "id": "8MIKiMQe5Xb0",
    "outputId": "42c337eb-2b18-4484-d787-d329aa23e490"
   },
   "outputs": [
    {
     "data": {
      "text/plain": [
       "{'Hello': 'world'}"
      ]
     },
     "execution_count": 20,
     "metadata": {},
     "output_type": "execute_result"
    }
   ],
   "source": [
    "customers_2.pop('2')"
   ]
  },
  {
   "cell_type": "code",
   "execution_count": null,
   "metadata": {
    "colab": {
     "base_uri": "https://localhost:8080/"
    },
    "id": "Cdk1G5PL5iBJ",
    "outputId": "ecbaaa3a-eaee-4a43-a358-dd2cd0b0170a"
   },
   "outputs": [
    {
     "name": "stdout",
     "output_type": "stream",
     "text": [
      "{\n",
      "  \"0\": {\n",
      "    \"customer_type\": \"premium\",\n",
      "    \"name\": \"Артем\"\n",
      "  },\n",
      "  \"1\": {\n",
      "    \"customer_type\": \"free\",\n",
      "    \"name\": \"Виталий\"\n",
      "  }\n",
      "}\n"
     ]
    }
   ],
   "source": [
    "pretty_print_dict(customers_2)"
   ]
  },
  {
   "cell_type": "markdown",
   "metadata": {
    "id": "x4mG3iNs5ky8"
   },
   "source": [
    "При этом, функция `pop()` возвращает тот элемент, который она удалила из словаря – его можно сохранить и использовать.\n",
    "\n",
    "\n",
    "Еще один метод – встроенная функция `del()`. Она позволяет удалить элемент словаря по его ключу и не возвращает его."
   ]
  },
  {
   "cell_type": "code",
   "execution_count": null,
   "metadata": {
    "colab": {
     "base_uri": "https://localhost:8080/"
    },
    "id": "Ci8T8Spi6Zge",
    "outputId": "d5e9d367-2f3d-4b74-8e5a-8ed61f10b464"
   },
   "outputs": [
    {
     "name": "stdout",
     "output_type": "stream",
     "text": [
      "{\n",
      "  \"0\": {\n",
      "    \"customer_type\": \"premium\",\n",
      "    \"name\": \"Артем\"\n",
      "  },\n",
      "  \"1\": {\n",
      "    \"customer_type\": \"free\",\n",
      "    \"name\": \"Виталий\"\n",
      "  },\n",
      "  \"3\": {}\n",
      "}\n"
     ]
    }
   ],
   "source": [
    "customers_2['3'] = {}\n",
    "pretty_print_dict(customers_2)"
   ]
  },
  {
   "cell_type": "code",
   "execution_count": null,
   "metadata": {
    "colab": {
     "base_uri": "https://localhost:8080/"
    },
    "id": "j8zkdq466feB",
    "outputId": "f9c6581f-c7f5-4a22-e94d-4d566969b690"
   },
   "outputs": [
    {
     "name": "stdout",
     "output_type": "stream",
     "text": [
      "{\n",
      "  \"0\": {\n",
      "    \"customer_type\": \"premium\",\n",
      "    \"name\": \"Артем\"\n",
      "  },\n",
      "  \"1\": {\n",
      "    \"customer_type\": \"free\",\n",
      "    \"name\": \"Виталий\"\n",
      "  }\n",
      "}\n"
     ]
    }
   ],
   "source": [
    "del(customers_2['3'])\n",
    "pretty_print_dict(customers_2)"
   ]
  },
  {
   "cell_type": "markdown",
   "metadata": {
    "id": "RiZS4XVm6lZ-"
   },
   "source": [
    "### Перебор словаря\n",
    "\n",
    "Ранее мы уже использовали цикл для перебора словаря, но тогда у нас номера пользователей хранились в одном списке.  \n",
    "Можно сделать перебор по самим ключам словаря в цикле `for`:"
   ]
  },
  {
   "cell_type": "code",
   "execution_count": null,
   "metadata": {
    "colab": {
     "base_uri": "https://localhost:8080/"
    },
    "id": "eOa8podD63PR",
    "outputId": "87c98f40-774d-450b-a309-f74031490afc"
   },
   "outputs": [
    {
     "name": "stdout",
     "output_type": "stream",
     "text": [
      "Данные по пользователю 0\n",
      "{\n",
      "  \"customer_type\": \"premium\",\n",
      "  \"name\": \"Артем\"\n",
      "}\n",
      "Данные по пользователю 1\n",
      "{\n",
      "  \"customer_type\": \"free\",\n",
      "  \"name\": \"Виталий\"\n",
      "}\n"
     ]
    }
   ],
   "source": [
    "for customer_id in customers_2:\n",
    "  print(f\"Данные по пользователю {customer_id}\")\n",
    "  pretty_print_dict(customers_2[customer_id])"
   ]
  },
  {
   "cell_type": "markdown",
   "metadata": {
    "id": "6NHWcGYx7LGc"
   },
   "source": [
    "Перебор по словарю в цикле `for` возвращает нам ключи, по которым в цикле мы можем обращаться к значениям в словаре. То же самое можно сделать, если использовать функцию `keys()` у словаря. Разницы между этими вариантами нет."
   ]
  },
  {
   "cell_type": "code",
   "execution_count": null,
   "metadata": {
    "colab": {
     "base_uri": "https://localhost:8080/"
    },
    "id": "GCdvTYmR7czJ",
    "outputId": "9b52c7e1-991b-4784-cdb7-f3f22e92f663"
   },
   "outputs": [
    {
     "name": "stdout",
     "output_type": "stream",
     "text": [
      "Данные по пользователю 0\n",
      "{\n",
      "  \"customer_type\": \"premium\",\n",
      "  \"name\": \"Артем\"\n",
      "}\n",
      "Данные по пользователю 1\n",
      "{\n",
      "  \"customer_type\": \"free\",\n",
      "  \"name\": \"Виталий\"\n",
      "}\n"
     ]
    }
   ],
   "source": [
    "for customer_id in customers_2.keys():\n",
    "  print(f\"Данные по пользователю {customer_id}\")\n",
    "  pretty_print_dict(customers_2[customer_id])"
   ]
  },
  {
   "cell_type": "markdown",
   "metadata": {
    "id": "IE8plvrd7iLF"
   },
   "source": [
    "Также, можно сделать перебор по значениям. Для этого нужно использовать у словаря метод `values()`:"
   ]
  },
  {
   "cell_type": "code",
   "execution_count": null,
   "metadata": {
    "colab": {
     "base_uri": "https://localhost:8080/"
    },
    "id": "4TexoYNW7nSH",
    "outputId": "5b613e0e-c44c-4932-b72d-364243ae3cfe"
   },
   "outputs": [
    {
     "name": "stdout",
     "output_type": "stream",
     "text": [
      "Список имен пользователей:\n",
      "Артем\n",
      "Виталий\n"
     ]
    }
   ],
   "source": [
    "print(\"Список имен пользователей:\")\n",
    "for customer_value in customers_2.values():\n",
    "  print(customer_value['name'])"
   ]
  },
  {
   "cell_type": "markdown",
   "metadata": {
    "id": "cnHMfKrw74zx"
   },
   "source": [
    "Наконец, если мы хотим итерироваться одновременно и по ключам, и по значениям, мы можем сделать это с помощью функции словаря `items()`. Функция вернет нам кортеж `(ключ, значение)`:"
   ]
  },
  {
   "cell_type": "code",
   "execution_count": null,
   "metadata": {
    "colab": {
     "base_uri": "https://localhost:8080/"
    },
    "id": "_EdWGfL78FB9",
    "outputId": "5b205848-55d3-468b-d574-68487f47d1fc"
   },
   "outputs": [
    {
     "name": "stdout",
     "output_type": "stream",
     "text": [
      "Данные по пользователю 0\n",
      "{\n",
      "  \"customer_type\": \"premium\",\n",
      "  \"name\": \"Артем\"\n",
      "}\n",
      "Данные по пользователю 1\n",
      "{\n",
      "  \"customer_type\": \"free\",\n",
      "  \"name\": \"Виталий\"\n",
      "}\n"
     ]
    }
   ],
   "source": [
    "for customer_id, customer_value in customers_2.items():\n",
    "  print(f\"Данные по пользователю {customer_id}\")\n",
    "  pretty_print_dict(customer_value)"
   ]
  },
  {
   "cell_type": "markdown",
   "metadata": {
    "id": "1pChIcmmJlJf"
   },
   "source": [
    "## Множества"
   ]
  },
  {
   "cell_type": "markdown",
   "metadata": {
    "id": "7XHLX-Sk-oYo"
   },
   "source": [
    "### Что такое множество\n",
    "\n",
    "Представим, что у нас есть два списка с номерами клиентов нашего магазина, которые смотрели на два похожих товара. Задача – понять, какие именно клиенты смотрели на эти товары, чтобы составить портрет покупателя.  \n",
    "Попробуем решить эту задачу:"
   ]
  },
  {
   "cell_type": "code",
   "execution_count": null,
   "metadata": {
    "colab": {
     "base_uri": "https://localhost:8080/"
    },
    "id": "VZqfjHOH9TIe",
    "outputId": "43e635a7-ab58-4a34-b9b8-54427370510f"
   },
   "outputs": [
    {
     "name": "stdout",
     "output_type": "stream",
     "text": [
      "[0, 2, 3, 4, 7, 0, 1, 3, 5, 6, 7]\n"
     ]
    }
   ],
   "source": [
    "customers_list_1 = [0, 2, 3, 4, 7]\n",
    "customers_list_2 = [0, 1, 3, 5, 6, 7]\n",
    "\n",
    "full_customers_list = customers_list_1 + customers_list_2\n",
    "print(full_customers_list)"
   ]
  },
  {
   "cell_type": "markdown",
   "metadata": {
    "id": "oFW11T0f9hpU"
   },
   "source": [
    "Мы получили список, но в нем есть повторяющиеся значения. Если список небольшой, то можно вручную убрать повторы. Но обычно наши задачи масштабнее, чем эта, поэтому сделаем все автоматически:"
   ]
  },
  {
   "cell_type": "code",
   "execution_count": null,
   "metadata": {
    "colab": {
     "base_uri": "https://localhost:8080/"
    },
    "id": "8Fq_bEpg9qy5",
    "outputId": "10373b2f-0cda-440a-afd6-c4bce6829d76"
   },
   "outputs": [
    {
     "data": {
      "text/plain": [
       "[0, 1, 2, 3, 4, 5, 6, 7]"
      ]
     },
     "execution_count": 32,
     "metadata": {},
     "output_type": "execute_result"
    }
   ],
   "source": [
    "full_customers_list_no_repeats = []\n",
    "for value in full_customers_list:\n",
    "  if value not in full_customers_list_no_repeats:\n",
    "    full_customers_list_no_repeats.append(value)\n",
    "\n",
    "sorted(full_customers_list_no_repeats)"
   ]
  },
  {
   "cell_type": "markdown",
   "metadata": {
    "id": "MGPFU9S0-NAg"
   },
   "source": [
    "Мы решили задачу, но решение получилось довольно громоздким. Давайте воспользуемся множествами, чтобы решить нашу задачу проще и быстрее.  \n",
    "**Множество** – неупорядоченная структура данных, которая не содержит повторов."
   ]
  },
  {
   "cell_type": "code",
   "execution_count": null,
   "metadata": {
    "colab": {
     "base_uri": "https://localhost:8080/"
    },
    "id": "cMoRrCvH-dBE",
    "outputId": "e25e0b88-9615-4cf5-f4be-554a663b5683"
   },
   "outputs": [
    {
     "name": "stdout",
     "output_type": "stream",
     "text": [
      "[0, 2, 3, 4, 7, 0, 1, 3, 5, 6, 7]\n",
      "{0, 1, 2, 3, 4, 5, 6, 7}\n"
     ]
    }
   ],
   "source": [
    "print(full_customers_list)\n",
    "print(set(full_customers_list))"
   ]
  },
  {
   "cell_type": "markdown",
   "metadata": {
    "id": "F8yFdI6R-lpp"
   },
   "source": [
    "Что случилось? мы превратили наш список с повторами во множество (set) с помощью встроенной функции `set()`. При этом, в списке не осталось повторов.\n",
    "\n",
    "Можно превратить любой итерируемый объект (например, список или строку) во множество.  \n",
    "Также, можно создать множество, перечислив его элементы в фигурных скобках через запятую:"
   ]
  },
  {
   "cell_type": "code",
   "execution_count": null,
   "metadata": {
    "colab": {
     "base_uri": "https://localhost:8080/"
    },
    "id": "bPto5uvu_Q_B",
    "outputId": "abf52b18-84d3-46bf-fae0-95aededa3f50"
   },
   "outputs": [
    {
     "data": {
      "text/plain": [
       "{1, 2, 3}"
      ]
     },
     "execution_count": 39,
     "metadata": {},
     "output_type": "execute_result"
    }
   ],
   "source": [
    "set_values = {1, 2, 2, 2, 3}\n",
    "set_values"
   ]
  },
  {
   "cell_type": "markdown",
   "metadata": {
    "id": "vc1ScgRn_UvW"
   },
   "source": [
    "Этот способ похож на создание списка, но Python понимает, что в фигурных скобках находятся не пары ключ:значение, а просто элементы.  \n",
    "Есть исключение – если мы напишем пустые фигурные скобки `{}`, то Python создаст пустой словарь.  \n",
    "Если мы хотим создать пустое множество, то можно воспользоваться встроенной функцией `set()`, не передавая ей аргументов:"
   ]
  },
  {
   "cell_type": "code",
   "execution_count": null,
   "metadata": {
    "colab": {
     "base_uri": "https://localhost:8080/"
    },
    "id": "p3nVcAgT_1Vx",
    "outputId": "c01a2982-25ba-4c22-d525-6d37bf9a2b45"
   },
   "outputs": [
    {
     "name": "stdout",
     "output_type": "stream",
     "text": [
      "set()\n",
      "<class 'set'>\n"
     ]
    }
   ],
   "source": [
    "empty_set = set()\n",
    "print(empty_set)\n",
    "print(type(empty_set))"
   ]
  },
  {
   "cell_type": "markdown",
   "metadata": {
    "id": "_tbvr5NiAGlp"
   },
   "source": [
    "### Операции со множествами\n",
    "\n",
    "Множество можно перебирать в цикле `for` так же, как и списки:"
   ]
  },
  {
   "cell_type": "code",
   "execution_count": null,
   "metadata": {
    "colab": {
     "base_uri": "https://localhost:8080/"
    },
    "id": "hURBEBNnAcnK",
    "outputId": "f523a89c-92d7-4fc6-a447-dd7bf3806ecf"
   },
   "outputs": [
    {
     "name": "stdout",
     "output_type": "stream",
     "text": [
      "1\n",
      "2\n",
      "3\n"
     ]
    }
   ],
   "source": [
    "for value in set_values:\n",
    "  print(value)"
   ]
  },
  {
   "cell_type": "markdown",
   "metadata": {
    "id": "cgqX5zGoAg2w"
   },
   "source": [
    "Можно проверять наличие элемента во множестве:"
   ]
  },
  {
   "cell_type": "code",
   "execution_count": null,
   "metadata": {
    "colab": {
     "base_uri": "https://localhost:8080/"
    },
    "id": "cc9C0MoWAgMn",
    "outputId": "6b8f427d-b1c5-43ae-b648-f40c32ebc031"
   },
   "outputs": [
    {
     "name": "stdout",
     "output_type": "stream",
     "text": [
      "False\n",
      "True\n"
     ]
    }
   ],
   "source": [
    "print(4 in set_values)\n",
    "print(3 in set_values)"
   ]
  },
  {
   "cell_type": "markdown",
   "metadata": {
    "id": "tVlPc3o8AnKA"
   },
   "source": [
    "Добавлять новые элементы во множество можно с помощью функции `add()`. Аргументом является то значение, которое мы хотим добавить.  \n",
    "\n",
    "Функция работает примерно так же, как и функция `append()` у списка, но называется по-другому. Это происходит потому, что `append()` добавляет элемент в конец списка, который является упорядоченным. Множество – неупорядоченная структура данных, поэтому `add()` добавляет элемент не на какое-то конкретное место, а просто в целом во множество."
   ]
  },
  {
   "cell_type": "code",
   "execution_count": null,
   "metadata": {
    "colab": {
     "base_uri": "https://localhost:8080/"
    },
    "id": "4fRzRUnkBGZj",
    "outputId": "4ec4ac54-052d-46bd-83de-45f9f7bbe22c"
   },
   "outputs": [
    {
     "data": {
      "text/plain": [
       "{1, 2, 3, 5}"
      ]
     },
     "execution_count": 43,
     "metadata": {},
     "output_type": "execute_result"
    }
   ],
   "source": [
    "set_values.add(5)\n",
    "set_values"
   ]
  },
  {
   "cell_type": "markdown",
   "metadata": {
    "id": "X83QTeQWBNJe"
   },
   "source": [
    "Если нужно добавить сразу несколько значений, то можно воспользоваться функцией `update()`. Ей можно передать один или несколько итерируемых объектов (например, кортеж или список) и она добавит уникальные значения во множество:"
   ]
  },
  {
   "cell_type": "code",
   "execution_count": null,
   "metadata": {
    "colab": {
     "base_uri": "https://localhost:8080/"
    },
    "id": "p14bV4ZbBj4V",
    "outputId": "5ee3ce09-99b7-4712-85e9-9f84df6779e0"
   },
   "outputs": [
    {
     "data": {
      "text/plain": [
       "{1, 2, 3, 4, 5, 6}"
      ]
     },
     "execution_count": 44,
     "metadata": {},
     "output_type": "execute_result"
    }
   ],
   "source": [
    "values_to_add = [1, 3, 4, 5, 6]\n",
    "set_values.update(values_to_add)\n",
    "set_values"
   ]
  },
  {
   "cell_type": "markdown",
   "metadata": {
    "id": "pG4YYoozB3AT"
   },
   "source": [
    "Если мы хотим удалить метод из множества, у нас есть две функции:\n",
    "* `remove()` – удаляет элемент из множества, если он там есть. Если элемента нет, то показывает ошибку\n",
    "* `discard()` – удаляет элемент из множества, если он там есть. Если элемента нет, то ничего не происходит"
   ]
  },
  {
   "cell_type": "code",
   "execution_count": null,
   "metadata": {
    "colab": {
     "base_uri": "https://localhost:8080/",
     "height": 164
    },
    "id": "-iPRVqI4CBs3",
    "outputId": "6ae779cb-1731-4066-e8e7-f592ca1b76bb"
   },
   "outputs": [
    {
     "ename": "KeyError",
     "evalue": "ignored",
     "output_type": "error",
     "traceback": [
      "\u001b[0;31m---------------------------------------------------------------------------\u001b[0m",
      "\u001b[0;31mKeyError\u001b[0m                                  Traceback (most recent call last)",
      "\u001b[0;32m<ipython-input-45-0ee67e32e33e>\u001b[0m in \u001b[0;36m<module>\u001b[0;34m()\u001b[0m\n\u001b[0;32m----> 1\u001b[0;31m \u001b[0mset_values\u001b[0m\u001b[0;34m.\u001b[0m\u001b[0mremove\u001b[0m\u001b[0;34m(\u001b[0m\u001b[0;36m23\u001b[0m\u001b[0;34m)\u001b[0m\u001b[0;34m\u001b[0m\u001b[0;34m\u001b[0m\u001b[0m\n\u001b[0m",
      "\u001b[0;31mKeyError\u001b[0m: 23"
     ]
    }
   ],
   "source": [
    "set_values.remove(23)"
   ]
  },
  {
   "cell_type": "code",
   "execution_count": null,
   "metadata": {
    "id": "T0s5CzsJCEpF"
   },
   "outputs": [],
   "source": [
    "set_values.discard(23)"
   ]
  },
  {
   "cell_type": "code",
   "execution_count": null,
   "metadata": {
    "colab": {
     "base_uri": "https://localhost:8080/"
    },
    "id": "Wd3LQPycCGZm",
    "outputId": "10fdbb84-886d-4172-b5a8-ceae8eecbedd"
   },
   "outputs": [
    {
     "data": {
      "text/plain": [
       "{1, 2, 3, 4, 6}"
      ]
     },
     "execution_count": 47,
     "metadata": {},
     "output_type": "execute_result"
    }
   ],
   "source": [
    "set_values.remove(5)\n",
    "set_values"
   ]
  },
  {
   "cell_type": "markdown",
   "metadata": {
    "id": "Vlxyej8hARBM"
   },
   "source": [
    "### Операции над множествами\n",
    "\n",
    "Один из плюсов множеств – возможность выполнять над ними математические операции.  \n",
    "\n",
    "Первая операция – объединение (union). Она выполняется с помощью функции `union()` и возвращает новое множество, которое является объединением обоих множеств:"
   ]
  },
  {
   "cell_type": "code",
   "execution_count": null,
   "metadata": {
    "colab": {
     "base_uri": "https://localhost:8080/"
    },
    "id": "zsfNO-Z-CiBt",
    "outputId": "3eca801e-8db6-44ec-beab-0be2faa20058"
   },
   "outputs": [
    {
     "name": "stdout",
     "output_type": "stream",
     "text": [
      "{1, 2, 3, 4, 6}\n",
      "{9, 5, 6, 7}\n"
     ]
    }
   ],
   "source": [
    "set_values_2 = {5, 6, 7, 9}\n",
    "print(set_values)\n",
    "print(set_values_2)"
   ]
  },
  {
   "cell_type": "code",
   "execution_count": null,
   "metadata": {
    "colab": {
     "base_uri": "https://localhost:8080/"
    },
    "id": "ZX2mZU0bCmww",
    "outputId": "c141fafe-3880-4498-bbac-d2636e528d09"
   },
   "outputs": [
    {
     "data": {
      "text/plain": [
       "{1, 2, 3, 4, 5, 6, 7, 9}"
      ]
     },
     "execution_count": 49,
     "metadata": {},
     "output_type": "execute_result"
    }
   ],
   "source": [
    "set_values.union(set_values_2)"
   ]
  },
  {
   "cell_type": "markdown",
   "metadata": {
    "id": "T6XsnCkICqHN"
   },
   "source": [
    "Вторая операция – пересечение (intersection). Она выполняется с помощью функции `intersection()` и возвращает только те значения, которые есть в обоих множествах. Пересечение можно также записать с помощью оператора `&`."
   ]
  },
  {
   "cell_type": "markdown",
   "metadata": {
    "id": "Mm5inN1pDYfZ"
   },
   "source": []
  },
  {
   "cell_type": "code",
   "execution_count": null,
   "metadata": {
    "colab": {
     "base_uri": "https://localhost:8080/"
    },
    "id": "JjzddkVcC0m2",
    "outputId": "efdaf887-bec3-4cb5-c439-83809b9eb053"
   },
   "outputs": [
    {
     "name": "stdout",
     "output_type": "stream",
     "text": [
      "{1, 2, 3, 4, 6}\n",
      "{9, 5, 6, 7}\n",
      "{6}\n"
     ]
    }
   ],
   "source": [
    "print(set_values)\n",
    "print(set_values_2)\n",
    "print(set_values.intersection(set_values_2))"
   ]
  },
  {
   "cell_type": "code",
   "execution_count": null,
   "metadata": {
    "colab": {
     "base_uri": "https://localhost:8080/"
    },
    "id": "GCGDxShqDLBX",
    "outputId": "c015d83b-b139-423d-85f7-ecaf89fc0856"
   },
   "outputs": [
    {
     "data": {
      "text/plain": [
       "{6}"
      ]
     },
     "execution_count": 52,
     "metadata": {},
     "output_type": "execute_result"
    }
   ],
   "source": [
    "set_values & set_values_2"
   ]
  },
  {
   "cell_type": "markdown",
   "metadata": {
    "id": "L9yXdUMMDPdH"
   },
   "source": [
    "Третья операция – разность (difference). Она выполняется с помощью функции `difference()` и возвращает те значения, которые есть в левом множестве (у которого мы вызываем функцию), но которых нет в правом (которое передаем в качестве аргумента. Разность можно также записать с помощью оператора `-`."
   ]
  },
  {
   "cell_type": "code",
   "execution_count": null,
   "metadata": {
    "colab": {
     "base_uri": "https://localhost:8080/"
    },
    "id": "6lcLRuBpC6N-",
    "outputId": "176f9be3-ba6b-410e-828a-f2106263be1e"
   },
   "outputs": [
    {
     "name": "stdout",
     "output_type": "stream",
     "text": [
      "{1, 2, 3, 4, 6}\n",
      "{9, 5, 6, 7}\n",
      "{1, 2, 3, 4}\n"
     ]
    }
   ],
   "source": [
    "print(set_values)\n",
    "print(set_values_2)\n",
    "print(set_values.difference(set_values_2))"
   ]
  },
  {
   "cell_type": "markdown",
   "metadata": {
    "id": "g7uvwbjLDn0t"
   },
   "source": [
    "Четвертая операция – симметрическая разность (symmetric difference). Она выполняется с помощью функции `symmetric_difference()` и возвращает те значения, которые есть в левом множестве (у которого мы вызываем функцию), но которых нет в правом (которое передаем в качестве аргумента. Разность можно также записать с помощью оператора `^`."
   ]
  },
  {
   "cell_type": "code",
   "execution_count": null,
   "metadata": {
    "colab": {
     "base_uri": "https://localhost:8080/"
    },
    "id": "yt9vg_jUD2l4",
    "outputId": "a6b1f917-d4c6-47b9-95c3-7384f45e3562"
   },
   "outputs": [
    {
     "name": "stdout",
     "output_type": "stream",
     "text": [
      "{1, 2, 3, 4, 6}\n",
      "{9, 5, 6, 7}\n",
      "{1, 2, 3, 4, 5, 7, 9}\n"
     ]
    }
   ],
   "source": [
    "print(set_values)\n",
    "print(set_values_2)\n",
    "print(set_values.symmetric_difference(set_values_2))"
   ]
  },
  {
   "cell_type": "code",
   "execution_count": null,
   "metadata": {
    "colab": {
     "base_uri": "https://localhost:8080/"
    },
    "id": "ZoyscFV0D7u6",
    "outputId": "4bc18320-b0bb-4daf-ae72-4052c58757a7"
   },
   "outputs": [
    {
     "data": {
      "text/plain": [
       "{1, 2, 3, 4, 5, 7, 9}"
      ]
     },
     "execution_count": 57,
     "metadata": {},
     "output_type": "execute_result"
    }
   ],
   "source": [
    "set_values ^ set_values_2"
   ]
  },
  {
   "cell_type": "markdown",
   "metadata": {
    "id": "rrH83W07Jmjw"
   },
   "source": [
    "## Строки"
   ]
  },
  {
   "cell_type": "markdown",
   "metadata": {
    "id": "n_XD4zU3T4YL"
   },
   "source": [
    "### Что такое строки\n",
    "\n",
    "Мы уже много работали со строками. Теперь мы познакомимся с несколькими полезными функциями для работы со строками.  \n",
    "\n",
    "Сначала посмотрим на способы создания строк:\n",
    "* С помощью апострофов: 'Hello world'\n",
    "* С помощью кавычек: \"Hello world\"\n",
    "* С помощью тройных апострофов или тройных кавычек: \"\"\"Hello\n",
    "World\"\"\"\n",
    "\n",
    "Третий способ позволяет заносить в переменную текст, имеющий сразу несколько строк."
   ]
  },
  {
   "cell_type": "code",
   "execution_count": null,
   "metadata": {
    "colab": {
     "base_uri": "https://localhost:8080/"
    },
    "id": "YR9lp8WyTBmE",
    "outputId": "41e8bcc7-6eca-422d-d5f2-c252261bffde"
   },
   "outputs": [
    {
     "name": "stdout",
     "output_type": "stream",
     "text": [
      "Hello world\n",
      "Hello world\n",
      "Hello\n",
      "World\n"
     ]
    }
   ],
   "source": [
    "string_1 = 'Hello world'\n",
    "string_2 = \"Hello world\"\n",
    "string_3 = \"\"\"Hello\n",
    "World\"\"\"\n",
    "\n",
    "print(string_1)\n",
    "print(string_2)\n",
    "print(string_3)"
   ]
  },
  {
   "cell_type": "markdown",
   "metadata": {
    "id": "WTgJyiM4TeLK"
   },
   "source": [
    "Индексирование и срезы в строках работают точно так же, как в списках. В данном случае можно считать строковую переменную списком с символами."
   ]
  },
  {
   "cell_type": "code",
   "execution_count": null,
   "metadata": {
    "colab": {
     "base_uri": "https://localhost:8080/",
     "height": 35
    },
    "id": "dC7zHnKVTodG",
    "outputId": "030d3101-148f-479c-da6a-2e6af1436498"
   },
   "outputs": [
    {
     "data": {
      "application/vnd.google.colaboratory.intrinsic+json": {
       "type": "string"
      },
      "text/plain": [
       "'o'"
      ]
     },
     "execution_count": 59,
     "metadata": {},
     "output_type": "execute_result"
    }
   ],
   "source": [
    "string_1[4]"
   ]
  },
  {
   "cell_type": "code",
   "execution_count": null,
   "metadata": {
    "colab": {
     "base_uri": "https://localhost:8080/",
     "height": 35
    },
    "id": "sWhyCFoGTrNC",
    "outputId": "2b44c50b-a1e3-4a78-9a27-57626fef9c68"
   },
   "outputs": [
    {
     "data": {
      "application/vnd.google.colaboratory.intrinsic+json": {
       "type": "string"
      },
      "text/plain": [
       "'lo wo'"
      ]
     },
     "execution_count": 60,
     "metadata": {},
     "output_type": "execute_result"
    }
   ],
   "source": [
    "string_1[3:8]"
   ]
  },
  {
   "cell_type": "code",
   "execution_count": null,
   "metadata": {
    "colab": {
     "base_uri": "https://localhost:8080/",
     "height": 35
    },
    "id": "NjUz9yDLTuAM",
    "outputId": "df62dbb3-37f6-4795-cced-f10163c0edd5"
   },
   "outputs": [
    {
     "data": {
      "application/vnd.google.colaboratory.intrinsic+json": {
       "type": "string"
      },
      "text/plain": [
       "'dlrow olleH'"
      ]
     },
     "execution_count": 62,
     "metadata": {},
     "output_type": "execute_result"
    }
   ],
   "source": [
    "string_2[::-1]"
   ]
  },
  {
   "cell_type": "markdown",
   "metadata": {
    "id": "QhWWAt_CT67X"
   },
   "source": [
    "### Полезные функции\n",
    "\n",
    "Есть множество полезных функций для работы со строками.  \n",
    "Про `len()` вы уже знаете – эта функция принимает на вход список и возвращает его длину. То же самое работает для строк:"
   ]
  },
  {
   "cell_type": "code",
   "execution_count": null,
   "metadata": {
    "colab": {
     "base_uri": "https://localhost:8080/"
    },
    "id": "bAmTlPl3UGa4",
    "outputId": "0dab3bc4-cd77-4491-89db-60e09457d59c"
   },
   "outputs": [
    {
     "data": {
      "text/plain": [
       "11"
      ]
     },
     "execution_count": 63,
     "metadata": {},
     "output_type": "execute_result"
    }
   ],
   "source": [
    "len(string_1)"
   ]
  },
  {
   "cell_type": "markdown",
   "metadata": {
    "id": "_B71oC2BUHv3"
   },
   "source": [
    "Функция `find()` позволяет найти подстроку в тексте и возвращает индекс первого символа в этой подстроке:"
   ]
  },
  {
   "cell_type": "code",
   "execution_count": null,
   "metadata": {
    "colab": {
     "base_uri": "https://localhost:8080/"
    },
    "id": "h_UF7d_rUSrv",
    "outputId": "9c299a1a-8782-4360-98cc-462561357c97"
   },
   "outputs": [
    {
     "data": {
      "text/plain": [
       "6"
      ]
     },
     "execution_count": 64,
     "metadata": {},
     "output_type": "execute_result"
    }
   ],
   "source": [
    "string_1.find(\"world\")"
   ]
  },
  {
   "cell_type": "markdown",
   "metadata": {
    "id": "dACaQGfqUXqc"
   },
   "source": [
    "Если в тексте есть несколько символов или подстрок, которые мы ищем, то `find()` возвращает индекс первой из них:"
   ]
  },
  {
   "cell_type": "code",
   "execution_count": null,
   "metadata": {
    "colab": {
     "base_uri": "https://localhost:8080/"
    },
    "id": "B-W19ffyUW9F",
    "outputId": "a4300450-7fa4-46ad-fae7-4eac1efac5da"
   },
   "outputs": [
    {
     "data": {
      "text/plain": [
       "4"
      ]
     },
     "execution_count": 65,
     "metadata": {},
     "output_type": "execute_result"
    }
   ],
   "source": [
    "string_1.find('o')"
   ]
  },
  {
   "cell_type": "markdown",
   "metadata": {
    "id": "GVrgO5zxUfYz"
   },
   "source": [
    "Если мы попытаемся найти символ или подстроку, которой нет в строке, то `find()` вернет нам -1."
   ]
  },
  {
   "cell_type": "code",
   "execution_count": null,
   "metadata": {
    "colab": {
     "base_uri": "https://localhost:8080/"
    },
    "id": "X8tlS73EUkLS",
    "outputId": "9f0cd4fe-15be-48f6-9c32-33262abe786b"
   },
   "outputs": [
    {
     "data": {
      "text/plain": [
       "-1"
      ]
     },
     "execution_count": 66,
     "metadata": {},
     "output_type": "execute_result"
    }
   ],
   "source": [
    "string_1.find('z')"
   ]
  },
  {
   "cell_type": "markdown",
   "metadata": {
    "id": "Qq22yI1PUmRD"
   },
   "source": [
    "Есть несколько функций, которые позволяют понять, состоит ли строка из цифр, букв или цифр и букв:"
   ]
  },
  {
   "cell_type": "code",
   "execution_count": null,
   "metadata": {
    "colab": {
     "base_uri": "https://localhost:8080/"
    },
    "id": "I1e5MZ2yUmB5",
    "outputId": "bcffb6e2-29be-43ed-f361-ba08f467fba0"
   },
   "outputs": [
    {
     "name": "stdout",
     "output_type": "stream",
     "text": [
      "Из цифр? False\n",
      "Из букв? False\n",
      "Из цифр и букв? False\n"
     ]
    }
   ],
   "source": [
    "print(\"Из цифр?\", string_1.isdigit())\n",
    "print(\"Из букв?\", string_1.isalpha())\n",
    "print(\"Из цифр и букв?\", string_1.isalnum())"
   ]
  },
  {
   "cell_type": "code",
   "execution_count": null,
   "metadata": {
    "colab": {
     "base_uri": "https://localhost:8080/"
    },
    "id": "ICcPW08kU9qm",
    "outputId": "de29100e-70a7-4b76-a9e3-85137704724d"
   },
   "outputs": [
    {
     "name": "stdout",
     "output_type": "stream",
     "text": [
      "Из цифр? True\n"
     ]
    }
   ],
   "source": [
    "print(\"Из цифр?\", \"123\".isdigit())"
   ]
  },
  {
   "cell_type": "markdown",
   "metadata": {
    "id": "Er6tHtXmVaFv"
   },
   "source": [
    "Также, есть пара функций, которые приводят текст к верхнему или нижнему регистру.  \n",
    "Изначальный текст при этом не меняется."
   ]
  },
  {
   "cell_type": "code",
   "execution_count": null,
   "metadata": {
    "colab": {
     "base_uri": "https://localhost:8080/"
    },
    "id": "P2Sfok61Vhp4",
    "outputId": "b61e28ea-ab38-4ec8-b011-0b25b7e3b844"
   },
   "outputs": [
    {
     "name": "stdout",
     "output_type": "stream",
     "text": [
      "Верхний регистр: HELLO WORLD\n",
      "Нижний регистр: hello world\n",
      "Обычный текст: Hello world\n"
     ]
    }
   ],
   "source": [
    "print(\"Верхний регистр:\", string_1.upper())\n",
    "print(\"Нижний регистр:\", string_1.lower())\n",
    "print(\"Обычный текст:\", string_1)"
   ]
  },
  {
   "cell_type": "markdown",
   "metadata": {
    "id": "FBdU7ZNuWO7N"
   },
   "source": [
    "Иногда нам нужно разбить текст на слова по какому-то разделителю. Например, нам пришел отзыв от пользователя, мы хотим разбить его на слова по пробелам и дальше проанализировать методами машинного обучения.  \n",
    "Для этого нам нужен метод `split()`, который можно вызвать у строки:"
   ]
  },
  {
   "cell_type": "code",
   "execution_count": null,
   "metadata": {
    "colab": {
     "base_uri": "https://localhost:8080/"
    },
    "id": "mdjMvsAxWfzf",
    "outputId": "a4058812-25a4-4606-fc05-9f31eebb5938"
   },
   "outputs": [
    {
     "data": {
      "text/plain": [
       "['Hello', 'world']"
      ]
     },
     "execution_count": 73,
     "metadata": {},
     "output_type": "execute_result"
    }
   ],
   "source": [
    "string_1.split()"
   ]
  },
  {
   "cell_type": "markdown",
   "metadata": {
    "id": "tBVV4CrpWik0"
   },
   "source": [
    "Этот метод возвращает нам список с элементами, которые в изначальной строке были разделены с помощью пробела.  \n",
    "Если мы передадим какую-то строку в функцию `split()` в качестве аргумента, то нам вернется список с элементами, разделенными по этой строке:"
   ]
  },
  {
   "cell_type": "code",
   "execution_count": null,
   "metadata": {
    "colab": {
     "base_uri": "https://localhost:8080/"
    },
    "id": "7p8JusYmWyZk",
    "outputId": "07f32d4b-0e24-4e2e-9ed0-007a78ac0872"
   },
   "outputs": [
    {
     "data": {
      "text/plain": [
       "['Hell', ' w', 'rld']"
      ]
     },
     "execution_count": 76,
     "metadata": {},
     "output_type": "execute_result"
    }
   ],
   "source": [
    "split_by_o = string_1.split('o')\n",
    "split_by_o"
   ]
  },
  {
   "cell_type": "markdown",
   "metadata": {
    "id": "O1Wc3_GoW5lL"
   },
   "source": [
    "Списки строк можно собирать обратно с помощью функции `join()`. Эта функция вызывается у строки, которая будет разделителем и на вход ей подается список строк, которые нужно объединить:"
   ]
  },
  {
   "cell_type": "code",
   "execution_count": null,
   "metadata": {
    "colab": {
     "base_uri": "https://localhost:8080/",
     "height": 35
    },
    "id": "q03KVbVDXGD5",
    "outputId": "fd614924-ba93-4d4b-ace2-ae0733922c59"
   },
   "outputs": [
    {
     "data": {
      "application/vnd.google.colaboratory.intrinsic+json": {
       "type": "string"
      },
      "text/plain": [
       "'Hella warld'"
      ]
     },
     "execution_count": 77,
     "metadata": {},
     "output_type": "execute_result"
    }
   ],
   "source": [
    "'a'.join(split_by_o)"
   ]
  },
  {
   "cell_type": "markdown",
   "metadata": {
    "id": "lF-1RA0JrJj6"
   },
   "source": [
    "## Самостоятельная работа\n",
    "\n",
    "1. Напишите функцию, которая принимает на вход словарь и удаляет из него ту пару \"ключ:значение\", которая отличается от остальных. На верхнем уровне словаря ключом будет номер, а значением – другие словари со своими ключами. Проверку на \"похожесть\" нужно делать по ключам вложенных словарей.\n",
    "\n",
    "Пример:\n",
    "```python\n",
    "test_dict = {\n",
    "  '1': {\n",
    "    'name': 'name',\n",
    "    'last_name': 'last name',\n",
    "    'age': 23\n",
    "  },\n",
    "  '2': {\n",
    "    'name': 'name',\n",
    "    'last_name': 'last name',\n",
    "    'year': 1993\n",
    "  },\n",
    "  '3': {\n",
    "    'name': 'name',\n",
    "    'last_name': 'last name',\n",
    "    'age': 42\n",
    "  }\n",
    "}\n",
    "```"
   ]
  },
  {
   "cell_type": "markdown",
   "metadata": {
    "id": "EvRWMCiK6vNd"
   },
   "source": [
    "2. Напишите функцию, которая берет на вход два словаря и возвращает только те их значения, ключи для которых есть в первом словаре, и при этом ключей для которых нет во втором."
   ]
  },
  {
   "cell_type": "markdown",
   "metadata": {
    "id": "D9I1kVk17TD7"
   },
   "source": [
    "3. Напишите функцию, которая принимает на вход два множества и удаляет из множества 1 пересечение множеств 1 и 2."
   ]
  },
  {
   "cell_type": "markdown",
   "metadata": {
    "id": "0VPqVEri8zFE"
   },
   "source": [
    "4. Напишите функцию, которая принимает на вход строку и возвращает ту же строку, но в ней первый и последний символ должны поменяться местами."
   ]
  },
  {
   "cell_type": "markdown",
   "metadata": {
    "id": "zQAiIdXv8-uJ"
   },
   "source": [
    "5. Напишите функцию, которая принимает на вход две строки, помещает вторую строку в середину первой и возвращает этот результат.\n",
    "\n",
    "5.* Эта функция при расчете индекса середины не должна учитывать символы, идущие после первого символа `#` в первой строке."
   ]
  },
  {
   "cell_type": "markdown",
   "metadata": {
    "id": "FUkp8kuhJoys"
   },
   "source": [
    "## Дополнительные материалы: Классы"
   ]
  },
  {
   "cell_type": "markdown",
   "metadata": {
    "id": "bbEn2ZZ_0Sxy"
   },
   "source": [
    "### Что такое класс\n",
    "\n",
    "В общем смысле, класс - это некоторый шаблон или чертеж, по которому создаются конкретные объекты.  \n",
    "Мы уже давно работаем с классами – с самого начала курса. Переменные, которые мы создавали, являлись объектами (экземплярами) каких-то классов.  \n",
    "Например, 3 – это экземпляр класса `int`, а `'Hello'` – это экземпляр класса `str`:"
   ]
  },
  {
   "cell_type": "code",
   "execution_count": null,
   "metadata": {
    "colab": {
     "base_uri": "https://localhost:8080/"
    },
    "id": "59nRUYWMJQJG",
    "outputId": "f1300b2c-d4e9-4c85-9a22-7f666fd6773b"
   },
   "outputs": [
    {
     "data": {
      "text/plain": [
       "['Hello', 'world']"
      ]
     },
     "execution_count": 6,
     "metadata": {},
     "output_type": "execute_result"
    }
   ],
   "source": [
    "'Hello/world'.split('/')"
   ]
  },
  {
   "cell_type": "markdown",
   "metadata": {
    "id": "SUmxX5Nu1oyt"
   },
   "source": [
    "У всех объектов в Python есть какой-то класс:"
   ]
  },
  {
   "cell_type": "code",
   "execution_count": null,
   "metadata": {
    "colab": {
     "base_uri": "https://localhost:8080/"
    },
    "id": "TJsc2rUG0wel",
    "outputId": "2072c697-7f1e-4fd5-b36b-52e2a6e0b66d"
   },
   "outputs": [
    {
     "data": {
      "text/plain": [
       "int"
      ]
     },
     "execution_count": 9,
     "metadata": {},
     "output_type": "execute_result"
    }
   ],
   "source": [
    "(3).__class__"
   ]
  },
  {
   "cell_type": "markdown",
   "metadata": {
    "id": "sfVq_dK31rYJ"
   },
   "source": [
    "Теперь давайте создадим свой класс. Продолжим историю с посетителями веб-страницы и добавим класс, обозначающий товар на этой странице:"
   ]
  },
  {
   "cell_type": "code",
   "execution_count": null,
   "metadata": {
    "id": "hNlk1UnK1Vfd"
   },
   "outputs": [],
   "source": [
    "class Product():\n",
    "  pass"
   ]
  },
  {
   "cell_type": "markdown",
   "metadata": {
    "id": "nCcsyYsd1-Gh"
   },
   "source": [
    "Пока что наш класс ничего не делает, так как в теле класса мы написали ключевое слово `pass`, которое является заглушкой и ничего не делает.  \n",
    "Обычно мы ставим `pass` внутри функций и классов, в которых пока нет кода, но мы ожидаем, что он появится.\n",
    "\n",
    "Создадим экземпляр нашего класса:"
   ]
  },
  {
   "cell_type": "code",
   "execution_count": null,
   "metadata": {
    "id": "tMN6f11819ir"
   },
   "outputs": [],
   "source": [
    "product_1 = Product()"
   ]
  },
  {
   "cell_type": "code",
   "execution_count": null,
   "metadata": {
    "colab": {
     "base_uri": "https://localhost:8080/"
    },
    "id": "CTCINYU82job",
    "outputId": "06505e1a-68ac-4ac8-db4a-e5c9402c2020"
   },
   "outputs": [
    {
     "data": {
      "text/plain": [
       "['__class__',\n",
       " '__delattr__',\n",
       " '__dict__',\n",
       " '__dir__',\n",
       " '__doc__',\n",
       " '__eq__',\n",
       " '__format__',\n",
       " '__ge__',\n",
       " '__getattribute__',\n",
       " '__gt__',\n",
       " '__hash__',\n",
       " '__init__',\n",
       " '__init_subclass__',\n",
       " '__le__',\n",
       " '__lt__',\n",
       " '__module__',\n",
       " '__ne__',\n",
       " '__new__',\n",
       " '__reduce__',\n",
       " '__reduce_ex__',\n",
       " '__repr__',\n",
       " '__setattr__',\n",
       " '__sizeof__',\n",
       " '__str__',\n",
       " '__subclasshook__',\n",
       " '__weakref__']"
      ]
     },
     "execution_count": 14,
     "metadata": {},
     "output_type": "execute_result"
    }
   ],
   "source": [
    "dir(product_1)"
   ]
  },
  {
   "cell_type": "markdown",
   "metadata": {
    "id": "Ne3ZKudB3CBj"
   },
   "source": [
    "Пока что наш класс ничего не хранит и ничего не умеет. "
   ]
  },
  {
   "cell_type": "code",
   "execution_count": null,
   "metadata": {
    "colab": {
     "base_uri": "https://localhost:8080/"
    },
    "id": "sqC8Kr_V2lJE",
    "outputId": "94e4f166-7ad9-44d3-bdf8-729e084fa25a"
   },
   "outputs": [
    {
     "data": {
      "text/plain": [
       "False"
      ]
     },
     "execution_count": 3,
     "metadata": {},
     "output_type": "execute_result"
    }
   ],
   "source": [
    "product_2 = Product()\n",
    "product_1 == product_2"
   ]
  },
  {
   "cell_type": "markdown",
   "metadata": {
    "id": "0uU3foRWlQDH"
   },
   "source": [
    "### Атрибуты и методы класса\n",
    "\n",
    "Теперь обновим наш класс, чтобы в нем хранились какие-то данные.  \n",
    "Одна из внутренних функций, которую мы видели чуть выше – это `__init__()`.  \n",
    "Она является методом инициализации класса, или по-другому – конструктором класса. В этой функции можно задать атрибуты, которые мы будем хранить в классе.  \n",
    "При этом, при создании объекта класса мы сразу сможем задать значения для этих атрибутов."
   ]
  },
  {
   "cell_type": "code",
   "execution_count": null,
   "metadata": {
    "id": "X4Go0glVlHPZ"
   },
   "outputs": [],
   "source": [
    "class Product():\n",
    "  def __init__(self, name):\n",
    "    self.name = name\n",
    "    self._seen_by = []"
   ]
  },
  {
   "cell_type": "markdown",
   "metadata": {
    "id": "FVoA9cMmo1kJ"
   },
   "source": [
    "Теперь мы можем не только создать продукт, но и дать ему имя:"
   ]
  },
  {
   "cell_type": "code",
   "execution_count": null,
   "metadata": {
    "id": "abE6AIvYozkA"
   },
   "outputs": [],
   "source": [
    "product_1 = Product(name='iphone')"
   ]
  },
  {
   "cell_type": "markdown",
   "metadata": {
    "id": "Y-WgflX1o-MG"
   },
   "source": [
    "После этого мы сможем узнать название продукта, обратившись к нужной переменной через точку:"
   ]
  },
  {
   "cell_type": "code",
   "execution_count": null,
   "metadata": {
    "colab": {
     "base_uri": "https://localhost:8080/",
     "height": 35
    },
    "id": "kXZf0KrZo9qG",
    "outputId": "4af9165a-bbfd-432b-ef7c-5b9a75cb4234"
   },
   "outputs": [
    {
     "data": {
      "application/vnd.google.colaboratory.intrinsic+json": {
       "type": "string"
      },
      "text/plain": [
       "'iphone'"
      ]
     },
     "execution_count": 7,
     "metadata": {},
     "output_type": "execute_result"
    }
   ],
   "source": [
    "product_1.name"
   ]
  },
  {
   "cell_type": "markdown",
   "metadata": {
    "id": "Ob53ySR6pGJY"
   },
   "source": []
  },
  {
   "cell_type": "markdown",
   "metadata": {
    "id": "OZ3he62TpMXi"
   },
   "source": [
    "Давайте добавим для нашего класса возможность добавлять пользователей, которые видели этот продукт:"
   ]
  },
  {
   "cell_type": "code",
   "execution_count": null,
   "metadata": {
    "id": "-uyjP7gypT4P"
   },
   "outputs": [],
   "source": [
    "class Product():\n",
    "  def __init__(self, name):\n",
    "    self.name = name\n",
    "    self._seen_by = []\n",
    "\n",
    "  def add_customer(self, customer_id):\n",
    "    self._seen_by.append(customer_id)\n",
    "\n",
    "  def get_customers(self):\n",
    "    return self._seen_by"
   ]
  },
  {
   "cell_type": "code",
   "execution_count": null,
   "metadata": {
    "id": "D-48vsQ4peC3"
   },
   "outputs": [],
   "source": [
    "product_1 = Product('iphone')\n",
    "for i in range(4):\n",
    "  product_1.add_customer(i)"
   ]
  },
  {
   "cell_type": "code",
   "execution_count": null,
   "metadata": {
    "colab": {
     "base_uri": "https://localhost:8080/"
    },
    "id": "vzC-x4LMpm-c",
    "outputId": "ddf58ab7-d144-40dd-e724-965309f723b8"
   },
   "outputs": [
    {
     "data": {
      "text/plain": [
       "[0, 1, 2, 3]"
      ]
     },
     "execution_count": 11,
     "metadata": {},
     "output_type": "execute_result"
    }
   ],
   "source": [
    "product_1.get_customers()"
   ]
  },
  {
   "cell_type": "markdown",
   "metadata": {
    "id": "2-J2OxyJq93F"
   },
   "source": [
    "Теперь мы можем расширить наш класс, чтобы он позволял нам определять, какой из пользователей просматривал этот продукт больше всего.  \n",
    "Например, это позволит нам определить, какому пользователю стоит предложить скидку."
   ]
  },
  {
   "cell_type": "code",
   "execution_count": null,
   "metadata": {
    "id": "G1twHyu_po67"
   },
   "outputs": [],
   "source": [
    "from collections import Counter\n",
    "\n",
    "class Product():\n",
    "  def __init__(self, name, product_type):\n",
    "    self.name = name\n",
    "    self.product_type = product_type\n",
    "    self._seen_by = []\n",
    "\n",
    "  def add_customer(self, customer_id):\n",
    "    self._seen_by.append(customer_id)\n",
    "\n",
    "  def get_customers(self):\n",
    "    return self._seen_by\n",
    "\n",
    "  def most_viewed_by(self):\n",
    "    return Counter(self._seen_by).most_common(1)[0]"
   ]
  },
  {
   "cell_type": "code",
   "execution_count": null,
   "metadata": {
    "id": "7DETZoYQr3mu"
   },
   "outputs": [],
   "source": [
    "product_1 = Product('iphone', 'phone')\n",
    "for i in [1, 2, 2, 2, 3, 3, 4]:\n",
    "  product_1.add_customer(i)"
   ]
  },
  {
   "cell_type": "code",
   "execution_count": null,
   "metadata": {
    "colab": {
     "base_uri": "https://localhost:8080/"
    },
    "id": "CUvuqRp5sAAp",
    "outputId": "ea8f0541-5294-4bd5-837f-e2ec64b9ad03"
   },
   "outputs": [
    {
     "data": {
      "text/plain": [
       "(2, 3)"
      ]
     },
     "execution_count": 17,
     "metadata": {},
     "output_type": "execute_result"
    }
   ],
   "source": [
    "product_1.most_viewed_by()"
   ]
  },
  {
   "cell_type": "markdown",
   "metadata": {
    "id": "RYoymDHOtPNC"
   },
   "source": [
    "### \\_\\_getitem\\_\\_ и \\_\\_setitem\\_\\_\n",
    "\n",
    "В предыдущей версии класса `Product` мы добавили тип продукта.  \n",
    "Давайте перенесем тип продукта в информацию о продукте и добавим возможность более удобно читать и обновлять информацию о продукте с помощью встроенных функций `__getitem__()` и `__setitem__()`:"
   ]
  },
  {
   "cell_type": "code",
   "execution_count": null,
   "metadata": {
    "id": "OSYhvQI2sBqA"
   },
   "outputs": [],
   "source": [
    "from collections import Counter\n",
    "\n",
    "class Product():\n",
    "  def __init__(self, name, product_type=None, product_subtype=None):\n",
    "    self.name = name\n",
    "    self.product_info = {\n",
    "        'type': product_type,\n",
    "        'subtype': product_subtype\n",
    "    }\n",
    "    self._seen_by = []\n",
    "\n",
    "  def add_customer(self, customer_id):\n",
    "    self._seen_by.append(customer_id)\n",
    "\n",
    "  def get_customers(self):\n",
    "    return self._seen_by\n",
    "\n",
    "  def most_viewed_by(self):\n",
    "    return Counter(self._seen_by).most_common(1)[0]\n",
    "\n",
    "  def __getitem__(self, key):\n",
    "    if key in self.product_info.keys():\n",
    "      value = self.product_info[key]\n",
    "      if value is None:\n",
    "        value = f'Значение для элемента {key} еще не задано'\n",
    "      return value\n",
    "    else:\n",
    "      return \"У продукта нет такого элемента\"\n",
    "\n",
    "  def __setitem__(self, key, value):\n",
    "    self.product_info[key] = value\n"
   ]
  },
  {
   "cell_type": "code",
   "execution_count": null,
   "metadata": {
    "id": "3t1Okhv1uByf"
   },
   "outputs": [],
   "source": [
    "product_2 = Product('iphone')"
   ]
  },
  {
   "cell_type": "code",
   "execution_count": null,
   "metadata": {
    "colab": {
     "base_uri": "https://localhost:8080/",
     "height": 35
    },
    "id": "GJseFbYtuHA8",
    "outputId": "e489c51a-dc0e-41bb-e814-7bd3e2acd84b"
   },
   "outputs": [
    {
     "data": {
      "application/vnd.google.colaboratory.intrinsic+json": {
       "type": "string"
      },
      "text/plain": [
       "'Значение для элемента type еще не задано'"
      ]
     },
     "execution_count": 33,
     "metadata": {},
     "output_type": "execute_result"
    }
   ],
   "source": [
    "product_2['type'] "
   ]
  },
  {
   "cell_type": "code",
   "execution_count": null,
   "metadata": {
    "id": "EUqbi7wvuJ2z"
   },
   "outputs": [],
   "source": [
    "product_2['type'] = 'phone'"
   ]
  },
  {
   "cell_type": "code",
   "execution_count": null,
   "metadata": {
    "colab": {
     "base_uri": "https://localhost:8080/",
     "height": 35
    },
    "id": "xku0otLFve01",
    "outputId": "5c12574f-28a5-491e-b205-49dc2167f3a9"
   },
   "outputs": [
    {
     "data": {
      "application/vnd.google.colaboratory.intrinsic+json": {
       "type": "string"
      },
      "text/plain": [
       "'phone'"
      ]
     },
     "execution_count": 35,
     "metadata": {},
     "output_type": "execute_result"
    }
   ],
   "source": [
    "product_2['type']"
   ]
  },
  {
   "cell_type": "code",
   "execution_count": null,
   "metadata": {
    "colab": {
     "base_uri": "https://localhost:8080/",
     "height": 35
    },
    "id": "Rv0DegkBvgFL",
    "outputId": "e935c7f9-25e8-4bd2-dd51-611e5d2f7c55"
   },
   "outputs": [
    {
     "data": {
      "application/vnd.google.colaboratory.intrinsic+json": {
       "type": "string"
      },
      "text/plain": [
       "'У продукта нет такого элемента'"
      ]
     },
     "execution_count": 36,
     "metadata": {},
     "output_type": "execute_result"
    }
   ],
   "source": [
    "product_2['warehouse']"
   ]
  },
  {
   "cell_type": "markdown",
   "metadata": {
    "id": "4wlOKeMGwx6S"
   },
   "source": [
    "### Документация классов и функций\n",
    "\n",
    "Мы создали класс, которым можно пользоваться. Один из способов повысить удобство использования – задокументировать класс с помощью docstring.  \n",
    "Давайте опишем, что делает класс и функции в нем:"
   ]
  },
  {
   "cell_type": "code",
   "execution_count": null,
   "metadata": {
    "id": "Jn5xcK80wsSO"
   },
   "outputs": [],
   "source": [
    "class Product():\n",
    "  \"\"\"\n",
    "  Класс Product хранит информацию о продукте \n",
    "  и пользователях, которые его просматривали.\n",
    "  \"\"\"\n",
    "  def __init__(self, name, product_type=None, product_subtype=None):\n",
    "    \"\"\"\n",
    "    Инициализация атрибутов класса.\n",
    "\n",
    "    Параметры:\n",
    "      name: str – название продукта\n",
    "      product_info: dict – словарь с парами тип_информации:значение\n",
    "    \"\"\"\n",
    "    self.name = name\n",
    "    self.product_info = {\n",
    "        'type': product_type,\n",
    "        'subtype': product_subtype\n",
    "    }\n",
    "    self._seen_by = []\n",
    "\n",
    "  def add_customer(self, customer_id):\n",
    "    \"\"\"\n",
    "    Добавляет пользователя, просмотревшего товар, \n",
    "    в список просмотревших для этого продукта.\n",
    "\n",
    "    Параметры:\n",
    "      customer_id: int – id пользователя\n",
    "    \"\"\"\n",
    "    self._seen_by.append(customer_id)\n",
    "\n",
    "  def get_customers(self):\n",
    "    \"\"\"\n",
    "    Возвращает список пользователей, просмотревших товар.\n",
    "\n",
    "    Возвращает:\n",
    "      _seen_by: list – список id пользователей\n",
    "    \"\"\"\n",
    "    return self._seen_by\n",
    "\n",
    "  def most_viewed_by(self):\n",
    "    \"\"\"\n",
    "    Возвращает id пользователя, наиболее часто смотревшего товар,\n",
    "    и количество просмотров.\n",
    "\n",
    "    Возвращает: \n",
    "      (id: int, value: int): tuple – \n",
    "        id пользователя, количество просмотров\n",
    "    \"\"\"\n",
    "    return Counter(self._seen_by).most_common(1)[0]\n",
    "\n",
    "  def __getitem__(self, key):\n",
    "    if key in self.product_info.keys():\n",
    "      value = self.product_info[key]\n",
    "      if value is None:\n",
    "        value = f'Значение для элемента {key} еще не задано'\n",
    "      return value\n",
    "    else:\n",
    "      return \"У продукта нет такого элемента\"\n",
    "\n",
    "  def __setitem__(self, key, value):\n",
    "    self.product_info[key] = value\n"
   ]
  }
 ],
 "metadata": {
  "colab": {
   "name": "МИСИС Python Занятие 4.ipynb",
   "provenance": [],
   "toc_visible": true
  },
  "kernelspec": {
   "display_name": "Python 3",
   "language": "python",
   "name": "python3"
  },
  "language_info": {
   "codemirror_mode": {
    "name": "ipython",
    "version": 3
   },
   "file_extension": ".py",
   "mimetype": "text/x-python",
   "name": "python",
   "nbconvert_exporter": "python",
   "pygments_lexer": "ipython3",
   "version": "3.9.5"
  }
 },
 "nbformat": 4,
 "nbformat_minor": 1
}
