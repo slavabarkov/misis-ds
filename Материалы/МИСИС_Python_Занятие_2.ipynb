{
  "nbformat": 4,
  "nbformat_minor": 0,
  "metadata": {
    "colab": {
      "name": "МИСИС Python 11.09.2021.ipynb",
      "provenance": [],
      "toc_visible": true
    },
    "kernelspec": {
      "name": "python3",
      "display_name": "Python 3"
    },
    "language_info": {
      "name": "python"
    }
  },
  "cells": [
    {
      "cell_type": "markdown",
      "metadata": {
        "id": "hHUmJpF_pafu"
      },
      "source": [
        "# Программирование на Python: Занятие 2\n",
        "11.09.2021"
      ]
    },
    {
      "cell_type": "markdown",
      "metadata": {
        "id": "9VoPhHTwxB2_"
      },
      "source": [
        "## Функции и пространства имен\n",
        "\n",
        "Что делать, если нам нужно много раз выполнить один и тот же код в разных частях программы?   \n",
        "В разработке программ есть принцип DRY – Don't Repeat Yourself. Один из инструментов для поддержки этого принципа в Python (как и в любом языке программирования) – это функции.\n",
        "\n",
        "Функция – это отдельная часть кода, у которой есть имя и которую можно вызывать из разных частей программы.\n",
        "\n",
        "Мы уже встречались с функциями: `print()`, `type()`, `bool()`, `int()` и другие. В Python много встроенных функций, еще несколько примеров:"
      ]
    },
    {
      "cell_type": "markdown",
      "metadata": {
        "id": "NFiu0CZSyr69"
      },
      "source": [
        "Функция `min` принимает на вход список чисел и возвращает наименьшее из них:"
      ]
    },
    {
      "cell_type": "code",
      "metadata": {
        "colab": {
          "base_uri": "https://localhost:8080/"
        },
        "id": "fAiYuDDMvM5f",
        "outputId": "bf982b3f-20a7-4933-dba0-a09d34a19473"
      },
      "source": [
        "min(-1, 2, 7)"
      ],
      "execution_count": null,
      "outputs": [
        {
          "output_type": "execute_result",
          "data": {
            "text/plain": [
              "-1"
            ]
          },
          "metadata": {},
          "execution_count": 1
        }
      ]
    },
    {
      "cell_type": "markdown",
      "metadata": {
        "id": "iJ1sndKSy4wu"
      },
      "source": [
        "Функция `len` берет на вход строку и возвращает ее длину:"
      ]
    },
    {
      "cell_type": "code",
      "metadata": {
        "colab": {
          "base_uri": "https://localhost:8080/"
        },
        "id": "lyXBPq5xy1Ob",
        "outputId": "c5aae666-a707-47f4-b48e-d3301ca4ba74"
      },
      "source": [
        "len(\"Hello\")"
      ],
      "execution_count": null,
      "outputs": [
        {
          "output_type": "execute_result",
          "data": {
            "text/plain": [
              "5"
            ]
          },
          "metadata": {},
          "execution_count": 2
        }
      ]
    },
    {
      "cell_type": "markdown",
      "metadata": {
        "id": "7hbKRmR0zOiK"
      },
      "source": [
        "### Напишем свою функцию\n",
        "\n",
        "Создание функции называется *определением*. Затем, когда мы захотим использовать функцию, мы будем ее *вызывать*.  \n",
        "\n",
        "Как определить функцию? В общем виде это выглядит так:\n",
        "\n",
        "```python\n",
        "def func(argument1, argument 2):\n",
        "  some_code()\n",
        "  return result # опционально\n",
        "```\n",
        "\n",
        "Что здесь происходит?  \n",
        "\n",
        "`def` – ключевое слово, которое обозначает начало функции.   \n",
        "`func` – название функции. Название мы выбираем сами, но очень важно, чтобы по названию было понятно, что функция делает.  \n",
        "`argument1, argument2` – аргументы функции. То, что она принимает на вход.  \n",
        "`return` – ключевое слово, после которого идет результат, который мы хотим вернуть из функции.  \n",
        "\n",
        "Посмотрим на примере:"
      ]
    },
    {
      "cell_type": "code",
      "metadata": {
        "id": "n8-SPzKcrYeI"
      },
      "source": [
        "def sum_func(a, b):\n",
        "  return a + b"
      ],
      "execution_count": null,
      "outputs": []
    },
    {
      "cell_type": "code",
      "metadata": {
        "colab": {
          "base_uri": "https://localhost:8080/"
        },
        "id": "BdaKZlFyrcfS",
        "outputId": "efc6994f-6769-4b80-c11e-d942a44e280b"
      },
      "source": [
        "sum_func(3, 5)"
      ],
      "execution_count": null,
      "outputs": [
        {
          "output_type": "execute_result",
          "data": {
            "text/plain": [
              "8"
            ]
          },
          "metadata": {},
          "execution_count": 2
        }
      ]
    },
    {
      "cell_type": "markdown",
      "metadata": {
        "id": "CcUVHFR_zStQ"
      },
      "source": [
        "### Пространства имен\n",
        "\n",
        "Переменные в Python живут в пределах определенных блоков кода. Эти блоки называются *областью видимости переменной*.  \n",
        "\n",
        "Два основных примера – глобальные переменные и переменные внутри функций.  "
      ]
    },
    {
      "cell_type": "markdown",
      "metadata": {
        "id": "dq9IytqetVHh"
      },
      "source": [
        "#### Глобальные переменные\n",
        "\n",
        "Все переменные, с которыми мы работали до этого, были глобальные. Самый простой способ это заметить – посмотреть на отступы в коде.  \n",
        "Отступы – это способ показать интерпретатору Python, что группа выражений принадлежит одному и тому же блоку кода. При этом, эти выражения должны последовательно иметь один и тот же отступ: если мы сделаем в разных частях программы блоки кода с одинаковым отступом, то это не будет означать, что переменные в этих блоках имеют одинаковую область видимости.  \n",
        "\n",
        "Посмотрим, как ведут себя глобальные переменные:"
      ]
    },
    {
      "cell_type": "code",
      "metadata": {
        "colab": {
          "base_uri": "https://localhost:8080/"
        },
        "id": "0MFcgFzmtZvZ",
        "outputId": "b3c07248-d3f5-40b2-9504-d8e26a693682"
      },
      "source": [
        "counter = 0\n",
        "\n",
        "def print_counter():\n",
        "  print(counter)\n",
        "\n",
        "print_counter()"
      ],
      "execution_count": null,
      "outputs": [
        {
          "output_type": "stream",
          "name": "stdout",
          "text": [
            "0\n"
          ]
        }
      ]
    },
    {
      "cell_type": "code",
      "metadata": {
        "colab": {
          "base_uri": "https://localhost:8080/"
        },
        "id": "cqo8lCEGthjI",
        "outputId": "2a6f3b52-b263-457f-cd14-746f23568848"
      },
      "source": [
        "counter = 1\n",
        "print_counter()"
      ],
      "execution_count": null,
      "outputs": [
        {
          "output_type": "stream",
          "name": "stdout",
          "text": [
            "1\n"
          ]
        }
      ]
    },
    {
      "cell_type": "markdown",
      "metadata": {
        "id": "WpGqUm8CtlMb"
      },
      "source": [
        "Мы можем считывать значение глобальных переменных из функций.  \n",
        "Что будет, если мы попробуем изменить их значение?"
      ]
    },
    {
      "cell_type": "code",
      "metadata": {
        "colab": {
          "base_uri": "https://localhost:8080/",
          "height": 300
        },
        "id": "ylg9ALcqtsuy",
        "outputId": "c63bb077-aff0-4e0d-e2d5-33bf6afc7077"
      },
      "source": [
        "def change_counter():\n",
        "  counter += 1\n",
        "\n",
        "change_counter()"
      ],
      "execution_count": null,
      "outputs": [
        {
          "output_type": "error",
          "ename": "UnboundLocalError",
          "evalue": "ignored",
          "traceback": [
            "\u001b[0;31m---------------------------------------------------------------------------\u001b[0m",
            "\u001b[0;31mUnboundLocalError\u001b[0m                         Traceback (most recent call last)",
            "\u001b[0;32m<ipython-input-6-4bca8ada5ab3>\u001b[0m in \u001b[0;36m<module>\u001b[0;34m()\u001b[0m\n\u001b[1;32m      2\u001b[0m   \u001b[0mcounter\u001b[0m \u001b[0;34m+=\u001b[0m \u001b[0;36m1\u001b[0m\u001b[0;34m\u001b[0m\u001b[0;34m\u001b[0m\u001b[0m\n\u001b[1;32m      3\u001b[0m \u001b[0;34m\u001b[0m\u001b[0m\n\u001b[0;32m----> 4\u001b[0;31m \u001b[0mchange_counter\u001b[0m\u001b[0;34m(\u001b[0m\u001b[0;34m)\u001b[0m\u001b[0;34m\u001b[0m\u001b[0;34m\u001b[0m\u001b[0m\n\u001b[0m",
            "\u001b[0;32m<ipython-input-6-4bca8ada5ab3>\u001b[0m in \u001b[0;36mchange_counter\u001b[0;34m()\u001b[0m\n\u001b[1;32m      1\u001b[0m \u001b[0;32mdef\u001b[0m \u001b[0mchange_counter\u001b[0m\u001b[0;34m(\u001b[0m\u001b[0;34m)\u001b[0m\u001b[0;34m:\u001b[0m\u001b[0;34m\u001b[0m\u001b[0;34m\u001b[0m\u001b[0m\n\u001b[0;32m----> 2\u001b[0;31m   \u001b[0mcounter\u001b[0m \u001b[0;34m+=\u001b[0m \u001b[0;36m1\u001b[0m\u001b[0;34m\u001b[0m\u001b[0;34m\u001b[0m\u001b[0m\n\u001b[0m\u001b[1;32m      3\u001b[0m \u001b[0;34m\u001b[0m\u001b[0m\n\u001b[1;32m      4\u001b[0m \u001b[0mchange_counter\u001b[0m\u001b[0;34m(\u001b[0m\u001b[0;34m)\u001b[0m\u001b[0;34m\u001b[0m\u001b[0;34m\u001b[0m\u001b[0m\n",
            "\u001b[0;31mUnboundLocalError\u001b[0m: local variable 'counter' referenced before assignment"
          ]
        }
      ]
    },
    {
      "cell_type": "code",
      "metadata": {
        "colab": {
          "base_uri": "https://localhost:8080/"
        },
        "id": "T98M6m3kt0AF",
        "outputId": "58a19545-6535-4db5-88ec-b51bf0a4be8a"
      },
      "source": [
        "def change_counter():\n",
        "  global counter\n",
        "  counter += 1\n",
        "\n",
        "change_counter()\n",
        "print(counter)"
      ],
      "execution_count": null,
      "outputs": [
        {
          "output_type": "stream",
          "name": "stdout",
          "text": [
            "2\n"
          ]
        }
      ]
    },
    {
      "cell_type": "markdown",
      "metadata": {
        "id": "nyfkjkmkuYZm"
      },
      "source": [
        "#### Локальные переменные\n",
        "\n",
        "Если мы хотим, чтобы переменная была доступна только в пределах области видимости, мы создаем ее внутри этой области и используем только там."
      ]
    },
    {
      "cell_type": "code",
      "metadata": {
        "colab": {
          "base_uri": "https://localhost:8080/"
        },
        "id": "mQGRNou6ut8e",
        "outputId": "8f86d69e-c931-4a97-cbef-085acc27aee9"
      },
      "source": [
        "def print_number():\n",
        "  n = 5\n",
        "  print(n)\n",
        "\n",
        "print_number()"
      ],
      "execution_count": null,
      "outputs": [
        {
          "output_type": "stream",
          "name": "stdout",
          "text": [
            "5\n"
          ]
        }
      ]
    },
    {
      "cell_type": "code",
      "metadata": {
        "colab": {
          "base_uri": "https://localhost:8080/",
          "height": 164
        },
        "id": "6-Lc2gY_u28R",
        "outputId": "f57da0f0-d40e-4b6d-9fb8-d369c8caad17"
      },
      "source": [
        "print(n)"
      ],
      "execution_count": null,
      "outputs": [
        {
          "output_type": "error",
          "ename": "NameError",
          "evalue": "ignored",
          "traceback": [
            "\u001b[0;31m---------------------------------------------------------------------------\u001b[0m",
            "\u001b[0;31mNameError\u001b[0m                                 Traceback (most recent call last)",
            "\u001b[0;32m<ipython-input-15-349653be3a92>\u001b[0m in \u001b[0;36m<module>\u001b[0;34m()\u001b[0m\n\u001b[0;32m----> 1\u001b[0;31m \u001b[0mprint\u001b[0m\u001b[0;34m(\u001b[0m\u001b[0mn\u001b[0m\u001b[0;34m)\u001b[0m\u001b[0;34m\u001b[0m\u001b[0;34m\u001b[0m\u001b[0m\n\u001b[0m",
            "\u001b[0;31mNameError\u001b[0m: name 'n' is not defined"
          ]
        }
      ]
    },
    {
      "cell_type": "markdown",
      "metadata": {
        "id": "r0c-5QC8u4vO"
      },
      "source": [
        "Локальные переменные доступны только в пределах области видимости. Если обращаться к ним за ее пределами, появится ошибка: переменная не была определена.  \n",
        "\n",
        "Если мы хотим и дальше пользоваться значениями, которые использовали в функции, нам нужно вернуть эти значения из функции с помощью ключевого слова `return`."
      ]
    },
    {
      "cell_type": "code",
      "metadata": {
        "colab": {
          "base_uri": "https://localhost:8080/"
        },
        "id": "WaY-9yy2vPOZ",
        "outputId": "678a0302-b980-4dcf-c2f6-c3b6dbb1bf02"
      },
      "source": [
        "def print_number_better():\n",
        "  n = 6\n",
        "  print(n)\n",
        "  return n\n",
        "\n",
        "n = print_number_better()\n",
        "print(f\"n, которую мы вернули из функции: {n}\")"
      ],
      "execution_count": null,
      "outputs": [
        {
          "output_type": "stream",
          "name": "stdout",
          "text": [
            "6\n",
            "n, которую мы вернули из функции: 6\n"
          ]
        }
      ]
    },
    {
      "cell_type": "markdown",
      "metadata": {
        "id": "EkYHVJwBvfSI"
      },
      "source": [
        "Переменные внутри блока кода могут называться так же, как переменные вне этого блока (на более высоком уровне области видимости).  \n",
        "Для этого мы объявляем переменную с таким же именем и работаем с ней. Внешняя переменная при этом никак не затрагивается."
      ]
    },
    {
      "cell_type": "code",
      "metadata": {
        "colab": {
          "base_uri": "https://localhost:8080/"
        },
        "id": "t2iITgP5vrRX",
        "outputId": "e64b21f6-72f9-46a3-ca17-cbbc3a17a16a"
      },
      "source": [
        "def local_counter():\n",
        "  counter = 50\n",
        "  print(f\"counter из текущей области видимости: {counter}\")\n",
        "\n",
        "local_counter()\n",
        "print(f\"counter из внешней области видимости: {counter}\")"
      ],
      "execution_count": null,
      "outputs": [
        {
          "output_type": "stream",
          "name": "stdout",
          "text": [
            "counter из текущей области видимости: 50\n",
            "counter из внешней области видимости: 0\n"
          ]
        }
      ]
    },
    {
      "cell_type": "markdown",
      "metadata": {
        "id": "7E9ABTmi03OE"
      },
      "source": [
        "**Практическое задание**  \n",
        "Напишите функцию, которая в цикле от 0 до n выводит квадраты чисел. n пользователь задает как аргумент функции."
      ]
    },
    {
      "cell_type": "markdown",
      "metadata": {
        "id": "nDRePX3DzVSC"
      },
      "source": [
        "## Распаковка параметров\n",
        "\n",
        "Когда мы используем ключевое слово return, мы возвращаем какое-то значение – какую-то переменную, с которой мы работали в функции.  \n",
        "Иногда может потребоваться вернуть несколько значений.  \n",
        "Сделать это очень просто – нужно перечислить через запятую переменные, которые мы хотим вернуть из функции:"
      ]
    },
    {
      "cell_type": "code",
      "metadata": {
        "colab": {
          "base_uri": "https://localhost:8080/"
        },
        "id": "p63iXDufxjCK",
        "outputId": "05a10b4a-37ba-495c-8406-8d33cab61cd5"
      },
      "source": [
        "def min_max(values):\n",
        "  return min(values), max(values)\n",
        "\n",
        "values = [-1, 5, 4, -4]\n",
        "print(min_max(values))"
      ],
      "execution_count": null,
      "outputs": [
        {
          "output_type": "stream",
          "name": "stdout",
          "text": [
            "(-4, 5)\n"
          ]
        }
      ]
    },
    {
      "cell_type": "markdown",
      "metadata": {
        "id": "Ex_nRE4NtTnK"
      },
      "source": [
        "Возвращаемые значения указываются в скобках. Это значит, что мы получили тип данных, которые называется кортеж (tuple).  \n",
        "Мы познакомимся с этим типом данных позже, пока что можно считать его за список.  \n",
        "\n",
        "Как нам получить результаты вычислений из кортежа по-отдельности? Можно распаковать результат в отдельные переменные:"
      ]
    },
    {
      "cell_type": "code",
      "metadata": {
        "colab": {
          "base_uri": "https://localhost:8080/"
        },
        "id": "E7LCk3Zyx-CM",
        "outputId": "10fbbb8f-2611-419c-829e-3eef090416b4"
      },
      "source": [
        "min_value, max_value = min_max(values)\n",
        "print(f\"Минимум: {min_value}\")\n",
        "print(f\"Максимум: {max_value}\")"
      ],
      "execution_count": null,
      "outputs": [
        {
          "output_type": "stream",
          "name": "stdout",
          "text": [
            "Минимум: -4\n",
            "Максимум: 5\n"
          ]
        }
      ]
    },
    {
      "cell_type": "markdown",
      "metadata": {
        "id": "cZfkCXPpykyg"
      },
      "source": [
        "Похожим образом мы можем передавать список значений в аргументы функции, если мы знаем, что количество значений и их тип совпадает с количеством аргументов функции и требуемым типом:"
      ]
    },
    {
      "cell_type": "code",
      "metadata": {
        "colab": {
          "base_uri": "https://localhost:8080/"
        },
        "id": "S3_hmoKqyjjc",
        "outputId": "dcc573a0-ba1d-450f-be03-31ddbb0e34d7"
      },
      "source": [
        "def sum_three(a, b, c):\n",
        "  return a + b + c\n",
        "\n",
        "abc_list = [1, 3, 8]\n",
        "sum_three(*abc_list)"
      ],
      "execution_count": null,
      "outputs": [
        {
          "output_type": "execute_result",
          "data": {
            "text/plain": [
              "12"
            ]
          },
          "metadata": {},
          "execution_count": 27
        }
      ]
    },
    {
      "cell_type": "markdown",
      "metadata": {
        "id": "HgxN9I7NzEoi"
      },
      "source": [
        "Распаковку также можно использовать для более удобного создания переменных (хотя это не всегда считается хорошим тоном)."
      ]
    },
    {
      "cell_type": "code",
      "metadata": {
        "colab": {
          "base_uri": "https://localhost:8080/"
        },
        "id": "US3Ti141zBFK",
        "outputId": "9c6bab4d-a88e-4c8f-b5e5-c7c5b038d1f1"
      },
      "source": [
        "a, b, c = 1, 2, 3\n",
        "print(b)"
      ],
      "execution_count": null,
      "outputs": [
        {
          "output_type": "stream",
          "name": "stdout",
          "text": [
            "2\n"
          ]
        }
      ]
    },
    {
      "cell_type": "markdown",
      "metadata": {
        "id": "_SL7nV-V0mWv"
      },
      "source": [
        "**Практическое задание**  \n",
        "Напишите функцию, которая принимает на вход три числа и возвращает два наибольших из них. Сохраните результаты в отдельные переменные. Проверьте работу функции, передав ей список из трех чисел."
      ]
    },
    {
      "cell_type": "markdown",
      "metadata": {
        "id": "eNTgZKP_zO_6"
      },
      "source": [
        "## Самостоятельная работа\n",
        "\n",
        "1. Напишите функцию, которая принимает на вход температуру и логический параметр \"дождливости\", и возвращает сообщение о том, что лучше надеть и нужно ли брать с собой зонт."
      ]
    },
    {
      "cell_type": "markdown",
      "metadata": {
        "id": "upRwdosyzZ_U"
      },
      "source": [
        "2. Напишите функцию, которая расчитывает индекс массы тела и возвращает его."
      ]
    },
    {
      "cell_type": "markdown",
      "metadata": {
        "id": "raDA6f2Izidy"
      },
      "source": [
        "3. Напишите функцию, которая принимает на вход список чисел, и возвращает два значения: наименьшее число и его номер в списке."
      ]
    },
    {
      "cell_type": "markdown",
      "metadata": {
        "id": "OO6C_DzT1qCb"
      },
      "source": [
        "4. Напишите программу, выводящую число Фибоначчи под номером n, где n задает пользователь. Используйте для решения задачи рекурсию. Проверьте работу функции в цикле, выводя все числа Фибоначчи до n.\n",
        "\n",
        "Подсказка: рекурсия (рекурсивная функция) – функция, которая вызывает саму себя. Должна иметь критерий остановки, чтобы не получился бесконечный цикл."
      ]
    },
    {
      "cell_type": "markdown",
      "metadata": {
        "id": "Ebix_4b-zoct"
      },
      "source": [
        "5. Напишите алгоритм пузырьковой сортировки. Алгоритм должен принимать на вход список чисел и возвращать на выходе отсортированный по возрастанию список тех же чисел.\n",
        "\n",
        "Подсказки:\n",
        "* Пузырьковая сортировка работает так: мы последовательно сравниваем соседние пары чисел в списке. Если первое число больше второго, то они меняются местами, пока мы не доходим до верха списка. То есть, наибольший пузырь как бы поднимается к поверхности.\n",
        "* Чтобы обратиться к элементу списка по его номеру используются квадратные скобки. Отсчет начинается с 0:\n",
        "\n",
        "```python\n",
        "values = [23, 42, 16]\n",
        "print(values[1])\n",
        ">>> 42\n",
        "```"
      ]
    },
    {
      "cell_type": "code",
      "metadata": {
        "id": "94LT5Qy9pLBD"
      },
      "source": [
        ""
      ],
      "execution_count": null,
      "outputs": []
    }
  ]
}