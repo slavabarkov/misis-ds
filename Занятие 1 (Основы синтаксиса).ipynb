{
 "cells": [
  {
   "cell_type": "markdown",
   "id": "4092d2e3",
   "metadata": {},
   "source": [
    "**Практическое задание**\n",
    "\n",
    "Создайте несколько переменных разных типов, присвойте им какие-нибудь значения. Затем выведите на экран значение переменной и ее тип для каждой созданной переменной."
   ]
  },
  {
   "cell_type": "code",
   "execution_count": 5,
   "id": "5fd5ecf1",
   "metadata": {},
   "outputs": [
    {
     "name": "stdout",
     "output_type": "stream",
     "text": [
      "1 <class 'int'> \n",
      " 1.5 <class 'float'> \n",
      " [1, 2, 3] <class 'list'> \n",
      " (1, 2, 3) <class 'tuple'> \n",
      " Example <class 'str'> \n",
      " {1, 2, 3} <class 'set'> \n",
      " {1: 'Alpha', 2: 'Beta'} <class 'dict'> \n",
      " True <class 'bool'>\n"
     ]
    }
   ],
   "source": [
    "example_int = 1\n",
    "example_float = 1.5\n",
    "example_list = [1, 2, 3]\n",
    "example_tuple = (1, 2, 3)\n",
    "example_str = 'Example'\n",
    "example_set = {1, 2, 3}\n",
    "example_dict = {1: 'Alpha', 2: 'Beta'}\n",
    "example_boolean = True\n",
    "\n",
    "print(example_int, type(example_int), '\\n',\n",
    "      example_float, type(example_float), '\\n',\n",
    "      example_list, type(example_list), '\\n',\n",
    "      example_tuple, type(example_tuple), '\\n',\n",
    "      example_str, type(example_str), '\\n',\n",
    "      example_set, type(example_set), '\\n',\n",
    "      example_dict, type(example_dict), '\\n',\n",
    "      example_boolean, type(example_boolean)\n",
    "      )"
   ]
  },
  {
   "cell_type": "markdown",
   "id": "6ef4f65d",
   "metadata": {},
   "source": [
    "**Практическое задание**\n",
    "\n",
    "Определите, какой приоритет имеют операции сложения, вычитания, умножения, деления, возведения в степень.\n",
    "Для этого поэкспериментируйте с записью разных математических выражений и посмотрите на результаты.\n",
    "После этого напишите ниже последовательность математических операций от высшего приоритета к низшему вместе с примерами."
   ]
  },
  {
   "cell_type": "code",
   "execution_count": 13,
   "id": "a047e942",
   "metadata": {},
   "outputs": [
    {
     "name": "stdout",
     "output_type": "stream",
     "text": [
      "40\n",
      "14 12.0 12 12\n",
      "6 8.0 8 8\n"
     ]
    }
   ],
   "source": [
    "print(10 * 2 ** 2)\n",
    "print(10 + 2 * 2, 10 + 10 / 5, 10 + 10 // 5, 10 + 10 % 4)\n",
    "print(10 - 2 * 2, 10 - 10 / 5, 10 - 10 // 5, 10 - 10 % 4)"
   ]
  },
  {
   "cell_type": "markdown",
   "id": "4ff6ddf4",
   "metadata": {},
   "source": [
    "Приоритет следующий:  \n",
    "** (Возведение в степень)  \n",
    "*, /, //, %\t(Умножение, деление, взятие остатка)  \n",
    "+, - (Сложение и вычитание)\n",
    "\n",
    "Пример: 100 + 10 * 5 ** 2 = 350"
   ]
  },
  {
   "cell_type": "markdown",
   "id": "ba39185e",
   "metadata": {},
   "source": [
    "**Практическое задание**\n",
    "\n",
    "Напишите программу, которая округляет число с плавающей точкой, используя приведение типов."
   ]
  },
  {
   "cell_type": "code",
   "execution_count": 15,
   "id": "f0a48b6e",
   "metadata": {},
   "outputs": [
    {
     "data": {
      "text/plain": [
       "1"
      ]
     },
     "execution_count": 15,
     "metadata": {},
     "output_type": "execute_result"
    }
   ],
   "source": [
    "def round_with_type_conversion(n):\n",
    "    return int(n)\n",
    "\n",
    "round_with_type_conversion(1.7)"
   ]
  },
  {
   "cell_type": "markdown",
   "id": "6f379a8a",
   "metadata": {},
   "source": [
    "**Практическое задание**\n",
    "\n",
    "Напишите функцию XOR (исключающее или) используя операторы and, or, not"
   ]
  },
  {
   "cell_type": "code",
   "execution_count": 20,
   "id": "05f1fba3",
   "metadata": {},
   "outputs": [],
   "source": [
    "def xor(a, b):\n",
    "    \"\"\"Функция XOR (исключающее или) используя операторы and, or, not\"\"\"\n",
    "    return not ((a and b) or (not a and not b))\n",
    "\n",
    "\n",
    "assert xor(True, True) == False\n",
    "assert xor(True, False) == True\n",
    "assert xor(False, True) == True\n",
    "assert xor(False, False) == False"
   ]
  },
  {
   "cell_type": "markdown",
   "id": "e5b498da",
   "metadata": {},
   "source": [
    "**Практическое задание**\n",
    "\n",
    "Напишите программу, которая считает произведение n последовательных натуральных чисел. n задает пользователь.  \n",
    "Например, для `n == 4` произведение будет равно `24`."
   ]
  },
  {
   "cell_type": "code",
   "execution_count": 21,
   "id": "3568ba48",
   "metadata": {},
   "outputs": [],
   "source": [
    "def n_product(n):\n",
    "    \"\"\"Произведение n последовательных натуральных чисел\"\"\"\n",
    "    product = 1\n",
    "    i = 2\n",
    "    while i <= n:\n",
    "        product *= i\n",
    "        i += 1\n",
    "    return product\n",
    "\n",
    "\n",
    "assert n_product(4) == 24\n",
    "assert n_product(5) == 120"
   ]
  },
  {
   "cell_type": "markdown",
   "id": "7887d1ac",
   "metadata": {},
   "source": [
    "**Практическое задание**\n",
    "\n",
    "Напишите программу, которая выводит произведение всех чисел в списке. Например, для списка `[-2, 4, 7]` программа выведет `-56`"
   ]
  },
  {
   "cell_type": "code",
   "execution_count": 23,
   "id": "dcc72e8e",
   "metadata": {},
   "outputs": [],
   "source": [
    "def list_product(input_list):\n",
    "    \"\"\"Произведение всех чисел в списке\"\"\"\n",
    "    product = 1\n",
    "    for i in input_list:\n",
    "        product *= i\n",
    "    return product\n",
    "\n",
    "\n",
    "assert list_product([-2, 4, 7]) == -56"
   ]
  }
 ],
 "metadata": {
  "kernelspec": {
   "display_name": "Python 3",
   "language": "python",
   "name": "python3"
  },
  "language_info": {
   "codemirror_mode": {
    "name": "ipython",
    "version": 3
   },
   "file_extension": ".py",
   "mimetype": "text/x-python",
   "name": "python",
   "nbconvert_exporter": "python",
   "pygments_lexer": "ipython3",
   "version": "3.9.5"
  }
 },
 "nbformat": 4,
 "nbformat_minor": 5
}
